{
 "cells": [
  {
   "cell_type": "markdown",
   "metadata": {},
   "source": [
    "# Определение стоимости автомобиля\n",
    "\n",
    "**Описание проекта:** нужно построить модель для определения стоимости автомобиля по историческим данным (технические характеристики, комплектации и цены автомобилей)."
   ]
  },
  {
   "cell_type": "markdown",
   "metadata": {},
   "source": [
    "# 1. Подготовка данных"
   ]
  },
  {
   "cell_type": "code",
   "execution_count": 1,
   "metadata": {},
   "outputs": [],
   "source": [
    "import pandas as pd\n",
    "import numpy as np\n",
    "import datetime\n",
    "import seaborn as sns\n",
    "import matplotlib.pyplot as plt\n",
    "\n",
    "from sklearn.model_selection import train_test_split\n",
    "from sklearn.preprocessing import OrdinalEncoder, StandardScaler, PolynomialFeatures\n",
    "from sklearn.pipeline import Pipeline\n",
    "from sklearn.metrics import make_scorer, mean_squared_error\n",
    "from sklearn.model_selection import RandomizedSearchCV \n",
    "from sklearn.ensemble import RandomForestRegressor\n",
    "from sklearn.linear_model import LinearRegression\n",
    "from sklearn.linear_model import SGDRegressor\n",
    "import lightgbm as lgbm\n",
    "\n",
    "import warnings\n",
    "warnings.filterwarnings('ignore')\n",
    "warnings.simplefilter('ignore')\n",
    "\n",
    "np.set_printoptions(suppress=True)"
   ]
  },
  {
   "cell_type": "code",
   "execution_count": 2,
   "metadata": {},
   "outputs": [],
   "source": [
    "autos = pd.read_csv(\"/datasets/autos.csv\")"
   ]
  },
  {
   "cell_type": "code",
   "execution_count": 3,
   "metadata": {},
   "outputs": [
    {
     "name": "stdout",
     "output_type": "stream",
     "text": [
      "<class 'pandas.core.frame.DataFrame'>\n",
      "RangeIndex: 354369 entries, 0 to 354368\n",
      "Data columns (total 16 columns):\n",
      "DateCrawled          354369 non-null object\n",
      "Price                354369 non-null int64\n",
      "VehicleType          316879 non-null object\n",
      "RegistrationYear     354369 non-null int64\n",
      "Gearbox              334536 non-null object\n",
      "Power                354369 non-null int64\n",
      "Model                334664 non-null object\n",
      "Kilometer            354369 non-null int64\n",
      "RegistrationMonth    354369 non-null int64\n",
      "FuelType             321474 non-null object\n",
      "Brand                354369 non-null object\n",
      "NotRepaired          283215 non-null object\n",
      "DateCreated          354369 non-null object\n",
      "NumberOfPictures     354369 non-null int64\n",
      "PostalCode           354369 non-null int64\n",
      "LastSeen             354369 non-null object\n",
      "dtypes: int64(7), object(9)\n",
      "memory usage: 43.3+ MB\n"
     ]
    }
   ],
   "source": [
    "autos.info()"
   ]
  },
  {
   "cell_type": "code",
   "execution_count": 4,
   "metadata": {},
   "outputs": [
    {
     "data": {
      "text/html": [
       "<div>\n",
       "<style scoped>\n",
       "    .dataframe tbody tr th:only-of-type {\n",
       "        vertical-align: middle;\n",
       "    }\n",
       "\n",
       "    .dataframe tbody tr th {\n",
       "        vertical-align: top;\n",
       "    }\n",
       "\n",
       "    .dataframe thead th {\n",
       "        text-align: right;\n",
       "    }\n",
       "</style>\n",
       "<table border=\"1\" class=\"dataframe\">\n",
       "  <thead>\n",
       "    <tr style=\"text-align: right;\">\n",
       "      <th></th>\n",
       "      <th>DateCrawled</th>\n",
       "      <th>Price</th>\n",
       "      <th>VehicleType</th>\n",
       "      <th>RegistrationYear</th>\n",
       "      <th>Gearbox</th>\n",
       "      <th>Power</th>\n",
       "      <th>Model</th>\n",
       "      <th>Kilometer</th>\n",
       "      <th>RegistrationMonth</th>\n",
       "      <th>FuelType</th>\n",
       "      <th>Brand</th>\n",
       "      <th>NotRepaired</th>\n",
       "      <th>DateCreated</th>\n",
       "      <th>NumberOfPictures</th>\n",
       "      <th>PostalCode</th>\n",
       "      <th>LastSeen</th>\n",
       "    </tr>\n",
       "  </thead>\n",
       "  <tbody>\n",
       "    <tr>\n",
       "      <td>0</td>\n",
       "      <td>2016-03-24 11:52:17</td>\n",
       "      <td>480</td>\n",
       "      <td>NaN</td>\n",
       "      <td>1993</td>\n",
       "      <td>manual</td>\n",
       "      <td>0</td>\n",
       "      <td>golf</td>\n",
       "      <td>150000</td>\n",
       "      <td>0</td>\n",
       "      <td>petrol</td>\n",
       "      <td>volkswagen</td>\n",
       "      <td>NaN</td>\n",
       "      <td>2016-03-24 00:00:00</td>\n",
       "      <td>0</td>\n",
       "      <td>70435</td>\n",
       "      <td>2016-04-07 03:16:57</td>\n",
       "    </tr>\n",
       "    <tr>\n",
       "      <td>1</td>\n",
       "      <td>2016-03-24 10:58:45</td>\n",
       "      <td>18300</td>\n",
       "      <td>coupe</td>\n",
       "      <td>2011</td>\n",
       "      <td>manual</td>\n",
       "      <td>190</td>\n",
       "      <td>NaN</td>\n",
       "      <td>125000</td>\n",
       "      <td>5</td>\n",
       "      <td>gasoline</td>\n",
       "      <td>audi</td>\n",
       "      <td>yes</td>\n",
       "      <td>2016-03-24 00:00:00</td>\n",
       "      <td>0</td>\n",
       "      <td>66954</td>\n",
       "      <td>2016-04-07 01:46:50</td>\n",
       "    </tr>\n",
       "    <tr>\n",
       "      <td>2</td>\n",
       "      <td>2016-03-14 12:52:21</td>\n",
       "      <td>9800</td>\n",
       "      <td>suv</td>\n",
       "      <td>2004</td>\n",
       "      <td>auto</td>\n",
       "      <td>163</td>\n",
       "      <td>grand</td>\n",
       "      <td>125000</td>\n",
       "      <td>8</td>\n",
       "      <td>gasoline</td>\n",
       "      <td>jeep</td>\n",
       "      <td>NaN</td>\n",
       "      <td>2016-03-14 00:00:00</td>\n",
       "      <td>0</td>\n",
       "      <td>90480</td>\n",
       "      <td>2016-04-05 12:47:46</td>\n",
       "    </tr>\n",
       "    <tr>\n",
       "      <td>3</td>\n",
       "      <td>2016-03-17 16:54:04</td>\n",
       "      <td>1500</td>\n",
       "      <td>small</td>\n",
       "      <td>2001</td>\n",
       "      <td>manual</td>\n",
       "      <td>75</td>\n",
       "      <td>golf</td>\n",
       "      <td>150000</td>\n",
       "      <td>6</td>\n",
       "      <td>petrol</td>\n",
       "      <td>volkswagen</td>\n",
       "      <td>no</td>\n",
       "      <td>2016-03-17 00:00:00</td>\n",
       "      <td>0</td>\n",
       "      <td>91074</td>\n",
       "      <td>2016-03-17 17:40:17</td>\n",
       "    </tr>\n",
       "    <tr>\n",
       "      <td>4</td>\n",
       "      <td>2016-03-31 17:25:20</td>\n",
       "      <td>3600</td>\n",
       "      <td>small</td>\n",
       "      <td>2008</td>\n",
       "      <td>manual</td>\n",
       "      <td>69</td>\n",
       "      <td>fabia</td>\n",
       "      <td>90000</td>\n",
       "      <td>7</td>\n",
       "      <td>gasoline</td>\n",
       "      <td>skoda</td>\n",
       "      <td>no</td>\n",
       "      <td>2016-03-31 00:00:00</td>\n",
       "      <td>0</td>\n",
       "      <td>60437</td>\n",
       "      <td>2016-04-06 10:17:21</td>\n",
       "    </tr>\n",
       "    <tr>\n",
       "      <td>...</td>\n",
       "      <td>...</td>\n",
       "      <td>...</td>\n",
       "      <td>...</td>\n",
       "      <td>...</td>\n",
       "      <td>...</td>\n",
       "      <td>...</td>\n",
       "      <td>...</td>\n",
       "      <td>...</td>\n",
       "      <td>...</td>\n",
       "      <td>...</td>\n",
       "      <td>...</td>\n",
       "      <td>...</td>\n",
       "      <td>...</td>\n",
       "      <td>...</td>\n",
       "      <td>...</td>\n",
       "      <td>...</td>\n",
       "    </tr>\n",
       "    <tr>\n",
       "      <td>354364</td>\n",
       "      <td>2016-03-21 09:50:58</td>\n",
       "      <td>0</td>\n",
       "      <td>NaN</td>\n",
       "      <td>2005</td>\n",
       "      <td>manual</td>\n",
       "      <td>0</td>\n",
       "      <td>colt</td>\n",
       "      <td>150000</td>\n",
       "      <td>7</td>\n",
       "      <td>petrol</td>\n",
       "      <td>mitsubishi</td>\n",
       "      <td>yes</td>\n",
       "      <td>2016-03-21 00:00:00</td>\n",
       "      <td>0</td>\n",
       "      <td>2694</td>\n",
       "      <td>2016-03-21 10:42:49</td>\n",
       "    </tr>\n",
       "    <tr>\n",
       "      <td>354365</td>\n",
       "      <td>2016-03-14 17:48:27</td>\n",
       "      <td>2200</td>\n",
       "      <td>NaN</td>\n",
       "      <td>2005</td>\n",
       "      <td>NaN</td>\n",
       "      <td>0</td>\n",
       "      <td>NaN</td>\n",
       "      <td>20000</td>\n",
       "      <td>1</td>\n",
       "      <td>NaN</td>\n",
       "      <td>sonstige_autos</td>\n",
       "      <td>NaN</td>\n",
       "      <td>2016-03-14 00:00:00</td>\n",
       "      <td>0</td>\n",
       "      <td>39576</td>\n",
       "      <td>2016-04-06 00:46:52</td>\n",
       "    </tr>\n",
       "    <tr>\n",
       "      <td>354366</td>\n",
       "      <td>2016-03-05 19:56:21</td>\n",
       "      <td>1199</td>\n",
       "      <td>convertible</td>\n",
       "      <td>2000</td>\n",
       "      <td>auto</td>\n",
       "      <td>101</td>\n",
       "      <td>fortwo</td>\n",
       "      <td>125000</td>\n",
       "      <td>3</td>\n",
       "      <td>petrol</td>\n",
       "      <td>smart</td>\n",
       "      <td>no</td>\n",
       "      <td>2016-03-05 00:00:00</td>\n",
       "      <td>0</td>\n",
       "      <td>26135</td>\n",
       "      <td>2016-03-11 18:17:12</td>\n",
       "    </tr>\n",
       "    <tr>\n",
       "      <td>354367</td>\n",
       "      <td>2016-03-19 18:57:12</td>\n",
       "      <td>9200</td>\n",
       "      <td>bus</td>\n",
       "      <td>1996</td>\n",
       "      <td>manual</td>\n",
       "      <td>102</td>\n",
       "      <td>transporter</td>\n",
       "      <td>150000</td>\n",
       "      <td>3</td>\n",
       "      <td>gasoline</td>\n",
       "      <td>volkswagen</td>\n",
       "      <td>no</td>\n",
       "      <td>2016-03-19 00:00:00</td>\n",
       "      <td>0</td>\n",
       "      <td>87439</td>\n",
       "      <td>2016-04-07 07:15:26</td>\n",
       "    </tr>\n",
       "    <tr>\n",
       "      <td>354368</td>\n",
       "      <td>2016-03-20 19:41:08</td>\n",
       "      <td>3400</td>\n",
       "      <td>wagon</td>\n",
       "      <td>2002</td>\n",
       "      <td>manual</td>\n",
       "      <td>100</td>\n",
       "      <td>golf</td>\n",
       "      <td>150000</td>\n",
       "      <td>6</td>\n",
       "      <td>gasoline</td>\n",
       "      <td>volkswagen</td>\n",
       "      <td>NaN</td>\n",
       "      <td>2016-03-20 00:00:00</td>\n",
       "      <td>0</td>\n",
       "      <td>40764</td>\n",
       "      <td>2016-03-24 12:45:21</td>\n",
       "    </tr>\n",
       "  </tbody>\n",
       "</table>\n",
       "<p>354369 rows × 16 columns</p>\n",
       "</div>"
      ],
      "text/plain": [
       "                DateCrawled  Price  VehicleType  RegistrationYear Gearbox  \\\n",
       "0       2016-03-24 11:52:17    480          NaN              1993  manual   \n",
       "1       2016-03-24 10:58:45  18300        coupe              2011  manual   \n",
       "2       2016-03-14 12:52:21   9800          suv              2004    auto   \n",
       "3       2016-03-17 16:54:04   1500        small              2001  manual   \n",
       "4       2016-03-31 17:25:20   3600        small              2008  manual   \n",
       "...                     ...    ...          ...               ...     ...   \n",
       "354364  2016-03-21 09:50:58      0          NaN              2005  manual   \n",
       "354365  2016-03-14 17:48:27   2200          NaN              2005     NaN   \n",
       "354366  2016-03-05 19:56:21   1199  convertible              2000    auto   \n",
       "354367  2016-03-19 18:57:12   9200          bus              1996  manual   \n",
       "354368  2016-03-20 19:41:08   3400        wagon              2002  manual   \n",
       "\n",
       "        Power        Model  Kilometer  RegistrationMonth  FuelType  \\\n",
       "0           0         golf     150000                  0    petrol   \n",
       "1         190          NaN     125000                  5  gasoline   \n",
       "2         163        grand     125000                  8  gasoline   \n",
       "3          75         golf     150000                  6    petrol   \n",
       "4          69        fabia      90000                  7  gasoline   \n",
       "...       ...          ...        ...                ...       ...   \n",
       "354364      0         colt     150000                  7    petrol   \n",
       "354365      0          NaN      20000                  1       NaN   \n",
       "354366    101       fortwo     125000                  3    petrol   \n",
       "354367    102  transporter     150000                  3  gasoline   \n",
       "354368    100         golf     150000                  6  gasoline   \n",
       "\n",
       "                 Brand NotRepaired          DateCreated  NumberOfPictures  \\\n",
       "0           volkswagen         NaN  2016-03-24 00:00:00                 0   \n",
       "1                 audi         yes  2016-03-24 00:00:00                 0   \n",
       "2                 jeep         NaN  2016-03-14 00:00:00                 0   \n",
       "3           volkswagen          no  2016-03-17 00:00:00                 0   \n",
       "4                skoda          no  2016-03-31 00:00:00                 0   \n",
       "...                ...         ...                  ...               ...   \n",
       "354364      mitsubishi         yes  2016-03-21 00:00:00                 0   \n",
       "354365  sonstige_autos         NaN  2016-03-14 00:00:00                 0   \n",
       "354366           smart          no  2016-03-05 00:00:00                 0   \n",
       "354367      volkswagen          no  2016-03-19 00:00:00                 0   \n",
       "354368      volkswagen         NaN  2016-03-20 00:00:00                 0   \n",
       "\n",
       "        PostalCode             LastSeen  \n",
       "0            70435  2016-04-07 03:16:57  \n",
       "1            66954  2016-04-07 01:46:50  \n",
       "2            90480  2016-04-05 12:47:46  \n",
       "3            91074  2016-03-17 17:40:17  \n",
       "4            60437  2016-04-06 10:17:21  \n",
       "...            ...                  ...  \n",
       "354364        2694  2016-03-21 10:42:49  \n",
       "354365       39576  2016-04-06 00:46:52  \n",
       "354366       26135  2016-03-11 18:17:12  \n",
       "354367       87439  2016-04-07 07:15:26  \n",
       "354368       40764  2016-03-24 12:45:21  \n",
       "\n",
       "[354369 rows x 16 columns]"
      ]
     },
     "execution_count": 4,
     "metadata": {},
     "output_type": "execute_result"
    }
   ],
   "source": [
    "autos"
   ]
  },
  {
   "cell_type": "markdown",
   "metadata": {},
   "source": [
    "Всего в датасете 354 369 объектов, каждый из которых соответствует одной анкете, и 16 признаков. Часть признаков вряд ли имеют предсказательную ценность в модели, однако могут пригодиться на этапе исследования данных:\n",
    "- **DateCrawled** (дата выгрузки объявления) может использоваться для выявления проблем с выгрузкой и объяснения пропусков, ошибок в данных;\n",
    "- **RegistrationMonth** (месяц регистрации автомобиля) в данном исследовании не пригодится, поэтому исключим его из датасета;\n",
    "- **DateCreated** (дата создания анкеты) и **LastSeen** (дата последней активности пользователя) могут подсказать как долго продавалась машина, однако в данном исследовании не имеют значения;\n",
    "- **PostalCode** (почтовый индекс пользователя) может быть использован для определения города, однако для использования в модели требует преобразований в категориальный признак (названия городов возможно придется подтягивать по api). \n",
    "\n",
    "Удалим перечисленные признаки из датасета после проведения исследования.\n",
    "\n",
    "Среди признаков есть как числовые, так и категориальные. Категориальные признаки необходимо преобразовать. Для ```LinearRegression``` подойдет метод \"one hot encoding\". ```LightGBM```и ```RandomForestRegressor``` работают с категориальными признаками напрямую если категории представлены числами, поэтому перед обучением применим метод порядкового кодирования (\"ordinal encoder\") и изменим типы данных. \n",
    "\n",
    "Значения числовых признаков будут стандартизированны при подготовке выборок. Преобразование типов необходимо только для дат."
   ]
  },
  {
   "cell_type": "code",
   "execution_count": 5,
   "metadata": {},
   "outputs": [],
   "source": [
    "# преобразуем типы данных\n",
    "autos['DateCrawled'] = pd.to_datetime(autos['DateCrawled'])\n",
    "autos['DateCreated'] = pd.to_datetime(autos['DateCreated'])\n",
    "autos['LastSeen'] = pd.to_datetime(autos['LastSeen'])"
   ]
  },
  {
   "cell_type": "markdown",
   "metadata": {},
   "source": [
    "Исследуем дескриптивные статистики на предмет ошибочных значений и для общего ознакомления с данными."
   ]
  },
  {
   "cell_type": "code",
   "execution_count": 6,
   "metadata": {},
   "outputs": [
    {
     "data": {
      "text/html": [
       "<div>\n",
       "<style scoped>\n",
       "    .dataframe tbody tr th:only-of-type {\n",
       "        vertical-align: middle;\n",
       "    }\n",
       "\n",
       "    .dataframe tbody tr th {\n",
       "        vertical-align: top;\n",
       "    }\n",
       "\n",
       "    .dataframe thead th {\n",
       "        text-align: right;\n",
       "    }\n",
       "</style>\n",
       "<table border=\"1\" class=\"dataframe\">\n",
       "  <thead>\n",
       "    <tr style=\"text-align: right;\">\n",
       "      <th></th>\n",
       "      <th>Price</th>\n",
       "      <th>RegistrationYear</th>\n",
       "      <th>Power</th>\n",
       "      <th>Kilometer</th>\n",
       "      <th>RegistrationMonth</th>\n",
       "      <th>NumberOfPictures</th>\n",
       "      <th>PostalCode</th>\n",
       "    </tr>\n",
       "  </thead>\n",
       "  <tbody>\n",
       "    <tr>\n",
       "      <td>count</td>\n",
       "      <td>354369.000000</td>\n",
       "      <td>354369.000000</td>\n",
       "      <td>354369.000000</td>\n",
       "      <td>354369.000000</td>\n",
       "      <td>354369.000000</td>\n",
       "      <td>354369.0</td>\n",
       "      <td>354369.000000</td>\n",
       "    </tr>\n",
       "    <tr>\n",
       "      <td>mean</td>\n",
       "      <td>4416.656776</td>\n",
       "      <td>2004.234448</td>\n",
       "      <td>110.094337</td>\n",
       "      <td>128211.172535</td>\n",
       "      <td>5.714645</td>\n",
       "      <td>0.0</td>\n",
       "      <td>50508.689087</td>\n",
       "    </tr>\n",
       "    <tr>\n",
       "      <td>std</td>\n",
       "      <td>4514.158514</td>\n",
       "      <td>90.227958</td>\n",
       "      <td>189.850405</td>\n",
       "      <td>37905.341530</td>\n",
       "      <td>3.726421</td>\n",
       "      <td>0.0</td>\n",
       "      <td>25783.096248</td>\n",
       "    </tr>\n",
       "    <tr>\n",
       "      <td>min</td>\n",
       "      <td>0.000000</td>\n",
       "      <td>1000.000000</td>\n",
       "      <td>0.000000</td>\n",
       "      <td>5000.000000</td>\n",
       "      <td>0.000000</td>\n",
       "      <td>0.0</td>\n",
       "      <td>1067.000000</td>\n",
       "    </tr>\n",
       "    <tr>\n",
       "      <td>25%</td>\n",
       "      <td>1050.000000</td>\n",
       "      <td>1999.000000</td>\n",
       "      <td>69.000000</td>\n",
       "      <td>125000.000000</td>\n",
       "      <td>3.000000</td>\n",
       "      <td>0.0</td>\n",
       "      <td>30165.000000</td>\n",
       "    </tr>\n",
       "    <tr>\n",
       "      <td>50%</td>\n",
       "      <td>2700.000000</td>\n",
       "      <td>2003.000000</td>\n",
       "      <td>105.000000</td>\n",
       "      <td>150000.000000</td>\n",
       "      <td>6.000000</td>\n",
       "      <td>0.0</td>\n",
       "      <td>49413.000000</td>\n",
       "    </tr>\n",
       "    <tr>\n",
       "      <td>75%</td>\n",
       "      <td>6400.000000</td>\n",
       "      <td>2008.000000</td>\n",
       "      <td>143.000000</td>\n",
       "      <td>150000.000000</td>\n",
       "      <td>9.000000</td>\n",
       "      <td>0.0</td>\n",
       "      <td>71083.000000</td>\n",
       "    </tr>\n",
       "    <tr>\n",
       "      <td>max</td>\n",
       "      <td>20000.000000</td>\n",
       "      <td>9999.000000</td>\n",
       "      <td>20000.000000</td>\n",
       "      <td>150000.000000</td>\n",
       "      <td>12.000000</td>\n",
       "      <td>0.0</td>\n",
       "      <td>99998.000000</td>\n",
       "    </tr>\n",
       "  </tbody>\n",
       "</table>\n",
       "</div>"
      ],
      "text/plain": [
       "               Price  RegistrationYear          Power      Kilometer  \\\n",
       "count  354369.000000     354369.000000  354369.000000  354369.000000   \n",
       "mean     4416.656776       2004.234448     110.094337  128211.172535   \n",
       "std      4514.158514         90.227958     189.850405   37905.341530   \n",
       "min         0.000000       1000.000000       0.000000    5000.000000   \n",
       "25%      1050.000000       1999.000000      69.000000  125000.000000   \n",
       "50%      2700.000000       2003.000000     105.000000  150000.000000   \n",
       "75%      6400.000000       2008.000000     143.000000  150000.000000   \n",
       "max     20000.000000       9999.000000   20000.000000  150000.000000   \n",
       "\n",
       "       RegistrationMonth  NumberOfPictures     PostalCode  \n",
       "count      354369.000000          354369.0  354369.000000  \n",
       "mean            5.714645               0.0   50508.689087  \n",
       "std             3.726421               0.0   25783.096248  \n",
       "min             0.000000               0.0    1067.000000  \n",
       "25%             3.000000               0.0   30165.000000  \n",
       "50%             6.000000               0.0   49413.000000  \n",
       "75%             9.000000               0.0   71083.000000  \n",
       "max            12.000000               0.0   99998.000000  "
      ]
     },
     "execution_count": 6,
     "metadata": {},
     "output_type": "execute_result"
    }
   ],
   "source": [
    "autos.describe()"
   ]
  },
  {
   "cell_type": "markdown",
   "metadata": {},
   "source": [
    "### Price\n",
    "По таблице с описательными статистиками, а именно межквартильному размаху, можно заключить что большинство продаваемых на платформе автомобилей имеют стоимость от 1050 до 6400 евро. Медиана располагается левее среднего (разница почти 1700 евро), что говорит о правосторонней асимметрии, распределение визуально напоминает логонормальное. Данный признак является целевым, поэтому его распределение наиболее важно для подбора модели регрессии. Логонормальное распределение означает, что логарифм значений признака распределен нормально т.е. можно сказать что это вариант нормального распределения. Можно преобразовать логонормальное распределение в нормальное, но, на сколько понимаю, в данном случае это не обязательно."
   ]
  },
  {
   "cell_type": "code",
   "execution_count": 7,
   "metadata": {},
   "outputs": [],
   "source": [
    "def group_hist_boxplot(data, color):\n",
    "    fig = plt.figure(figsize=(10, 5))\n",
    "    gs = fig.add_gridspec(3, 1)\n",
    "    ax = fig.add_subplot(gs[:2, 0])\n",
    "    ax.set_ylabel('Частота', fontsize=12)\n",
    "    sns.distplot(data, ax=ax, color=color, kde=False)\n",
    "    ax2 = fig.add_subplot(gs[2, 0])\n",
    "    sns.boxplot(data, ax=ax2, width=0.5, color=color)\n",
    "    fig.tight_layout()\n",
    "    return ax"
   ]
  },
  {
   "cell_type": "code",
   "execution_count": 8,
   "metadata": {},
   "outputs": [
    {
     "data": {
      "image/png": "[encoded data removed]",
      "text/plain": [
       "<Figure size 720x360 with 2 Axes>"
      ]
     },
     "metadata": {},
     "output_type": "display_data"
    }
   ],
   "source": [
    "with sns.axes_style(\"darkgrid\"):\n",
    "    ax = group_hist_boxplot(autos['Price'], \"red\")\n",
    "    ax.set_title('Распределенее значений признака \"Price\"', size=14, pad=15)\n",
    "\n",
    "plt.show()"
   ]
  },
  {
   "cell_type": "markdown",
   "metadata": {},
   "source": [
    "Есть объекты стоимостью 0 евро, что является невозможным (ошибочным) или может быть интерпретировано как пропущенное значение. Так как данный признак является целевым, пропуски в нем недопустимы. Цены ниже 50 евро в Европе гипотетически возможны для старых машин, так как у них высокие налоги на выработку CO2 и дорогая утилизация (поэтому они могут стремиться скорее избавиться от такого автомобиля). Из-за этого, в некоторых случаях, рыночная стоимость может быть специфичной — то что в Европе может стоить 50 евро в России может стоить до 1 тыс. евро (или в каких-нибудь развивающихся странах, где не особо озабочены экологией)."
   ]
  },
  {
   "cell_type": "code",
   "execution_count": 9,
   "metadata": {},
   "outputs": [
    {
     "name": "stdout",
     "output_type": "stream",
     "text": [
      "Кол-во объектов до удаления: 354369\n",
      "Кол-во объектов после удаления: 343597\n"
     ]
    }
   ],
   "source": [
    "# удалим нули в целевом признаке\n",
    "print(\"Кол-во объектов до удаления:\", autos.shape[0])\n",
    "autos = autos.drop(autos[autos['Price'] == 0].index\n",
    "                  ).reset_index(drop=True)\n",
    "print(\"Кол-во объектов после удаления:\", autos.shape[0])"
   ]
  },
  {
   "cell_type": "markdown",
   "metadata": {},
   "source": [
    "### RegistrationYear\n",
    "Чаще всего пользователи продают автомобили 1999-2008 гг. Подозрительно выглядит стандартное отклонение в 90 лет, наличие автомобилей 1000 и 9999 годов. Данные значения являются невозможными (ошибочными).\n",
    "\n",
    "Обычно на стоимость автомобилей влияет время эксплуатации. Это подтверждается жизненным опытом — новые автомобили чаще стоят дороже, а старые (не коллекционные) дешевле. Год регистрации также влияет и на другие признаки. Например, мощность двигателя, тип коробки передач или потребляемого топлива. Получается, что данные не являются полностью независимыми, имеет место автокорреляция (?).\n",
    "\n",
    "Рассмотрим как изменяется стоимость автомобилей в зависимости от года его регистрации."
   ]
  },
  {
   "cell_type": "code",
   "execution_count": 10,
   "metadata": {},
   "outputs": [
    {
     "data": {
      "image/png": "[encoded data removed]",
      "text/plain": [
       "<Figure size 792x360 with 1 Axes>"
      ]
     },
     "metadata": {},
     "output_type": "display_data"
    }
   ],
   "source": [
    "with sns.axes_style(\"darkgrid\"):\n",
    "    fig = plt.figure(figsize=(11, 5))\n",
    "    ax = sns.lineplot(data=autos.pivot_table(\n",
    "        index='RegistrationYear', values='Price', aggfunc=\"mean\"))\n",
    "    ax.set_title('Динамика стоимости автомобилей по году регистрации', size=14, pad=15)\n",
    "    ax.set_ylabel('Price', fontsize=12)"
   ]
  },
  {
   "cell_type": "markdown",
   "metadata": {},
   "source": [
    "По диаграмме видно, что в признаке **RegistrationYear** большое количество некорректных данных которые необходимо исключить их из датасета. Нижнюю границу, предварительно, установим в районе 1980 года, а верхнюю определим по году создания объявления (автомобиль не может быть зарегистрирован позже, чем размещено объявление)."
   ]
  },
  {
   "cell_type": "code",
   "execution_count": 11,
   "metadata": {},
   "outputs": [
    {
     "name": "stdout",
     "output_type": "stream",
     "text": [
      "Кол-во объектов до удаления: 343597\n",
      "Кол-во объектов после удаления: 326652\n"
     ]
    }
   ],
   "source": [
    "# удалим объекты в которых год регистрации ниже 1980 или больше года публикации объявления\n",
    "print(\"Кол-во объектов до удаления:\", autos.shape[0])\n",
    "autos = autos.drop(autos[(autos['RegistrationYear'] < 1980) |\n",
    "                         (autos['RegistrationYear'] > \n",
    "                          autos['DateCreated'].dt.year)].index\n",
    "                  ).reset_index(drop=True)\n",
    "print(\"Кол-во объектов после удаления:\", autos.shape[0])"
   ]
  },
  {
   "cell_type": "markdown",
   "metadata": {},
   "source": [
    "Повторно рассмотрим динамику стоимости автомобилей по году регистрации."
   ]
  },
  {
   "cell_type": "code",
   "execution_count": 12,
   "metadata": {},
   "outputs": [
    {
     "data": {
      "image/png": "[encoded data removed]",
      "text/plain": [
       "<Figure size 792x360 with 1 Axes>"
      ]
     },
     "metadata": {},
     "output_type": "display_data"
    }
   ],
   "source": [
    "with sns.axes_style(\"darkgrid\"):\n",
    "    fig = plt.figure(figsize=(11, 5))\n",
    "    ax = sns.lineplot(data=autos.pivot_table(\n",
    "        index='RegistrationYear', values='Price', aggfunc=\"median\"))\n",
    "    ax.set_title('Динамика стоимости автомобилей по году регистрации', size=14, pad=15)\n",
    "    ax.set_ylabel('Price', fontsize=12)"
   ]
  },
  {
   "cell_type": "markdown",
   "metadata": {},
   "source": [
    "Теперь данные выглядят реалистичнее, хотя \"холм\" в период 1980-1995 гг выглядит странно. Рассмотрим распределение при помощи гистограммы и \"ящика с усами\".  "
   ]
  },
  {
   "cell_type": "code",
   "execution_count": 13,
   "metadata": {},
   "outputs": [
    {
     "data": {
      "image/png": "[encoded data removed]",
      "text/plain": [
       "<Figure size 720x360 with 2 Axes>"
      ]
     },
     "metadata": {},
     "output_type": "display_data"
    }
   ],
   "source": [
    "with sns.axes_style(\"darkgrid\"):\n",
    "    ax = group_hist_boxplot(autos['RegistrationYear'], \"blue\")\n",
    "    ax.set_title('Распределенее значений признака \"RegistrationYear\"', size=14, pad=15)\n",
    "\n",
    "plt.show()"
   ]
  },
  {
   "cell_type": "markdown",
   "metadata": {},
   "source": [
    "### Power\n",
    "В среднем мощность продаваемых авто составляет 110 л.с (лошадиных сил). Встречаются невозможные (ошибочные значения): есть автомобили с мощностью двигателя 0 и 20 000 л.с. Нули могут означать пропуски. Максимальный порог установим в 500 л.с., свыше уже идут суперкары, которые вряд ли будут стоить 20 тыс. евро (даже будучи в прошлом битыми). Минимальный порог установить сложнее, так как машины мощностью до 50 л.с. это либо электрокары, либо коллекционные ретро автомобили (которые, скорее всего, также будут стоить дороже 20 тыс. евро). Необходимо учесть это в фильтре."
   ]
  },
  {
   "cell_type": "code",
   "execution_count": 14,
   "metadata": {},
   "outputs": [
    {
     "name": "stdout",
     "output_type": "stream",
     "text": [
      "Кол-во объектов до удаления: 326652\n",
      "Кол-во объектов после удаления: 293492\n"
     ]
    }
   ],
   "source": [
    "# удалим объекты в которых мощность меньше 39 л.с. или выше 500 л.с.\n",
    "print(\"Кол-во объектов до удаления:\", autos.shape[0])\n",
    "autos = autos.drop(autos[(autos['Power'] > 500) |\n",
    "                         (autos['Power'] == 0) |\n",
    "                         (autos['Power'] < 39) & \n",
    "                         ~(autos['FuelType'] == 'electric')].index\n",
    "                  ).reset_index(drop=True)\n",
    "print(\"Кол-во объектов после удаления:\", autos.shape[0])"
   ]
  },
  {
   "cell_type": "code",
   "execution_count": 15,
   "metadata": {},
   "outputs": [
    {
     "data": {
      "image/png": "[encoded data removed]",
      "text/plain": [
       "<Figure size 720x360 with 2 Axes>"
      ]
     },
     "metadata": {},
     "output_type": "display_data"
    }
   ],
   "source": [
    "with sns.axes_style(\"darkgrid\"):\n",
    "    ax = group_hist_boxplot(autos['Power'], \"green\")\n",
    "    ax.set_title('Распределенее значений признака \"Power\"', size=14, pad=15)\n",
    "\n",
    "plt.show()"
   ]
  },
  {
   "cell_type": "markdown",
   "metadata": {},
   "source": [
    "### Kilometer\n",
    "Более половины автомобилей имеют пробег 150 000. Это может быть объяснено тем, что в анкете это поле пользователи вводили не самостоятельно, а выбирали варианты из выпадающего списка (например). Вариант 150 000 был максимальным возможным в этом списке."
   ]
  },
  {
   "cell_type": "markdown",
   "metadata": {},
   "source": [
    "### RegistrationMonth\n",
    "Месяц регистрации автомобиля в данном исследовании нам не понадобится, так как не имеет никакой связи со стоимостью. Данный признак будет удален.\n",
    "\n",
    "### NumberOfPictures\n",
    "Количество фотографий автомобиля в каждой из анкет равно нулю. Данный признак не представляет интереса для дальнейшего моделирования, поэтому он будет исключен из датасета.\n",
    "\n",
    "### PostalCode\n",
    "Почтовый индекс пользователя сам по себе не может быть использован в модели, так как будет воспринят ей как числовой признак. После проверки индексов было выяснено, что один и тот же индекс может принадлежать разным городам и странам, поэтому по нему не получится выяснить точную локацию. Данный признак будет исключен из датасета.\n",
    "\n",
    "Теперь исследуем категориальные признаки."
   ]
  },
  {
   "cell_type": "code",
   "execution_count": 16,
   "metadata": {},
   "outputs": [],
   "source": [
    "def plotting_bars(data, index, color):\n",
    "    ptable = pd.DataFrame(data.pivot_table(index=index, aggfunc=\"size\"\n",
    "                                          ).sort_values(ascending=False)\n",
    "                         ).head(10)\n",
    "    ptable.columns = ['count']\n",
    "    with sns.axes_style(\"darkgrid\"):\n",
    "        sns.barplot(x='count', y=ptable.index, color=color,\n",
    "                    alpha=.5, data=ptable)"
   ]
  },
  {
   "cell_type": "markdown",
   "metadata": {},
   "source": [
    "### VehicleType"
   ]
  },
  {
   "cell_type": "code",
   "execution_count": 17,
   "metadata": {},
   "outputs": [
    {
     "data": {
      "image/png": "[encoded data removed]",
      "text/plain": [
       "<Figure size 432x288 with 1 Axes>"
      ]
     },
     "metadata": {},
     "output_type": "display_data"
    }
   ],
   "source": [
    "plotting_bars(autos, 'VehicleType', 'blue')"
   ]
  },
  {
   "cell_type": "markdown",
   "metadata": {},
   "source": [
    "Среди всех представленных на платформе автомобилей наиболее популярными являются седаны, xэтчбеки (возможно small) и универсалы. Всего данный признак объединяет восемь классов."
   ]
  },
  {
   "cell_type": "markdown",
   "metadata": {},
   "source": [
    "### Gearbox"
   ]
  },
  {
   "cell_type": "code",
   "execution_count": 18,
   "metadata": {},
   "outputs": [
    {
     "data": {
      "image/png": "[encoded data removed]",
      "text/plain": [
       "<Figure size 432x288 with 1 Axes>"
      ]
     },
     "metadata": {},
     "output_type": "display_data"
    }
   ],
   "source": [
    "plotting_bars(autos, 'Gearbox', 'green')"
   ]
  },
  {
   "cell_type": "markdown",
   "metadata": {},
   "source": [
    "Всего два варианта коробки передач — автоматическая и механическая."
   ]
  },
  {
   "cell_type": "markdown",
   "metadata": {},
   "source": [
    "### FuelType"
   ]
  },
  {
   "cell_type": "code",
   "execution_count": 19,
   "metadata": {},
   "outputs": [
    {
     "data": {
      "image/png": "[encoded data removed]",
      "text/plain": [
       "<Figure size 432x288 with 1 Axes>"
      ]
     },
     "metadata": {},
     "output_type": "display_data"
    }
   ],
   "source": [
    "plotting_bars(autos, 'FuelType', 'yellow')"
   ]
  },
  {
   "cell_type": "markdown",
   "metadata": {},
   "source": [
    "В данной категории семь классов. Наиболее популярными являются \"petrol\" и \"gasoline\", что в сущности означает одно и тоже — бензин. Первое название чаще используется в Европе, а второе в США и Канаде. Это может означать, что на платформе представлены автомобили из разных регионов, а значит цены на одни и те же автомобили могут заметно отличаться. По этой причине данные категории не будут объединяться в одну."
   ]
  },
  {
   "cell_type": "markdown",
   "metadata": {},
   "source": [
    "### Brand & Model"
   ]
  },
  {
   "cell_type": "code",
   "execution_count": 20,
   "metadata": {},
   "outputs": [
    {
     "data": {
      "image/png": "[encoded data removed]",
      "text/plain": [
       "<Figure size 432x288 with 1 Axes>"
      ]
     },
     "metadata": {},
     "output_type": "display_data"
    }
   ],
   "source": [
    "plotting_bars(autos, 'Brand', 'red')"
   ]
  },
  {
   "cell_type": "code",
   "execution_count": 21,
   "metadata": {},
   "outputs": [
    {
     "data": {
      "image/png": "[encoded data removed]",
      "text/plain": [
       "<Figure size 432x288 with 1 Axes>"
      ]
     },
     "metadata": {},
     "output_type": "display_data"
    }
   ],
   "source": [
    "plotting_bars(autos, 'Model', 'purple')"
   ]
  },
  {
   "cell_type": "markdown",
   "metadata": {},
   "source": [
    "По данным анкет получилось 40 уникальных брендов и 248 моделей. На диаграмме представлено десять наиболее популярных. Первое место, с большим отрывом, занимает 'volkswagen golf'."
   ]
  },
  {
   "cell_type": "markdown",
   "metadata": {},
   "source": [
    "### NotRepaired"
   ]
  },
  {
   "cell_type": "code",
   "execution_count": 22,
   "metadata": {},
   "outputs": [
    {
     "data": {
      "image/png": "[encoded data removed]",
      "text/plain": [
       "<Figure size 432x288 with 1 Axes>"
      ]
     },
     "metadata": {},
     "output_type": "display_data"
    }
   ],
   "source": [
    "plotting_bars(autos, 'NotRepaired', 'orange')"
   ]
  },
  {
   "cell_type": "markdown",
   "metadata": {},
   "source": [
    "Только малая часть пользователей указали, что их автомобиль был в ремонте."
   ]
  },
  {
   "cell_type": "markdown",
   "metadata": {},
   "source": [
    "### Анализ пропущенных значений\n",
    "В данных имеются пропущенные значения. Посчитаем их, попытаемся объяснить их природу (случайные/неслучайные), возможные причины, а также определим способы заполнения пропусков."
   ]
  },
  {
   "cell_type": "code",
   "execution_count": 23,
   "metadata": {},
   "outputs": [],
   "source": [
    "def na_info(data):\n",
    "    result = pd.DataFrame(columns=['column_with_na', 'count_na', 'part_of_total']) \n",
    "    \n",
    "    for column in data.columns:\n",
    "        if data[column].isna().sum() > 0:\n",
    "            result = result.append({'column_with_na': column,\n",
    "                                    'count_na': data[column].isna().sum(),\n",
    "                                    'part_of_total': (data[column].isna().sum()\n",
    "                                                      / data.shape[0])\n",
    "                                   }, ignore_index=True) \n",
    "\n",
    "    result.index = range(1, len(result['column_with_na']) + 1)\n",
    "    result = result.style.format({'part_of_total': \"{:.2%}\"})\n",
    "\n",
    "    return result"
   ]
  },
  {
   "cell_type": "code",
   "execution_count": 24,
   "metadata": {},
   "outputs": [
    {
     "data": {
      "text/html": [
       "<style  type=\"text/css\" >\n",
       "</style><table id=\"T_a4718276_b4be_11ea_a949_02420a39ddb3\" ><thead>    <tr>        <th class=\"blank level0\" ></th>        <th class=\"col_heading level0 col0\" >column_with_na</th>        <th class=\"col_heading level0 col1\" >count_na</th>        <th class=\"col_heading level0 col2\" >part_of_total</th>    </tr></thead><tbody>\n",
       "                <tr>\n",
       "                        <th id=\"T_a4718276_b4be_11ea_a949_02420a39ddb3level0_row0\" class=\"row_heading level0 row0\" >1</th>\n",
       "                        <td id=\"T_a4718276_b4be_11ea_a949_02420a39ddb3row0_col0\" class=\"data row0 col0\" >VehicleType</td>\n",
       "                        <td id=\"T_a4718276_b4be_11ea_a949_02420a39ddb3row0_col1\" class=\"data row0 col1\" >10915</td>\n",
       "                        <td id=\"T_a4718276_b4be_11ea_a949_02420a39ddb3row0_col2\" class=\"data row0 col2\" >3.72%</td>\n",
       "            </tr>\n",
       "            <tr>\n",
       "                        <th id=\"T_a4718276_b4be_11ea_a949_02420a39ddb3level0_row1\" class=\"row_heading level0 row1\" >2</th>\n",
       "                        <td id=\"T_a4718276_b4be_11ea_a949_02420a39ddb3row1_col0\" class=\"data row1 col0\" >Gearbox</td>\n",
       "                        <td id=\"T_a4718276_b4be_11ea_a949_02420a39ddb3row1_col1\" class=\"data row1 col1\" >5230</td>\n",
       "                        <td id=\"T_a4718276_b4be_11ea_a949_02420a39ddb3row1_col2\" class=\"data row1 col2\" >1.78%</td>\n",
       "            </tr>\n",
       "            <tr>\n",
       "                        <th id=\"T_a4718276_b4be_11ea_a949_02420a39ddb3level0_row2\" class=\"row_heading level0 row2\" >3</th>\n",
       "                        <td id=\"T_a4718276_b4be_11ea_a949_02420a39ddb3row2_col0\" class=\"data row2 col0\" >Model</td>\n",
       "                        <td id=\"T_a4718276_b4be_11ea_a949_02420a39ddb3row2_col1\" class=\"data row2 col1\" >10534</td>\n",
       "                        <td id=\"T_a4718276_b4be_11ea_a949_02420a39ddb3row2_col2\" class=\"data row2 col2\" >3.59%</td>\n",
       "            </tr>\n",
       "            <tr>\n",
       "                        <th id=\"T_a4718276_b4be_11ea_a949_02420a39ddb3level0_row3\" class=\"row_heading level0 row3\" >4</th>\n",
       "                        <td id=\"T_a4718276_b4be_11ea_a949_02420a39ddb3row3_col0\" class=\"data row3 col0\" >FuelType</td>\n",
       "                        <td id=\"T_a4718276_b4be_11ea_a949_02420a39ddb3row3_col1\" class=\"data row3 col1\" >15314</td>\n",
       "                        <td id=\"T_a4718276_b4be_11ea_a949_02420a39ddb3row3_col2\" class=\"data row3 col2\" >5.22%</td>\n",
       "            </tr>\n",
       "            <tr>\n",
       "                        <th id=\"T_a4718276_b4be_11ea_a949_02420a39ddb3level0_row4\" class=\"row_heading level0 row4\" >5</th>\n",
       "                        <td id=\"T_a4718276_b4be_11ea_a949_02420a39ddb3row4_col0\" class=\"data row4 col0\" >NotRepaired</td>\n",
       "                        <td id=\"T_a4718276_b4be_11ea_a949_02420a39ddb3row4_col1\" class=\"data row4 col1\" >42308</td>\n",
       "                        <td id=\"T_a4718276_b4be_11ea_a949_02420a39ddb3row4_col2\" class=\"data row4 col2\" >14.42%</td>\n",
       "            </tr>\n",
       "    </tbody></table>"
      ],
      "text/plain": [
       "<pandas.io.formats.style.Styler at 0x7fc208c0ac10>"
      ]
     },
     "execution_count": 24,
     "metadata": {},
     "output_type": "execute_result"
    }
   ],
   "source": [
    "na_info(autos)"
   ]
  },
  {
   "cell_type": "markdown",
   "metadata": {},
   "source": [
    "Пропущенные значения есть в пяти категориальных признаках.\n",
    "\n",
    "Больше всего пропусков (14% от общей выборки) содержится в признаке **NotRepaired**. Пропуски по данному полю скорее всего неслучайные — пользователи могли сознательно опустить данный факт из страха, что им будет сложнее продать машину. Исходя из этого предполагаю, что пропуск скорее означает \"yes\", чем \"no\". Остальные пропуски связаны с модельными характеристиками автомобиля — название модели, тип кузова, тип топлива и тип коробки передач. Если в первом случае мы можем решить проблему создав еще одну категорию, то во втором случае категорий гораздо больше и точно восстановить их проблематично. Возможно правильнее будет попросту исключить их из датасета или заменить модами.\n",
    "\n",
    "### Предобработка"
   ]
  },
  {
   "cell_type": "code",
   "execution_count": 25,
   "metadata": {},
   "outputs": [],
   "source": [
    "# создадим еще одну категорию для пропущенных значений\n",
    "autos['NotRepaired'].fillna(\"not_specified\", inplace=True)"
   ]
  },
  {
   "cell_type": "code",
   "execution_count": 26,
   "metadata": {},
   "outputs": [],
   "source": [
    "# заменим модами пропуски в остальных признаках\n",
    "autos['VehicleType'].fillna(autos['VehicleType'].mode()[0], inplace=True)\n",
    "autos['Gearbox'].fillna(autos['Gearbox'].mode()[0], inplace=True)\n",
    "autos['Model'].fillna(autos['Model'].mode()[0], inplace=True)\n",
    "autos['FuelType'].fillna(autos['FuelType'].mode()[0], inplace=True)"
   ]
  },
  {
   "cell_type": "markdown",
   "metadata": {},
   "source": [
    "Проверим есть ли полные дубликаты строк (объектов) и при необходимости избавимся от них."
   ]
  },
  {
   "cell_type": "code",
   "execution_count": 27,
   "metadata": {},
   "outputs": [
    {
     "name": "stdout",
     "output_type": "stream",
     "text": [
      "Количество полных дубликатов строк: 4\n"
     ]
    }
   ],
   "source": [
    "print(f\"Количество полных дубликатов строк: {autos.duplicated().sum()}\")"
   ]
  },
  {
   "cell_type": "code",
   "execution_count": 28,
   "metadata": {},
   "outputs": [],
   "source": [
    "# удалим полные дубликаты строк\n",
    "autos = autos.drop_duplicates().reset_index(drop=True)"
   ]
  },
  {
   "cell_type": "markdown",
   "metadata": {},
   "source": [
    "Исключим из датасетов неинформативные признаки."
   ]
  },
  {
   "cell_type": "code",
   "execution_count": 29,
   "metadata": {},
   "outputs": [],
   "source": [
    "autos = autos.drop(columns=['DateCrawled', 'RegistrationMonth', 'DateCreated',\n",
    "                            'LastSeen', 'PostalCode', 'NumberOfPictures'])"
   ]
  },
  {
   "cell_type": "markdown",
   "metadata": {},
   "source": [
    "Закодируем категориальные признаки двумя способами — методом прямого кодирования для линейной регрессии и методом порядкового кодирования для остальных сравниваемых моделей."
   ]
  },
  {
   "cell_type": "code",
   "execution_count": 30,
   "metadata": {},
   "outputs": [],
   "source": [
    "autos_oe = pd.DataFrame.copy(autos)"
   ]
  },
  {
   "cell_type": "code",
   "execution_count": 31,
   "metadata": {},
   "outputs": [],
   "source": [
    "category = autos.select_dtypes(\"object\").columns"
   ]
  },
  {
   "cell_type": "code",
   "execution_count": 32,
   "metadata": {},
   "outputs": [],
   "source": [
    "# порядковое кодирование\n",
    "for col in category:\n",
    "    autos_oe[col] = OrdinalEncoder(dtype=int).fit_transform(autos_oe[[col]])"
   ]
  },
  {
   "cell_type": "code",
   "execution_count": 33,
   "metadata": {},
   "outputs": [],
   "source": [
    "autos_oe.loc[:, category] = autos_oe.loc[:, category].astype(\"category\")"
   ]
  },
  {
   "cell_type": "code",
   "execution_count": 34,
   "metadata": {},
   "outputs": [],
   "source": [
    "# прямое кодирование\n",
    "autos_ohe = pd.get_dummies(autos, drop_first=True)"
   ]
  },
  {
   "cell_type": "markdown",
   "metadata": {},
   "source": [
    "Разобьём полученные выборки на три части — обучающую, валидационную и тестовую выборку. Таким образом получим выборки объемом 60-20-20."
   ]
  },
  {
   "cell_type": "code",
   "execution_count": 35,
   "metadata": {},
   "outputs": [],
   "source": [
    "# функция для получения стандартизированных выборок\n",
    "def sampling(data, target_name):\n",
    "    target = data[target_name]\n",
    "    features = data.drop(target_name, axis=1)\n",
    "    features_train, features_valid, target_train, target_valid = train_test_split(\n",
    "        features, target, test_size=0.40, random_state=123)\n",
    "    features_valid, features_test, target_valid, target_test = train_test_split(\n",
    "        features_valid, target_valid, test_size=0.50, random_state=123)\n",
    "    scaler = StandardScaler()\n",
    "    numeric_columns = features.select_dtypes(include=\"number\").columns\n",
    "    scaler.fit(features_train.loc[:, numeric_columns])\n",
    "    features_train.loc[:, numeric_columns] = scaler.transform(\n",
    "        features_train.loc[:, numeric_columns])\n",
    "    features_valid.loc[:, numeric_columns] = scaler.transform(\n",
    "        features_valid.loc[:, numeric_columns])\n",
    "    features_test.loc[:, numeric_columns] = scaler.transform(\n",
    "        features_test.loc[:, numeric_columns])\n",
    "    return (features_train, features_valid, features_test,\n",
    "            target_train, target_valid, target_test)"
   ]
  },
  {
   "cell_type": "code",
   "execution_count": 36,
   "metadata": {},
   "outputs": [],
   "source": [
    "(features_train, features_valid, features_test, \n",
    " target_train, target_valid, target_test) = (sampling(autos_ohe, 'Price'))"
   ]
  },
  {
   "cell_type": "code",
   "execution_count": 37,
   "metadata": {},
   "outputs": [],
   "source": [
    "(features_train_encode, features_valid_encode, features_test_encode, \n",
    " target_train_encode, target_valid_encode, target_test_encode) = (sampling(autos_oe, 'Price'))"
   ]
  },
  {
   "cell_type": "markdown",
   "metadata": {},
   "source": [
    "# 2. Обучение моделей\n",
    "\n",
    "### RandomForestRegressor"
   ]
  },
  {
   "cell_type": "code",
   "execution_count": 38,
   "metadata": {},
   "outputs": [],
   "source": [
    "def rmse(y_true, y_pred):\n",
    "    mse = mean_squared_error(y_true, y_pred)\n",
    "    return mse ** 0.5"
   ]
  },
  {
   "cell_type": "markdown",
   "metadata": {},
   "source": [
    "Подберем гиперпараметры."
   ]
  },
  {
   "cell_type": "code",
   "execution_count": 39,
   "metadata": {},
   "outputs": [
    {
     "name": "stdout",
     "output_type": "stream",
     "text": [
      "{'n_estimators': [100, 150, 200], 'max_depth': [5, 10, 15], 'min_samples_split': [2, 5, 10], 'min_samples_leaf': [1, 2, 4], 'bootstrap': [True, False]}\n"
     ]
    }
   ],
   "source": [
    "n_estimators = [int(x) for x in np.linspace(start=100, stop=200, num=3)]\n",
    "max_depth = [int(x) for x in np.linspace(start=5, stop=15, num=3)]\n",
    "min_samples_split = [2, 5, 10]\n",
    "min_samples_leaf = [1, 2, 4]\n",
    "bootstrap = [True, False]\n",
    "\n",
    "random_grid = {'n_estimators': n_estimators,\n",
    "               'max_depth': max_depth,\n",
    "               'min_samples_split': min_samples_split,\n",
    "               'min_samples_leaf': min_samples_leaf,\n",
    "               'bootstrap': bootstrap}\n",
    "\n",
    "scorer = {'rmse': make_scorer(rmse, greater_is_better=False)}\n",
    "\n",
    "print(random_grid)"
   ]
  },
  {
   "cell_type": "code",
   "execution_count": 40,
   "metadata": {},
   "outputs": [],
   "source": [
    "rf_test = RandomForestRegressor(random_state=123)"
   ]
  },
  {
   "cell_type": "code",
   "execution_count": 41,
   "metadata": {},
   "outputs": [],
   "source": [
    "rf_random = RandomizedSearchCV(estimator=rf_test, scoring=scorer,\n",
    "    param_distributions=random_grid, verbose=2, refit=\"rmse\",\n",
    "    random_state=123, n_jobs=-1)\n",
    "\n",
    "rf_random.fit(features_train_encode, target_train_encode)"
   ]
  },
  {
   "cell_type": "code",
   "execution_count": 42,
   "metadata": {},
   "outputs": [
    {
     "data": {
      "text/plain": [
       "{'n_estimators': 200,\n",
       " 'min_samples_split': 2,\n",
       " 'min_samples_leaf': 2,\n",
       " 'max_depth': 15,\n",
       " 'bootstrap': True}"
      ]
     },
     "execution_count": 42,
     "metadata": {},
     "output_type": "execute_result"
    }
   ],
   "source": [
    "rf_best_params = {\n",
    "    'n_estimators': 200,\n",
    "    'min_samples_split': 2,\n",
    "    'min_samples_leaf': 2,\n",
    "    'max_depth': 15,\n",
    "    'bootstrap': True}\n",
    "\n",
    "rf_best_params"
   ]
  },
  {
   "cell_type": "markdown",
   "metadata": {},
   "source": [
    "Обучим модель на выборке закодированной по методу порядково кодирования, так как это значительно ускорит процесс обучения (вычислительная сложность сильно зависит от количества признаков)."
   ]
  },
  {
   "cell_type": "code",
   "execution_count": 43,
   "metadata": {},
   "outputs": [],
   "source": [
    "rf = RandomForestRegressor(random_state=321, **rf_best_params)"
   ]
  },
  {
   "cell_type": "code",
   "execution_count": 44,
   "metadata": {},
   "outputs": [
    {
     "name": "stdout",
     "output_type": "stream",
     "text": [
      "CPU times: user 1min 13s, sys: 232 ms, total: 1min 14s\n",
      "Wall time: 1min 14s\n"
     ]
    },
    {
     "data": {
      "text/plain": [
       "RandomForestRegressor(bootstrap=True, criterion='mse', max_depth=15,\n",
       "                      max_features='auto', max_leaf_nodes=None,\n",
       "                      min_impurity_decrease=0.0, min_impurity_split=None,\n",
       "                      min_samples_leaf=2, min_samples_split=2,\n",
       "                      min_weight_fraction_leaf=0.0, n_estimators=200,\n",
       "                      n_jobs=None, oob_score=False, random_state=321, verbose=0,\n",
       "                      warm_start=False)"
      ]
     },
     "execution_count": 44,
     "metadata": {},
     "output_type": "execute_result"
    }
   ],
   "source": [
    "%%time\n",
    "rf.fit(features_train_encode, target_train_encode)"
   ]
  },
  {
   "cell_type": "code",
   "execution_count": 45,
   "metadata": {},
   "outputs": [
    {
     "name": "stdout",
     "output_type": "stream",
     "text": [
      "CPU times: user 7.85 s, sys: 23.2 ms, total: 7.87 s\n",
      "Wall time: 7.99 s\n"
     ]
    }
   ],
   "source": [
    "%%time\n",
    "rf_pred = rf.predict(features_train_encode)"
   ]
  },
  {
   "cell_type": "code",
   "execution_count": 46,
   "metadata": {},
   "outputs": [
    {
     "name": "stdout",
     "output_type": "stream",
     "text": [
      "CPU times: user 2.69 s, sys: 7.84 ms, total: 2.7 s\n",
      "Wall time: 2.71 s\n"
     ]
    }
   ],
   "source": [
    "%%time\n",
    "rf_pred_valid = rf.predict(features_valid_encode)"
   ]
  },
  {
   "cell_type": "code",
   "execution_count": 47,
   "metadata": {},
   "outputs": [
    {
     "name": "stdout",
     "output_type": "stream",
     "text": [
      "RMSE на обучающей выборке:  1288.7821404284462\n",
      "RMSE на валидационной выборке:  1580.5364501506783\n"
     ]
    }
   ],
   "source": [
    "print(\"RMSE на обучающей выборке: \", rmse(target_train_encode, rf_pred))\n",
    "print(\"RMSE на валидационной выборке: \", rmse(target_valid_encode, rf_pred_valid))"
   ]
  },
  {
   "cell_type": "markdown",
   "metadata": {},
   "source": [
    "Модель регрессора случайного леса обучилась за 1 минуту 14 секунд. RMSE на обучающей выборке составил 1288 евро, а на валидационной 1580 евро. Разница в 300 евро может означать, что модель немного переобучилась. "
   ]
  },
  {
   "cell_type": "markdown",
   "metadata": {},
   "source": [
    "### LinearRegression"
   ]
  },
  {
   "cell_type": "code",
   "execution_count": 48,
   "metadata": {},
   "outputs": [
    {
     "name": "stdout",
     "output_type": "stream",
     "text": [
      "CPU times: user 13.5 s, sys: 5.65 s, total: 19.2 s\n",
      "Wall time: 19.4 s\n"
     ]
    }
   ],
   "source": [
    "%%time\n",
    "lm = LinearRegression().fit(features_train, target_train)"
   ]
  },
  {
   "cell_type": "code",
   "execution_count": 49,
   "metadata": {},
   "outputs": [
    {
     "name": "stdout",
     "output_type": "stream",
     "text": [
      "CPU times: user 158 ms, sys: 28 ms, total: 186 ms\n",
      "Wall time: 198 ms\n"
     ]
    }
   ],
   "source": [
    "%%time\n",
    "lm_pred = lm.predict(features_train)"
   ]
  },
  {
   "cell_type": "code",
   "execution_count": 50,
   "metadata": {},
   "outputs": [
    {
     "name": "stdout",
     "output_type": "stream",
     "text": [
      "CPU times: user 137 ms, sys: 53.5 ms, total: 190 ms\n",
      "Wall time: 233 ms\n"
     ]
    }
   ],
   "source": [
    "%%time\n",
    "lm_pred_valid = lm.predict(features_valid)"
   ]
  },
  {
   "cell_type": "code",
   "execution_count": 51,
   "metadata": {},
   "outputs": [
    {
     "name": "stdout",
     "output_type": "stream",
     "text": [
      "RMSE на обучающей выборке:  2452.3523951257816\n",
      "RMSE на валидационной выборке:  2441.4686601753074\n"
     ]
    }
   ],
   "source": [
    "print(\"RMSE на обучающей выборке: \", rmse(target_train, lm_pred))\n",
    "print(\"RMSE на валидационной выборке: \", rmse(target_valid, lm_pred_valid))"
   ]
  },
  {
   "cell_type": "markdown",
   "metadata": {},
   "source": [
    "Линейная регрессия обучалась около 20 секунд, но качество предсказаний по RMSE составило - 2452 на обучающей выборке и 2441 на валидационной. Либо модель недообучилась, что возможно если ей помешали \"выбросы\" так как обучающая выборка велика, либо данные не могут быть аппроксимированы простой линейной функцией и модель необходимо усложнить.\n",
    "\n",
    "Попробуем усложнить модель, но предварительно сократим количество признаков."
   ]
  },
  {
   "cell_type": "code",
   "execution_count": 52,
   "metadata": {},
   "outputs": [],
   "source": [
    "autos_ohe_ = pd.get_dummies(autos.drop(\n",
    "    ['Model', 'Brand', 'VehicleType', 'FuelType'], axis=1), drop_first=True)"
   ]
  },
  {
   "cell_type": "code",
   "execution_count": 53,
   "metadata": {},
   "outputs": [],
   "source": [
    "(features_train_, features_valid_, features_test_, \n",
    " target_train_, target_valid_, target_test_) = (sampling(autos_ohe_, 'Price'))"
   ]
  },
  {
   "cell_type": "code",
   "execution_count": 54,
   "metadata": {},
   "outputs": [],
   "source": [
    "polynomial_regression = Pipeline([\n",
    "        (\"poly_features\", PolynomialFeatures(degree=5, include_bias=False)),\n",
    "        (\"lin_reg\", LinearRegression()),\n",
    "    ])"
   ]
  },
  {
   "cell_type": "code",
   "execution_count": 55,
   "metadata": {},
   "outputs": [
    {
     "name": "stdout",
     "output_type": "stream",
     "text": [
      "CPU times: user 26 s, sys: 12.1 s, total: 38.1 s\n",
      "Wall time: 38.2 s\n"
     ]
    },
    {
     "data": {
      "text/plain": [
       "Pipeline(memory=None,\n",
       "         steps=[('poly_features',\n",
       "                 PolynomialFeatures(degree=5, include_bias=False,\n",
       "                                    interaction_only=False, order='C')),\n",
       "                ('lin_reg',\n",
       "                 LinearRegression(copy_X=True, fit_intercept=True, n_jobs=None,\n",
       "                                  normalize=False))],\n",
       "         verbose=False)"
      ]
     },
     "execution_count": 55,
     "metadata": {},
     "output_type": "execute_result"
    }
   ],
   "source": [
    "%%time\n",
    "polynomial_regression.fit(features_train_, target_train_)"
   ]
  },
  {
   "cell_type": "code",
   "execution_count": 56,
   "metadata": {},
   "outputs": [
    {
     "name": "stdout",
     "output_type": "stream",
     "text": [
      "CPU times: user 2.6 s, sys: 215 ms, total: 2.81 s\n",
      "Wall time: 3.29 s\n"
     ]
    }
   ],
   "source": [
    "%%time\n",
    "lm_pred_ = polynomial_regression.predict(features_train_)"
   ]
  },
  {
   "cell_type": "code",
   "execution_count": 57,
   "metadata": {},
   "outputs": [
    {
     "name": "stdout",
     "output_type": "stream",
     "text": [
      "CPU times: user 616 ms, sys: 57.2 ms, total: 674 ms\n",
      "Wall time: 719 ms\n"
     ]
    }
   ],
   "source": [
    "%%time\n",
    "lm_pred_valid_ = polynomial_regression.predict(features_valid_)"
   ]
  },
  {
   "cell_type": "code",
   "execution_count": 58,
   "metadata": {},
   "outputs": [
    {
     "name": "stdout",
     "output_type": "stream",
     "text": [
      "RMSE на обучающей выборке:  2091.419778918672\n",
      "RMSE на валидационной выборке:  2096.570744127404\n"
     ]
    }
   ],
   "source": [
    "print(\"RMSE на обучающей выборке: \", rmse(target_train_, lm_pred_))\n",
    "print(\"RMSE на валидационной выборке: \", rmse(target_valid_, lm_pred_valid_))"
   ]
  },
  {
   "cell_type": "markdown",
   "metadata": {},
   "source": [
    "После полиномизации признаков модель стала обучаться немного дольше (около 30 секунд), ее качество улучшилось. При увеличении максимальной степени на единицу RMSE уменьшается примерно на 100 евро, поэтому дальнейшее увеличение степени скорее всего невозможно и нецелесообразно, т.к. может привести к переобучению. Можно улучшить данный результат, если провести более строгую предобработку данных."
   ]
  },
  {
   "cell_type": "markdown",
   "metadata": {},
   "source": [
    "### SGDRegressor\n",
    "\n",
    "От этой модели нет особых ожиданий, так как она может улучшить результат если простая линейная модель переобучается. Однако все же интересно посмотреть на результат работы ```RandomizedSearchCV```."
   ]
  },
  {
   "cell_type": "code",
   "execution_count": 59,
   "metadata": {},
   "outputs": [
    {
     "name": "stdout",
     "output_type": "stream",
     "text": [
      "{'loss': ['squared_loss', 'huber', 'epsilon_insensitive', 'squared_epsilon_insensitive'], 'penalty': ['l2', 'l1', 'elasticnet'], 'alpha': [0.0001, 0.005, 0.01], 'l1_ratio': [0.0, 0.15, 0.3], 'max_iter': [1000, 3000, 5000], 'fit_intercept': [True, False], 'shuffle': [True, False], 'learning_rate': ['optimal', 'invscaling', 'adaptive']}\n"
     ]
    }
   ],
   "source": [
    "loss = ['squared_loss', 'huber', 'epsilon_insensitive', 'squared_epsilon_insensitive']\n",
    "penalty = ['l2', 'l1', 'elasticnet']\n",
    "alpha = [0.0001, 0.005, 0.01]\n",
    "l1_ratio = [0.0, 0.15, 0.3]\n",
    "max_iter = [1000, 3000, 5000]\n",
    "fit_intercept = [True, False]\n",
    "shuffle = [True, False]\n",
    "learning_rate = ['optimal', 'invscaling', 'adaptive']\n",
    "\n",
    "sgdr_grid = {'loss': loss,\n",
    "             'penalty': penalty,\n",
    "             'alpha': alpha,\n",
    "             'l1_ratio': l1_ratio,\n",
    "             'max_iter': max_iter,\n",
    "             'fit_intercept': fit_intercept,\n",
    "             'shuffle': shuffle,\n",
    "             'learning_rate': learning_rate\n",
    "            }\n",
    "\n",
    "print(sgdr_grid)"
   ]
  },
  {
   "cell_type": "code",
   "execution_count": 60,
   "metadata": {},
   "outputs": [],
   "source": [
    "poly_train = PolynomialFeatures(degree=5, include_bias=False).fit_transform(features_train_)"
   ]
  },
  {
   "cell_type": "code",
   "execution_count": 61,
   "metadata": {},
   "outputs": [],
   "source": [
    "poly_valid = PolynomialFeatures(degree=5, include_bias=False).fit_transform(features_valid_)"
   ]
  },
  {
   "cell_type": "code",
   "execution_count": 62,
   "metadata": {},
   "outputs": [],
   "source": [
    "sgdr = SGDRegressor()"
   ]
  },
  {
   "cell_type": "code",
   "execution_count": 63,
   "metadata": {},
   "outputs": [],
   "source": [
    "sgdr_random = RandomizedSearchCV(estimator=sgdr, scoring=scorer,\n",
    "    param_distributions=sgdr_grid, verbose=2, refit=\"rmse\",\n",
    "    random_state=456, n_jobs=-1)\n",
    "\n",
    "sgdr_random.fit(poly_train, target_train_)"
   ]
  },
  {
   "cell_type": "code",
   "execution_count": 64,
   "metadata": {},
   "outputs": [],
   "source": [
    "sgdr_best_params = {\n",
    "    'shuffle': False,\n",
    "    'penalty': 'l2',\n",
    "    'max_iter': 1000,\n",
    "    'loss': 'epsilon_insensitive',\n",
    "    'learning_rate': 'adaptive',\n",
    "    'l1_ratio': 0.3,\n",
    "    'fit_intercept': True,\n",
    "    'alpha': 0.0001\n",
    "}"
   ]
  },
  {
   "cell_type": "code",
   "execution_count": 65,
   "metadata": {},
   "outputs": [],
   "source": [
    "sgd_reg = SGDRegressor(**sgdr_best_params)"
   ]
  },
  {
   "cell_type": "code",
   "execution_count": 66,
   "metadata": {},
   "outputs": [
    {
     "name": "stdout",
     "output_type": "stream",
     "text": [
      "CPU times: user 51.9 s, sys: 0 ns, total: 51.9 s\n",
      "Wall time: 52.5 s\n"
     ]
    },
    {
     "data": {
      "text/plain": [
       "SGDRegressor(alpha=0.0001, average=False, early_stopping=False, epsilon=0.1,\n",
       "             eta0=0.01, fit_intercept=True, l1_ratio=0.3,\n",
       "             learning_rate='adaptive', loss='epsilon_insensitive',\n",
       "             max_iter=1000, n_iter_no_change=5, penalty='l2', power_t=0.25,\n",
       "             random_state=None, shuffle=False, tol=0.001,\n",
       "             validation_fraction=0.1, verbose=0, warm_start=False)"
      ]
     },
     "execution_count": 66,
     "metadata": {},
     "output_type": "execute_result"
    }
   ],
   "source": [
    "%%time\n",
    "sgd_reg.fit(poly_train, target_train_)"
   ]
  },
  {
   "cell_type": "code",
   "execution_count": 67,
   "metadata": {},
   "outputs": [
    {
     "name": "stdout",
     "output_type": "stream",
     "text": [
      "CPU times: user 234 ms, sys: 0 ns, total: 234 ms\n",
      "Wall time: 215 ms\n"
     ]
    }
   ],
   "source": [
    "%%time\n",
    "sgdr_pred = sgd_reg.predict(poly_train)"
   ]
  },
  {
   "cell_type": "code",
   "execution_count": 68,
   "metadata": {},
   "outputs": [
    {
     "name": "stdout",
     "output_type": "stream",
     "text": [
      "CPU times: user 133 ms, sys: 0 ns, total: 133 ms\n",
      "Wall time: 113 ms\n"
     ]
    }
   ],
   "source": [
    "%%time\n",
    "sgdr_pred_valid = sgd_reg.predict(poly_valid)"
   ]
  },
  {
   "cell_type": "code",
   "execution_count": 69,
   "metadata": {},
   "outputs": [
    {
     "name": "stdout",
     "output_type": "stream",
     "text": [
      "RMSE на обучающей выборке:  2407.7388857816522\n",
      "RMSE на валидационной выборке:  2388.909246381319\n"
     ]
    }
   ],
   "source": [
    "print(\"RMSE на обучающей выборке: \", rmse(target_train_, sgdr_pred))\n",
    "print(\"RMSE на валидационной выборке: \", rmse(target_valid_, sgdr_pred_valid))"
   ]
  },
  {
   "cell_type": "markdown",
   "metadata": {},
   "source": [
    "Модель обучалась около 50 секунд. RMSE на обучающей выборке выше чем на валидационной (может быть из-за выбросов). Полагаю, модель недообучилась и регуляризация не нужна, но модель с коэф. регуляризации отличным от нуля оказалась лучшей, чем без регуляризации (по ```RandomizedSearchCV```). Возможно повлияли другие гиперпараметры."
   ]
  },
  {
   "cell_type": "markdown",
   "metadata": {},
   "source": [
    "### LightGBM"
   ]
  },
  {
   "cell_type": "code",
   "execution_count": 70,
   "metadata": {},
   "outputs": [
    {
     "name": "stdout",
     "output_type": "stream",
     "text": [
      "{'boosting_type': ['gbdt', 'dart'], 'max_depth': [5, 10, 15], 'num_leaves': [30, 286, 543, 800], 'min_data_in_leaf': [100, 550, 1000], 'metric': 'rmse', 'max_bin': [255, 500], 'num_iterations': [100, 300, 500]}\n"
     ]
    }
   ],
   "source": [
    "boosting_type = ['gbdt', 'dart']\n",
    "max_depth = [int(x) for x in np.linspace(start=5, stop=15, num=3)]\n",
    "num_leaves = [int(x) for x in np.linspace(start=30, stop=800, num=4)]\n",
    "min_data_in_leaf = [int(x) for x in np.linspace(start=100, stop=1000, num=3)]\n",
    "metric = \"rmse\"\n",
    "max_bin = [255, 500]\n",
    "num_iterations = [100, 300, 500]\n",
    "\n",
    "lgbmr_grid = {'boosting_type': boosting_type,\n",
    "             'max_depth': max_depth,\n",
    "             'num_leaves': num_leaves,\n",
    "             'min_data_in_leaf': min_data_in_leaf,\n",
    "             'metric': metric,\n",
    "             'max_bin': max_bin,\n",
    "             'num_iterations': num_iterations\n",
    "            }\n",
    "\n",
    "print(lgbmr_grid)"
   ]
  },
  {
   "cell_type": "code",
   "execution_count": 71,
   "metadata": {},
   "outputs": [],
   "source": [
    "lgbmr = lgbm.LGBMRegressor()"
   ]
  },
  {
   "cell_type": "code",
   "execution_count": 72,
   "metadata": {},
   "outputs": [],
   "source": [
    "lgbmr_random = RandomizedSearchCV(estimator=lgbmr, scoring=scorer,\n",
    "    param_distributions=lgbmr_grid, verbose=2, refit=\"rmse\",\n",
    "    random_state=789, n_jobs=-1)\n",
    "\n",
    "lgbmr_random.fit(features_train_encode, target_train_encode)"
   ]
  },
  {
   "cell_type": "code",
   "execution_count": 73,
   "metadata": {},
   "outputs": [],
   "source": [
    "lgbmr_best_params = {\n",
    "    'num_leaves': 700,\n",
    "    'num_iterations': 700,\n",
    "    'min_data_in_leaf': 100,\n",
    "    'metric': 'rmse',\n",
    "    'max_depth': 15,\n",
    "    'max_bin': 255,\n",
    "    'boosting_type': \"gbdt\",\n",
    "    'tree_learner_type': \"data\",\n",
    "}"
   ]
  },
  {
   "cell_type": "code",
   "execution_count": 74,
   "metadata": {},
   "outputs": [
    {
     "data": {
      "text/plain": [
       "LGBMRegressor(boosting_type='gbdt', class_weight=None, colsample_bytree=1.0,\n",
       "              importance_type='split', learning_rate=0.1, max_bin=255,\n",
       "              max_depth=15, metric='rmse', min_child_samples=20,\n",
       "              min_child_weight=0.001, min_data_in_leaf=100, min_split_gain=0.0,\n",
       "              n_estimators=100, n_jobs=-1, num_iterations=700, num_leaves=700,\n",
       "              objective=None, random_state=None, reg_alpha=0.0, reg_lambda=0.0,\n",
       "              silent=True, subsample=1.0, subsample_for_bin=200000,\n",
       "              subsample_freq=0, tree_learner_type='data')"
      ]
     },
     "execution_count": 74,
     "metadata": {},
     "output_type": "execute_result"
    }
   ],
   "source": [
    "lgbm_reg = lgbm.LGBMRegressor(**lgbmr_best_params)\n",
    "\n",
    "lgbm_reg"
   ]
  },
  {
   "cell_type": "code",
   "execution_count": 75,
   "metadata": {},
   "outputs": [
    {
     "name": "stdout",
     "output_type": "stream",
     "text": [
      "CPU times: user 1min 3s, sys: 666 ms, total: 1min 3s\n",
      "Wall time: 1min 4s\n"
     ]
    },
    {
     "data": {
      "text/plain": [
       "LGBMRegressor(boosting_type='gbdt', class_weight=None, colsample_bytree=1.0,\n",
       "              importance_type='split', learning_rate=0.1, max_bin=255,\n",
       "              max_depth=15, metric='rmse', min_child_samples=20,\n",
       "              min_child_weight=0.001, min_data_in_leaf=100, min_split_gain=0.0,\n",
       "              n_estimators=100, n_jobs=-1, num_iterations=700, num_leaves=700,\n",
       "              objective=None, random_state=None, reg_alpha=0.0, reg_lambda=0.0,\n",
       "              silent=True, subsample=1.0, subsample_for_bin=200000,\n",
       "              subsample_freq=0, tree_learner_type='data')"
      ]
     },
     "execution_count": 75,
     "metadata": {},
     "output_type": "execute_result"
    }
   ],
   "source": [
    "%%time\n",
    "lgbm_reg.fit(features_train_encode, target_train_encode)"
   ]
  },
  {
   "cell_type": "code",
   "execution_count": 76,
   "metadata": {},
   "outputs": [
    {
     "name": "stdout",
     "output_type": "stream",
     "text": [
      "CPU times: user 54 s, sys: 0 ns, total: 54 s\n",
      "Wall time: 54.4 s\n"
     ]
    }
   ],
   "source": [
    "%%time\n",
    "lgbmr_pred = lgbm_reg.predict(features_train_encode)"
   ]
  },
  {
   "cell_type": "code",
   "execution_count": 77,
   "metadata": {},
   "outputs": [
    {
     "name": "stdout",
     "output_type": "stream",
     "text": [
      "CPU times: user 18 s, sys: 0 ns, total: 18 s\n",
      "Wall time: 18 s\n"
     ]
    }
   ],
   "source": [
    "%%time\n",
    "lgbmr_pred_valid = lgbm_reg.predict(features_valid_encode)"
   ]
  },
  {
   "cell_type": "code",
   "execution_count": 78,
   "metadata": {},
   "outputs": [
    {
     "name": "stdout",
     "output_type": "stream",
     "text": [
      "RMSE на обучающей выборке:  1246.0310601931394\n",
      "RMSE на валидационной выборке:  1492.0110151281092\n"
     ]
    }
   ],
   "source": [
    "print(\"RMSE на обучающей выборке: \", rmse(target_train, lgbmr_pred))\n",
    "print(\"RMSE на валидационной выборке: \",rmse(target_valid, lgbmr_pred_valid))"
   ]
  },
  {
   "cell_type": "markdown",
   "metadata": {},
   "source": [
    "Модель обучилась 1 минуту 14 секунд. RMSE на обучающей выборке составил 1246 евро, а на валидационной 1492 евро. Разница в 200 евро может означать, что модель немного переобучилась."
   ]
  },
  {
   "cell_type": "markdown",
   "metadata": {},
   "source": [
    "# 3. Анализ моделей\n",
    "\n",
    "Было обучено четыре модели - ```RandomForestRegressor, LinearRegression, SGDRegressor, LightGBM```. Все модели обучались примерно одно и то же время — примерно 30-70 секунд. Быстрее всех обучилась линейная регрессия. Наилучшее качество предсказаний у LightGBM. RMSE на обучающей выборке составил 1246 евро, а на валидационной 1492 евро. В то же время, скорость предсказания данной модели на обучающей выборке самая низкая — около минуты.\n",
    "\n",
    "Проверим адекватность модели сравнив RMSE валидационной выборки с тем же показателем константной модели. Константную модель определим как предсказание среднего обучающей выборки для каждого объекта валидационной выборки."
   ]
  },
  {
   "cell_type": "code",
   "execution_count": 79,
   "metadata": {},
   "outputs": [],
   "source": [
    "constant_pred = np.ones(features_valid_encode.shape[0]) * target_train.mean()"
   ]
  },
  {
   "cell_type": "code",
   "execution_count": 80,
   "metadata": {},
   "outputs": [
    {
     "name": "stdout",
     "output_type": "stream",
     "text": [
      "RMSE на валидационной выборке (LightGBM):  1492.0110151281092\n",
      "RMSE на валидационной выборке (константная модель):  4607.28501020633\n"
     ]
    }
   ],
   "source": [
    "print(\"RMSE на валидационной выборке (LightGBM): \", rmse(target_valid, lgbmr_pred_valid))\n",
    "print(\"RMSE на валидационной выборке (константная модель): \", rmse(target_valid, constant_pred))"
   ]
  },
  {
   "cell_type": "markdown",
   "metadata": {},
   "source": [
    "Обученная модель адекватна — предсказывает гораздо лучше константной. Теперь проверим качество модели на тестовой выборке."
   ]
  },
  {
   "cell_type": "code",
   "execution_count": 83,
   "metadata": {},
   "outputs": [
    {
     "name": "stdout",
     "output_type": "stream",
     "text": [
      "CPU times: user 18 s, sys: 0 ns, total: 18 s\n",
      "Wall time: 18 s\n"
     ]
    }
   ],
   "source": [
    "%%time\n",
    "lgbmr_pred_test = lgbm_reg.predict(features_test_encode)"
   ]
  },
  {
   "cell_type": "code",
   "execution_count": 82,
   "metadata": {},
   "outputs": [
    {
     "name": "stdout",
     "output_type": "stream",
     "text": [
      "RMSE на тестовой выборке:  1489.826838284898\n"
     ]
    }
   ],
   "source": [
    "print(\"RMSE на тестовой выборке: \", rmse(target_test, lgbmr_pred_test))"
   ]
  },
  {
   "cell_type": "markdown",
   "metadata": {},
   "source": [
    "Качество предсказания на тестовой выборке практически такое же как и на валидационной. Для дальнейшего улучшения качества можно изучить предсказания моделей и определить на каких объектах модель ошибалась чаще/сильнее всего. Возможно в этих ошибках есть какая-то связь, найдя которую можно было бы провести более глубокую предобработку данных."
   ]
  }
 ],
 "metadata": {
  "kernelspec": {
   "display_name": "Python 3",
   "language": "python",
   "name": "python3"
  },
  "language_info": {
   "codemirror_mode": {
    "name": "ipython",
    "version": 3
   },
   "file_extension": ".py",
   "mimetype": "text/x-python",
   "name": "python",
   "nbconvert_exporter": "python",
   "pygments_lexer": "ipython3",
   "version": "3.7.4"
  }
 },
 "nbformat": 4,
 "nbformat_minor": 2
}
