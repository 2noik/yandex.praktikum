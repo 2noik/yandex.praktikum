{
 "cells": [
  {
   "cell_type": "markdown",
   "metadata": {},
   "source": [
    "# Отток клиентов банка"
   ]
  },
  {
   "cell_type": "markdown",
   "metadata": {},
   "source": [
    "**Описание проекта:** нужно спрогнозировать, уйдёт клиент из банка в ближайшее время или нет, основываясь на исторических данных о поведении клиентов и расторжении договоров с банком.\n",
    "\n",
    "**Результат:** модель с предельно большим значением *F1*-меры (минимум 0.59 на тестовой выборке)."
   ]
  },
  {
   "cell_type": "markdown",
   "metadata": {},
   "source": [
    "# 1. Подготовка данных"
   ]
  },
  {
   "cell_type": "code",
   "execution_count": 2,
   "metadata": {},
   "outputs": [],
   "source": [
    "import pandas as pd\n",
    "import numpy as np\n",
    "import seaborn as sns\n",
    "import itertools\n",
    "import matplotlib.pyplot as plt\n",
    "from matplotlib.gridspec import GridSpec\n",
    "\n",
    "from sklearn.preprocessing import StandardScaler\n",
    "from sklearn.model_selection import train_test_split, cross_validate, RandomizedSearchCV \n",
    "from sklearn.feature_selection import RFE\n",
    "from sklearn.linear_model import LogisticRegression\n",
    "from sklearn.tree import DecisionTreeClassifier\n",
    "from sklearn.ensemble import RandomForestClassifier\n",
    "from sklearn.metrics import (confusion_matrix, f1_score, precision_score, recall_score,\n",
    "                             precision_recall_curve, roc_curve, roc_auc_score)\n",
    "\n",
    "from imblearn.over_sampling import RandomOverSampler\n",
    "from imblearn.under_sampling import RandomUnderSampler\n",
    "from imblearn.pipeline import Pipeline, make_pipeline\n",
    "\n",
    "import warnings\n",
    "warnings.filterwarnings('ignore')"
   ]
  },
  {
   "cell_type": "code",
   "execution_count": 3,
   "metadata": {},
   "outputs": [],
   "source": [
    "customer_churn_data = pd.read_csv('/datasets/Churn.csv')"
   ]
  },
  {
   "cell_type": "code",
   "execution_count": 4,
   "metadata": {},
   "outputs": [
    {
     "name": "stdout",
     "output_type": "stream",
     "text": [
      "<class 'pandas.core.frame.DataFrame'>\n",
      "RangeIndex: 10000 entries, 0 to 9999\n",
      "Data columns (total 14 columns):\n",
      "RowNumber          10000 non-null int64\n",
      "CustomerId         10000 non-null int64\n",
      "Surname            10000 non-null object\n",
      "CreditScore        10000 non-null int64\n",
      "Geography          10000 non-null object\n",
      "Gender             10000 non-null object\n",
      "Age                10000 non-null int64\n",
      "Tenure             9091 non-null float64\n",
      "Balance            10000 non-null float64\n",
      "NumOfProducts      10000 non-null int64\n",
      "HasCrCard          10000 non-null int64\n",
      "IsActiveMember     10000 non-null int64\n",
      "EstimatedSalary    10000 non-null float64\n",
      "Exited             10000 non-null int64\n",
      "dtypes: float64(3), int64(8), object(3)\n",
      "memory usage: 1.1+ MB\n"
     ]
    }
   ],
   "source": [
    "# ознакомимся со структурой датасета\n",
    "customer_churn_data.info()"
   ]
  },
  {
   "cell_type": "code",
   "execution_count": 5,
   "metadata": {},
   "outputs": [
    {
     "name": "stdout",
     "output_type": "stream",
     "text": [
      "Количество полных дубликатов строк: 0\n"
     ]
    }
   ],
   "source": [
    "print(f\"Количество полных дубликатов строк: {customer_churn_data.duplicated().sum()}\")"
   ]
  },
  {
   "cell_type": "markdown",
   "metadata": {},
   "source": [
    "В искомом датасете 10 тыс. объектов, каждый из которых соответствует одному клиенту банка, и 14 признаков. Полных дубликатов строк нет. В признаке 'Tenure' есть пропуски, не хватает 909 значений. Некоторые признаки не имеют практического значения — это 'RowNumber', 'CustomerId' и 'Surname'. Избавимся от них за ненадобностью."
   ]
  },
  {
   "cell_type": "code",
   "execution_count": 6,
   "metadata": {},
   "outputs": [],
   "source": [
    "customer_churn_data = customer_churn_data.drop(['RowNumber', 'CustomerId', 'Surname'], axis=1)"
   ]
  },
  {
   "cell_type": "markdown",
   "metadata": {},
   "source": [
    "Целевой признак - 'Exited', является бинарным и означает факт ухода клиента. Будем решать задачу бинарной классификации, для чего, в первую очередь, обучим модель по алгоритму логистической регрессии. Данная модель хорошо подходит для решения подобных задач. В завершении сравним полученные результаты с результатами моделей обученных по алгоритму дерева решений и случайный лес и выберем лучшую по AUC-ROC.\n",
    "\n",
    "Логистическая регрессия аналогична множественной линейной регрессии, за одним исключением — исход является бинарным. Не вдаваясь в математические подробности можно сказать, что суть алгоритма заключается в предсказании вероятности отнесения объекта к положительному классу и сопутствующим этому оптимизациям. Если вероятность оказывается выше пороговой, то объект относится к классу 1 (положительному), если ниже пороговой, то к классу 0 (отрицательному). За счет этого результаты обученной модели чувствительны к дисбалансу классов в обучающей выборке, поэтому искомые данные должны быть сбалансированы на этапе предобработки.\n",
    "\n",
    "Для банка \"вероятностный подход\" к определению класса объекта может быть интересен, так как если умножить полученную в результате работы модели вероятность на доход с конкретного клиента, то можно получить математическое ожидание потерь от ухода конкретного клиента, что в свою очередь может помочь в оценке эффективности и целесообразности маркетинговых активностей.   \n",
    "\n",
    "Из свойств алгоритма следует, что:\n",
    "* все X должны быть количественными данными;\n",
    "* среди X не должно быть пропущенных значений;\n",
    "* обучающая выборка должна быть сбалансирована (на сколько это возможно).\n",
    "\n",
    "Поэтому базовым этапом в предобработке датасета для логистической регрессии будет:\n",
    "* предобработка количественных признаков - исследование распределения признаков, их масштабирование, стандартизация или нормализация,  удаление или интерпретация пропущенных значений и т.д;\n",
    "* кодирование категориальных признаков;\n",
    "* балансирование классов в обучающей выборке. \n",
    "\n",
    "### 1.1 Обзор количественных признаков\n",
    "Качество обучающего набора данных окажет влияние на качество обученной модели. Исследуя выборку мы ожидаем, что сделанные по ней выводы можно экстраполировать на всю генеральную совокупность. По сути тем же экстраполированием выученных закономерностей занимается и модель на новых данных. Получается, на каком распределении она обучилась, с таким она и будет лучше работать. Вероятно поэтому, лучше обучать и/или валидировать модель на данных распределенных так же как и ожидаемые новые данные (которые будут поступать в модель после обучения).\n",
    "\n",
    "Генеральной совокупностью будут все клиенты банка. Ожидается, что признаки генеральной совокупности могут быть распределены нормально, а значит большинство значений будет разбросано вокруг среднего генеральной совокупности. Желательно, чтобы распределение выборочной совокупности было похожим, так у нас будет больше уверенности в том, что модель выявит нужные закономерности.\n",
    "\n",
    "Для начала изучим дескриптивные статистики количественных признаков. По ним сделаем примерные выводы о распределении признаков."
   ]
  },
  {
   "cell_type": "code",
   "execution_count": 7,
   "metadata": {},
   "outputs": [
    {
     "data": {
      "text/html": [
       "<div>\n",
       "<style scoped>\n",
       "    .dataframe tbody tr th:only-of-type {\n",
       "        vertical-align: middle;\n",
       "    }\n",
       "\n",
       "    .dataframe tbody tr th {\n",
       "        vertical-align: top;\n",
       "    }\n",
       "\n",
       "    .dataframe thead th {\n",
       "        text-align: right;\n",
       "    }\n",
       "</style>\n",
       "<table border=\"1\" class=\"dataframe\">\n",
       "  <thead>\n",
       "    <tr style=\"text-align: right;\">\n",
       "      <th></th>\n",
       "      <th>CreditScore</th>\n",
       "      <th>Age</th>\n",
       "      <th>Tenure</th>\n",
       "      <th>Balance</th>\n",
       "      <th>NumOfProducts</th>\n",
       "      <th>HasCrCard</th>\n",
       "      <th>IsActiveMember</th>\n",
       "      <th>EstimatedSalary</th>\n",
       "      <th>Exited</th>\n",
       "    </tr>\n",
       "  </thead>\n",
       "  <tbody>\n",
       "    <tr>\n",
       "      <td>count</td>\n",
       "      <td>10000.000000</td>\n",
       "      <td>10000.000000</td>\n",
       "      <td>9091.000000</td>\n",
       "      <td>10000.000000</td>\n",
       "      <td>10000.000000</td>\n",
       "      <td>10000.00000</td>\n",
       "      <td>10000.000000</td>\n",
       "      <td>10000.000000</td>\n",
       "      <td>10000.000000</td>\n",
       "    </tr>\n",
       "    <tr>\n",
       "      <td>mean</td>\n",
       "      <td>650.528800</td>\n",
       "      <td>38.921800</td>\n",
       "      <td>4.997690</td>\n",
       "      <td>76485.889288</td>\n",
       "      <td>1.530200</td>\n",
       "      <td>0.70550</td>\n",
       "      <td>0.515100</td>\n",
       "      <td>100090.239881</td>\n",
       "      <td>0.203700</td>\n",
       "    </tr>\n",
       "    <tr>\n",
       "      <td>std</td>\n",
       "      <td>96.653299</td>\n",
       "      <td>10.487806</td>\n",
       "      <td>2.894723</td>\n",
       "      <td>62397.405202</td>\n",
       "      <td>0.581654</td>\n",
       "      <td>0.45584</td>\n",
       "      <td>0.499797</td>\n",
       "      <td>57510.492818</td>\n",
       "      <td>0.402769</td>\n",
       "    </tr>\n",
       "    <tr>\n",
       "      <td>min</td>\n",
       "      <td>350.000000</td>\n",
       "      <td>18.000000</td>\n",
       "      <td>0.000000</td>\n",
       "      <td>0.000000</td>\n",
       "      <td>1.000000</td>\n",
       "      <td>0.00000</td>\n",
       "      <td>0.000000</td>\n",
       "      <td>11.580000</td>\n",
       "      <td>0.000000</td>\n",
       "    </tr>\n",
       "    <tr>\n",
       "      <td>25%</td>\n",
       "      <td>584.000000</td>\n",
       "      <td>32.000000</td>\n",
       "      <td>2.000000</td>\n",
       "      <td>0.000000</td>\n",
       "      <td>1.000000</td>\n",
       "      <td>0.00000</td>\n",
       "      <td>0.000000</td>\n",
       "      <td>51002.110000</td>\n",
       "      <td>0.000000</td>\n",
       "    </tr>\n",
       "    <tr>\n",
       "      <td>50%</td>\n",
       "      <td>652.000000</td>\n",
       "      <td>37.000000</td>\n",
       "      <td>5.000000</td>\n",
       "      <td>97198.540000</td>\n",
       "      <td>1.000000</td>\n",
       "      <td>1.00000</td>\n",
       "      <td>1.000000</td>\n",
       "      <td>100193.915000</td>\n",
       "      <td>0.000000</td>\n",
       "    </tr>\n",
       "    <tr>\n",
       "      <td>75%</td>\n",
       "      <td>718.000000</td>\n",
       "      <td>44.000000</td>\n",
       "      <td>7.000000</td>\n",
       "      <td>127644.240000</td>\n",
       "      <td>2.000000</td>\n",
       "      <td>1.00000</td>\n",
       "      <td>1.000000</td>\n",
       "      <td>149388.247500</td>\n",
       "      <td>0.000000</td>\n",
       "    </tr>\n",
       "    <tr>\n",
       "      <td>max</td>\n",
       "      <td>850.000000</td>\n",
       "      <td>92.000000</td>\n",
       "      <td>10.000000</td>\n",
       "      <td>250898.090000</td>\n",
       "      <td>4.000000</td>\n",
       "      <td>1.00000</td>\n",
       "      <td>1.000000</td>\n",
       "      <td>199992.480000</td>\n",
       "      <td>1.000000</td>\n",
       "    </tr>\n",
       "  </tbody>\n",
       "</table>\n",
       "</div>"
      ],
      "text/plain": [
       "        CreditScore           Age       Tenure        Balance  NumOfProducts  \\\n",
       "count  10000.000000  10000.000000  9091.000000   10000.000000   10000.000000   \n",
       "mean     650.528800     38.921800     4.997690   76485.889288       1.530200   \n",
       "std       96.653299     10.487806     2.894723   62397.405202       0.581654   \n",
       "min      350.000000     18.000000     0.000000       0.000000       1.000000   \n",
       "25%      584.000000     32.000000     2.000000       0.000000       1.000000   \n",
       "50%      652.000000     37.000000     5.000000   97198.540000       1.000000   \n",
       "75%      718.000000     44.000000     7.000000  127644.240000       2.000000   \n",
       "max      850.000000     92.000000    10.000000  250898.090000       4.000000   \n",
       "\n",
       "         HasCrCard  IsActiveMember  EstimatedSalary        Exited  \n",
       "count  10000.00000    10000.000000     10000.000000  10000.000000  \n",
       "mean       0.70550        0.515100    100090.239881      0.203700  \n",
       "std        0.45584        0.499797     57510.492818      0.402769  \n",
       "min        0.00000        0.000000        11.580000      0.000000  \n",
       "25%        0.00000        0.000000     51002.110000      0.000000  \n",
       "50%        1.00000        1.000000    100193.915000      0.000000  \n",
       "75%        1.00000        1.000000    149388.247500      0.000000  \n",
       "max        1.00000        1.000000    199992.480000      1.000000  "
      ]
     },
     "execution_count": 7,
     "metadata": {},
     "output_type": "execute_result"
    }
   ],
   "source": [
    "customer_churn_data.describe()"
   ]
  },
  {
   "cell_type": "markdown",
   "metadata": {},
   "source": [
    "Заметно, что минимальные и максимальные значения сильно разнятся от признака к признаку — есть признаки измеряющиеся однозначными числами и шестизначными. Это может негативно отразиться на определении веса признаков, важные признаки могут оказаться недооцененными моделью. Чтобы этого избежать нужно будет нормализовать, либо стандартизировать значения.\n",
    "\n",
    "Некоторые попавшие в таблицу признаки - 'HasCrCard', 'IsActiveMember' и 'Exited', являются категориальными (бинарными). Остальные признаки распределены достаточно симметрично и \"кучно\" - средние значения практически совпадают с медианой, и если судить по стандартному отклонению значения слабо отклоняется от средних. Исключением является признак 'Balance', тут наблюдаем правостороннюю асимметрию — среднее значительно меньше медианы. В данном признаке очень много нулей из-за чего мы имеем как бы две вершины распределения. Можно попробовать исправить это обработав нули как пропуски, либо преобразовав данный признак в категориальный (отсутствие/присутствие баланса и интервалы по квартилям распределения)."
   ]
  },
  {
   "cell_type": "code",
   "execution_count": 8,
   "metadata": {},
   "outputs": [],
   "source": [
    "customer_churn_data['has_balance'] = np.where(customer_churn_data['Balance'] > 0, 1, 0)"
   ]
  },
  {
   "cell_type": "code",
   "execution_count": 9,
   "metadata": {},
   "outputs": [],
   "source": [
    "def group_by_balance(x, data):\n",
    "    threshold = data.quantile([0.25,0.5,0.75]).values\n",
    "    if x > threshold[2]:\n",
    "        result = f\"> {round(threshold[2])}\"\n",
    "    elif x > threshold[1]:\n",
    "        result = f\"{round(threshold[1])} < x < {round(threshold[2])}\"\n",
    "    else:\n",
    "        result = f\"< {round(threshold[1])}\"\n",
    "    return result"
   ]
  },
  {
   "cell_type": "code",
   "execution_count": 10,
   "metadata": {},
   "outputs": [
    {
     "name": "stdout",
     "output_type": "stream",
     "text": [
      "CPU times: user 16.6 s, sys: 16.8 ms, total: 16.6 s\n",
      "Wall time: 16.9 s\n"
     ]
    }
   ],
   "source": [
    "%%time\n",
    "\n",
    "customer_churn_data['balance_group'] = customer_churn_data.apply(\n",
    "    lambda x: group_by_balance(x['Balance'], customer_churn_data['Balance']), axis=1)"
   ]
  },
  {
   "cell_type": "code",
   "execution_count": 11,
   "metadata": {},
   "outputs": [],
   "source": [
    "customer_churn_data = customer_churn_data.drop(['Balance'], axis=1)"
   ]
  },
  {
   "cell_type": "markdown",
   "metadata": {},
   "source": [
    "### 1.2 Исследование \"выбросов\"\n",
    "Наличие \"выбросов\" в данных может ухудшить параметры настраиваемой модели, которая будет пытаться объяснить все наблюдения, включая нетипичные. В то же время есть риск неправильно определить и отфильтровать выбросы (перепутать выбросы и аномалии), что в итоге может привести к переобучению модели. Поэтому нужно делать это осторожно. Для фильтрации выбросов существуют разные подходы — можно искать выбросы в одном признаке или в нескольких признаках сразу.\n",
    "\n",
    "Наиболее простые варианты:\n",
    "- предположить наличие выбросов можно по коэффициенту эксцесса (для симметричных распределений),\n",
    "- или стандартизировать значения и воспользоваться правилом \"3 сигм\" для нормальных распределений,\n",
    "- можно ограничиться поиском экстремальных значений по боксплоту.\n",
    "\n",
    "Воспользуюсь третьим вариантом. Для того, чтобы боксплоты на одной диаграмме были сопоставимы стандартизирую их шкалы."
   ]
  },
  {
   "cell_type": "code",
   "execution_count": 12,
   "metadata": {},
   "outputs": [
    {
     "data": {
      "image/png": "[encoded data removed]",
      "text/plain": [
       "<Figure size 720x576 with 1 Axes>"
      ]
     },
     "metadata": {},
     "output_type": "display_data"
    }
   ],
   "source": [
    "# определим количественные признаки\n",
    "numeric = ['CreditScore', 'Age', 'Tenure', 'NumOfProducts', 'EstimatedSalary'] #'Balance'\n",
    "\n",
    "with sns.axes_style(\"darkgrid\"):\n",
    "    fig, ax = plt.subplots(figsize=(10, 8))\n",
    "\n",
    "# стандартизируем шкалы для наглядности\n",
    "\n",
    "sns.boxplot(data=[(customer_churn_data[x] - customer_churn_data[x].mean()) / \n",
    "                  customer_churn_data[x].std() for x in customer_churn_data[numeric]],\n",
    "            orient=\"h\", palette=\"Set2\", ax=ax)\n",
    "\n",
    "ax.set_yticklabels(list(customer_churn_data[numeric].columns))\n",
    "ax.set_title(\"Диаграмма размаха стандартизированных значений \\n\\\n",
    "количественных признаков customer_churn_data\", size=16, pad=20)\n",
    "ax.tick_params(labelsize=12)\n",
    "\n",
    "plt.show()"
   ]
  },
  {
   "cell_type": "markdown",
   "metadata": {},
   "source": [
    "По диаграмме размаха заметны экстремальные значения признаков 'CreditScore', 'Age' и 'NumOfProducts'. В первом случае наблюдаем значения на отметке примерно \"-3 сигмы\". Во втором случае, значение признака может отклоняться более чем на \"3 сигмы\" (до \"5 сигм\"). В третьем случае, выделилось максимальное значение. Изучим объекты с соответствующими значениями признаков  подробнее."
   ]
  },
  {
   "cell_type": "code",
   "execution_count": 13,
   "metadata": {},
   "outputs": [
    {
     "data": {
      "text/html": [
       "<div>\n",
       "<style scoped>\n",
       "    .dataframe tbody tr th:only-of-type {\n",
       "        vertical-align: middle;\n",
       "    }\n",
       "\n",
       "    .dataframe tbody tr th {\n",
       "        vertical-align: top;\n",
       "    }\n",
       "\n",
       "    .dataframe thead th {\n",
       "        text-align: right;\n",
       "    }\n",
       "</style>\n",
       "<table border=\"1\" class=\"dataframe\">\n",
       "  <thead>\n",
       "    <tr style=\"text-align: right;\">\n",
       "      <th></th>\n",
       "      <th>CreditScore</th>\n",
       "      <th>Geography</th>\n",
       "      <th>Gender</th>\n",
       "      <th>Age</th>\n",
       "      <th>Tenure</th>\n",
       "      <th>NumOfProducts</th>\n",
       "      <th>HasCrCard</th>\n",
       "      <th>IsActiveMember</th>\n",
       "      <th>EstimatedSalary</th>\n",
       "      <th>Exited</th>\n",
       "      <th>has_balance</th>\n",
       "      <th>balance_group</th>\n",
       "    </tr>\n",
       "  </thead>\n",
       "  <tbody>\n",
       "    <tr>\n",
       "      <td>9624</td>\n",
       "      <td>350</td>\n",
       "      <td>France</td>\n",
       "      <td>Female</td>\n",
       "      <td>40</td>\n",
       "      <td>0.0</td>\n",
       "      <td>1</td>\n",
       "      <td>1</td>\n",
       "      <td>1</td>\n",
       "      <td>172321.21</td>\n",
       "      <td>1</td>\n",
       "      <td>1</td>\n",
       "      <td>97199 &lt; x &lt; 127644</td>\n",
       "    </tr>\n",
       "    <tr>\n",
       "      <td>8762</td>\n",
       "      <td>350</td>\n",
       "      <td>France</td>\n",
       "      <td>Female</td>\n",
       "      <td>60</td>\n",
       "      <td>3.0</td>\n",
       "      <td>1</td>\n",
       "      <td>0</td>\n",
       "      <td>0</td>\n",
       "      <td>113796.15</td>\n",
       "      <td>1</td>\n",
       "      <td>0</td>\n",
       "      <td>&lt; 97199</td>\n",
       "    </tr>\n",
       "    <tr>\n",
       "      <td>1631</td>\n",
       "      <td>350</td>\n",
       "      <td>Spain</td>\n",
       "      <td>Male</td>\n",
       "      <td>54</td>\n",
       "      <td>1.0</td>\n",
       "      <td>1</td>\n",
       "      <td>1</td>\n",
       "      <td>1</td>\n",
       "      <td>191973.49</td>\n",
       "      <td>1</td>\n",
       "      <td>1</td>\n",
       "      <td>&gt; 127644</td>\n",
       "    </tr>\n",
       "    <tr>\n",
       "      <td>1838</td>\n",
       "      <td>350</td>\n",
       "      <td>Germany</td>\n",
       "      <td>Male</td>\n",
       "      <td>39</td>\n",
       "      <td>0.0</td>\n",
       "      <td>2</td>\n",
       "      <td>0</td>\n",
       "      <td>0</td>\n",
       "      <td>123602.11</td>\n",
       "      <td>1</td>\n",
       "      <td>1</td>\n",
       "      <td>97199 &lt; x &lt; 127644</td>\n",
       "    </tr>\n",
       "    <tr>\n",
       "      <td>8723</td>\n",
       "      <td>350</td>\n",
       "      <td>France</td>\n",
       "      <td>Male</td>\n",
       "      <td>51</td>\n",
       "      <td>10.0</td>\n",
       "      <td>1</td>\n",
       "      <td>1</td>\n",
       "      <td>1</td>\n",
       "      <td>125823.79</td>\n",
       "      <td>1</td>\n",
       "      <td>0</td>\n",
       "      <td>&lt; 97199</td>\n",
       "    </tr>\n",
       "    <tr>\n",
       "      <td>2473</td>\n",
       "      <td>351</td>\n",
       "      <td>Germany</td>\n",
       "      <td>Female</td>\n",
       "      <td>57</td>\n",
       "      <td>4.0</td>\n",
       "      <td>1</td>\n",
       "      <td>1</td>\n",
       "      <td>0</td>\n",
       "      <td>169621.69</td>\n",
       "      <td>1</td>\n",
       "      <td>1</td>\n",
       "      <td>&gt; 127644</td>\n",
       "    </tr>\n",
       "    <tr>\n",
       "      <td>1962</td>\n",
       "      <td>358</td>\n",
       "      <td>Spain</td>\n",
       "      <td>Female</td>\n",
       "      <td>52</td>\n",
       "      <td>8.0</td>\n",
       "      <td>3</td>\n",
       "      <td>1</td>\n",
       "      <td>0</td>\n",
       "      <td>141959.11</td>\n",
       "      <td>1</td>\n",
       "      <td>1</td>\n",
       "      <td>&gt; 127644</td>\n",
       "    </tr>\n",
       "    <tr>\n",
       "      <td>1405</td>\n",
       "      <td>359</td>\n",
       "      <td>France</td>\n",
       "      <td>Female</td>\n",
       "      <td>44</td>\n",
       "      <td>NaN</td>\n",
       "      <td>1</td>\n",
       "      <td>1</td>\n",
       "      <td>0</td>\n",
       "      <td>146955.71</td>\n",
       "      <td>1</td>\n",
       "      <td>1</td>\n",
       "      <td>&gt; 127644</td>\n",
       "    </tr>\n",
       "    <tr>\n",
       "      <td>1193</td>\n",
       "      <td>363</td>\n",
       "      <td>Spain</td>\n",
       "      <td>Female</td>\n",
       "      <td>28</td>\n",
       "      <td>6.0</td>\n",
       "      <td>3</td>\n",
       "      <td>1</td>\n",
       "      <td>0</td>\n",
       "      <td>100615.14</td>\n",
       "      <td>1</td>\n",
       "      <td>1</td>\n",
       "      <td>&gt; 127644</td>\n",
       "    </tr>\n",
       "    <tr>\n",
       "      <td>2579</td>\n",
       "      <td>365</td>\n",
       "      <td>Germany</td>\n",
       "      <td>Male</td>\n",
       "      <td>30</td>\n",
       "      <td>0.0</td>\n",
       "      <td>1</td>\n",
       "      <td>1</td>\n",
       "      <td>0</td>\n",
       "      <td>81537.85</td>\n",
       "      <td>1</td>\n",
       "      <td>1</td>\n",
       "      <td>&gt; 127644</td>\n",
       "    </tr>\n",
       "    <tr>\n",
       "      <td>8154</td>\n",
       "      <td>367</td>\n",
       "      <td>Spain</td>\n",
       "      <td>Male</td>\n",
       "      <td>42</td>\n",
       "      <td>6.0</td>\n",
       "      <td>1</td>\n",
       "      <td>1</td>\n",
       "      <td>0</td>\n",
       "      <td>168816.73</td>\n",
       "      <td>1</td>\n",
       "      <td>1</td>\n",
       "      <td>&lt; 97199</td>\n",
       "    </tr>\n",
       "    <tr>\n",
       "      <td>9356</td>\n",
       "      <td>373</td>\n",
       "      <td>France</td>\n",
       "      <td>Male</td>\n",
       "      <td>42</td>\n",
       "      <td>7.0</td>\n",
       "      <td>1</td>\n",
       "      <td>1</td>\n",
       "      <td>0</td>\n",
       "      <td>77786.37</td>\n",
       "      <td>1</td>\n",
       "      <td>0</td>\n",
       "      <td>&lt; 97199</td>\n",
       "    </tr>\n",
       "    <tr>\n",
       "      <td>942</td>\n",
       "      <td>376</td>\n",
       "      <td>France</td>\n",
       "      <td>Female</td>\n",
       "      <td>46</td>\n",
       "      <td>NaN</td>\n",
       "      <td>1</td>\n",
       "      <td>1</td>\n",
       "      <td>0</td>\n",
       "      <td>157333.69</td>\n",
       "      <td>1</td>\n",
       "      <td>0</td>\n",
       "      <td>&lt; 97199</td>\n",
       "    </tr>\n",
       "    <tr>\n",
       "      <td>7</td>\n",
       "      <td>376</td>\n",
       "      <td>Germany</td>\n",
       "      <td>Female</td>\n",
       "      <td>29</td>\n",
       "      <td>4.0</td>\n",
       "      <td>4</td>\n",
       "      <td>1</td>\n",
       "      <td>0</td>\n",
       "      <td>119346.88</td>\n",
       "      <td>1</td>\n",
       "      <td>1</td>\n",
       "      <td>97199 &lt; x &lt; 127644</td>\n",
       "    </tr>\n",
       "    <tr>\n",
       "      <td>9210</td>\n",
       "      <td>382</td>\n",
       "      <td>Spain</td>\n",
       "      <td>Male</td>\n",
       "      <td>36</td>\n",
       "      <td>0.0</td>\n",
       "      <td>1</td>\n",
       "      <td>1</td>\n",
       "      <td>1</td>\n",
       "      <td>179540.73</td>\n",
       "      <td>1</td>\n",
       "      <td>0</td>\n",
       "      <td>&lt; 97199</td>\n",
       "    </tr>\n",
       "    <tr>\n",
       "      <td>5494</td>\n",
       "      <td>383</td>\n",
       "      <td>Spain</td>\n",
       "      <td>Female</td>\n",
       "      <td>48</td>\n",
       "      <td>8.0</td>\n",
       "      <td>1</td>\n",
       "      <td>0</td>\n",
       "      <td>0</td>\n",
       "      <td>137702.01</td>\n",
       "      <td>1</td>\n",
       "      <td>1</td>\n",
       "      <td>&lt; 97199</td>\n",
       "    </tr>\n",
       "    <tr>\n",
       "      <td>5285</td>\n",
       "      <td>386</td>\n",
       "      <td>Spain</td>\n",
       "      <td>Female</td>\n",
       "      <td>53</td>\n",
       "      <td>1.0</td>\n",
       "      <td>1</td>\n",
       "      <td>1</td>\n",
       "      <td>1</td>\n",
       "      <td>62514.65</td>\n",
       "      <td>1</td>\n",
       "      <td>1</td>\n",
       "      <td>&gt; 127644</td>\n",
       "    </tr>\n",
       "  </tbody>\n",
       "</table>\n",
       "</div>"
      ],
      "text/plain": [
       "      CreditScore Geography  Gender  Age  Tenure  NumOfProducts  HasCrCard  \\\n",
       "9624          350    France  Female   40     0.0              1          1   \n",
       "8762          350    France  Female   60     3.0              1          0   \n",
       "1631          350     Spain    Male   54     1.0              1          1   \n",
       "1838          350   Germany    Male   39     0.0              2          0   \n",
       "8723          350    France    Male   51    10.0              1          1   \n",
       "2473          351   Germany  Female   57     4.0              1          1   \n",
       "1962          358     Spain  Female   52     8.0              3          1   \n",
       "1405          359    France  Female   44     NaN              1          1   \n",
       "1193          363     Spain  Female   28     6.0              3          1   \n",
       "2579          365   Germany    Male   30     0.0              1          1   \n",
       "8154          367     Spain    Male   42     6.0              1          1   \n",
       "9356          373    France    Male   42     7.0              1          1   \n",
       "942           376    France  Female   46     NaN              1          1   \n",
       "7             376   Germany  Female   29     4.0              4          1   \n",
       "9210          382     Spain    Male   36     0.0              1          1   \n",
       "5494          383     Spain  Female   48     8.0              1          0   \n",
       "5285          386     Spain  Female   53     1.0              1          1   \n",
       "\n",
       "      IsActiveMember  EstimatedSalary  Exited  has_balance       balance_group  \n",
       "9624               1        172321.21       1            1  97199 < x < 127644  \n",
       "8762               0        113796.15       1            0             < 97199  \n",
       "1631               1        191973.49       1            1            > 127644  \n",
       "1838               0        123602.11       1            1  97199 < x < 127644  \n",
       "8723               1        125823.79       1            0             < 97199  \n",
       "2473               0        169621.69       1            1            > 127644  \n",
       "1962               0        141959.11       1            1            > 127644  \n",
       "1405               0        146955.71       1            1            > 127644  \n",
       "1193               0        100615.14       1            1            > 127644  \n",
       "2579               0         81537.85       1            1            > 127644  \n",
       "8154               0        168816.73       1            1             < 97199  \n",
       "9356               0         77786.37       1            0             < 97199  \n",
       "942                0        157333.69       1            0             < 97199  \n",
       "7                  0        119346.88       1            1  97199 < x < 127644  \n",
       "9210               1        179540.73       1            0             < 97199  \n",
       "5494               0        137702.01       1            1             < 97199  \n",
       "5285               1         62514.65       1            1            > 127644  "
      ]
     },
     "execution_count": 13,
     "metadata": {},
     "output_type": "execute_result"
    }
   ],
   "source": [
    "# отфильтруем объекты отклоняющиеся от среднего более чем на -2.7 сигмы\n",
    "(customer_churn_data.query(\"(CreditScore - CreditScore.mean()) / CreditScore.std() < -2.7\"\n",
    "                          ).sort_values(by='CreditScore'))"
   ]
  },
  {
   "cell_type": "markdown",
   "metadata": {},
   "source": [
    "Единственное, что бросается в глаза, так это то, что все клиенты с 'CreditScore' близким к \"-3 сигмы\" покинули банк ('Exited' = 1). Но, несмотря на это, баланс счета у большинства положительный. Также почти у всех предполагаемая зарплата выше выборочного среднего. Наводит на мысль, что кредитный рейтинг не в первую очередь зависит от предполагаемого дохода, а клиенты моги уйти из-за того, что не получили желаемый кредит (из-за своего рейтинга), либо потому что им хватает собственного дохода. Эти объекты могут представлять ценность для исследования, поэтому я не буду удалять их как выбросы."
   ]
  },
  {
   "cell_type": "code",
   "execution_count": 14,
   "metadata": {},
   "outputs": [
    {
     "data": {
      "text/html": [
       "<div>\n",
       "<style scoped>\n",
       "    .dataframe tbody tr th:only-of-type {\n",
       "        vertical-align: middle;\n",
       "    }\n",
       "\n",
       "    .dataframe tbody tr th {\n",
       "        vertical-align: top;\n",
       "    }\n",
       "\n",
       "    .dataframe thead th {\n",
       "        text-align: right;\n",
       "    }\n",
       "</style>\n",
       "<table border=\"1\" class=\"dataframe\">\n",
       "  <thead>\n",
       "    <tr style=\"text-align: right;\">\n",
       "      <th></th>\n",
       "      <th>CreditScore</th>\n",
       "      <th>Age</th>\n",
       "      <th>Tenure</th>\n",
       "      <th>NumOfProducts</th>\n",
       "      <th>HasCrCard</th>\n",
       "      <th>IsActiveMember</th>\n",
       "      <th>EstimatedSalary</th>\n",
       "      <th>Exited</th>\n",
       "      <th>has_balance</th>\n",
       "    </tr>\n",
       "  </thead>\n",
       "  <tbody>\n",
       "    <tr>\n",
       "      <td>count</td>\n",
       "      <td>411.000000</td>\n",
       "      <td>411.000000</td>\n",
       "      <td>384.000000</td>\n",
       "      <td>411.000000</td>\n",
       "      <td>411.000000</td>\n",
       "      <td>411.000000</td>\n",
       "      <td>411.000000</td>\n",
       "      <td>411.000000</td>\n",
       "      <td>411.000000</td>\n",
       "    </tr>\n",
       "    <tr>\n",
       "      <td>mean</td>\n",
       "      <td>656.150852</td>\n",
       "      <td>68.350365</td>\n",
       "      <td>4.958333</td>\n",
       "      <td>1.513382</td>\n",
       "      <td>0.698297</td>\n",
       "      <td>0.817518</td>\n",
       "      <td>97522.942141</td>\n",
       "      <td>0.228710</td>\n",
       "      <td>0.632603</td>\n",
       "    </tr>\n",
       "    <tr>\n",
       "      <td>std</td>\n",
       "      <td>96.429813</td>\n",
       "      <td>5.459283</td>\n",
       "      <td>3.014904</td>\n",
       "      <td>0.585759</td>\n",
       "      <td>0.459557</td>\n",
       "      <td>0.386712</td>\n",
       "      <td>57743.252981</td>\n",
       "      <td>0.420514</td>\n",
       "      <td>0.482683</td>\n",
       "    </tr>\n",
       "    <tr>\n",
       "      <td>min</td>\n",
       "      <td>408.000000</td>\n",
       "      <td>62.000000</td>\n",
       "      <td>0.000000</td>\n",
       "      <td>1.000000</td>\n",
       "      <td>0.000000</td>\n",
       "      <td>0.000000</td>\n",
       "      <td>502.700000</td>\n",
       "      <td>0.000000</td>\n",
       "      <td>0.000000</td>\n",
       "    </tr>\n",
       "    <tr>\n",
       "      <td>25%</td>\n",
       "      <td>592.500000</td>\n",
       "      <td>64.000000</td>\n",
       "      <td>2.000000</td>\n",
       "      <td>1.000000</td>\n",
       "      <td>0.000000</td>\n",
       "      <td>1.000000</td>\n",
       "      <td>48407.890000</td>\n",
       "      <td>0.000000</td>\n",
       "      <td>0.000000</td>\n",
       "    </tr>\n",
       "    <tr>\n",
       "      <td>50%</td>\n",
       "      <td>656.000000</td>\n",
       "      <td>67.000000</td>\n",
       "      <td>5.000000</td>\n",
       "      <td>1.000000</td>\n",
       "      <td>1.000000</td>\n",
       "      <td>1.000000</td>\n",
       "      <td>96399.670000</td>\n",
       "      <td>0.000000</td>\n",
       "      <td>1.000000</td>\n",
       "    </tr>\n",
       "    <tr>\n",
       "      <td>75%</td>\n",
       "      <td>724.500000</td>\n",
       "      <td>72.000000</td>\n",
       "      <td>8.000000</td>\n",
       "      <td>2.000000</td>\n",
       "      <td>1.000000</td>\n",
       "      <td>1.000000</td>\n",
       "      <td>145873.755000</td>\n",
       "      <td>0.000000</td>\n",
       "      <td>1.000000</td>\n",
       "    </tr>\n",
       "    <tr>\n",
       "      <td>max</td>\n",
       "      <td>850.000000</td>\n",
       "      <td>92.000000</td>\n",
       "      <td>10.000000</td>\n",
       "      <td>4.000000</td>\n",
       "      <td>1.000000</td>\n",
       "      <td>1.000000</td>\n",
       "      <td>199493.380000</td>\n",
       "      <td>1.000000</td>\n",
       "      <td>1.000000</td>\n",
       "    </tr>\n",
       "  </tbody>\n",
       "</table>\n",
       "</div>"
      ],
      "text/plain": [
       "       CreditScore         Age      Tenure  NumOfProducts   HasCrCard  \\\n",
       "count   411.000000  411.000000  384.000000     411.000000  411.000000   \n",
       "mean    656.150852   68.350365    4.958333       1.513382    0.698297   \n",
       "std      96.429813    5.459283    3.014904       0.585759    0.459557   \n",
       "min     408.000000   62.000000    0.000000       1.000000    0.000000   \n",
       "25%     592.500000   64.000000    2.000000       1.000000    0.000000   \n",
       "50%     656.000000   67.000000    5.000000       1.000000    1.000000   \n",
       "75%     724.500000   72.000000    8.000000       2.000000    1.000000   \n",
       "max     850.000000   92.000000   10.000000       4.000000    1.000000   \n",
       "\n",
       "       IsActiveMember  EstimatedSalary      Exited  has_balance  \n",
       "count      411.000000       411.000000  411.000000   411.000000  \n",
       "mean         0.817518     97522.942141    0.228710     0.632603  \n",
       "std          0.386712     57743.252981    0.420514     0.482683  \n",
       "min          0.000000       502.700000    0.000000     0.000000  \n",
       "25%          1.000000     48407.890000    0.000000     0.000000  \n",
       "50%          1.000000     96399.670000    0.000000     1.000000  \n",
       "75%          1.000000    145873.755000    0.000000     1.000000  \n",
       "max          1.000000    199493.380000    1.000000     1.000000  "
      ]
     },
     "execution_count": 14,
     "metadata": {},
     "output_type": "execute_result"
    }
   ],
   "source": [
    "# отфильтруем объекты отклоняющиеся от среднего более чем на 2.2 сигмы\n",
    "customer_churn_data.query(\"(Age - Age.mean()) / Age.std() > 2.2\").describe()"
   ]
  },
  {
   "cell_type": "markdown",
   "metadata": {},
   "source": [
    "Так как объектов более 100, рассмотрим описательные статистики. В данную группу попали клиенты в возрасте 62-92 года. Гипотетически люди могут иметь такой возраст, данные значения вряд ли являются ошибочными (в выборке жители европейских стран). Почти все клиенты этой возрастной категории являются активными пользователями ('IsActiveMember' = 1). Примерно поровну клиентов с доходом выше и ниже среднего по выборке ('EstimatedSalary')."
   ]
  },
  {
   "cell_type": "code",
   "execution_count": 15,
   "metadata": {},
   "outputs": [
    {
     "data": {
      "text/html": [
       "<div>\n",
       "<style scoped>\n",
       "    .dataframe tbody tr th:only-of-type {\n",
       "        vertical-align: middle;\n",
       "    }\n",
       "\n",
       "    .dataframe tbody tr th {\n",
       "        vertical-align: top;\n",
       "    }\n",
       "\n",
       "    .dataframe thead th {\n",
       "        text-align: right;\n",
       "    }\n",
       "</style>\n",
       "<table border=\"1\" class=\"dataframe\">\n",
       "  <thead>\n",
       "    <tr style=\"text-align: right;\">\n",
       "      <th></th>\n",
       "      <th>CreditScore</th>\n",
       "      <th>Age</th>\n",
       "      <th>Tenure</th>\n",
       "      <th>NumOfProducts</th>\n",
       "      <th>HasCrCard</th>\n",
       "      <th>IsActiveMember</th>\n",
       "      <th>EstimatedSalary</th>\n",
       "      <th>Exited</th>\n",
       "      <th>has_balance</th>\n",
       "    </tr>\n",
       "  </thead>\n",
       "  <tbody>\n",
       "    <tr>\n",
       "      <td>count</td>\n",
       "      <td>60.000000</td>\n",
       "      <td>60.000000</td>\n",
       "      <td>56.000000</td>\n",
       "      <td>60.0</td>\n",
       "      <td>60.000000</td>\n",
       "      <td>60.000000</td>\n",
       "      <td>60.000000</td>\n",
       "      <td>60.0</td>\n",
       "      <td>60.000000</td>\n",
       "    </tr>\n",
       "    <tr>\n",
       "      <td>mean</td>\n",
       "      <td>653.583333</td>\n",
       "      <td>45.683333</td>\n",
       "      <td>5.232143</td>\n",
       "      <td>4.0</td>\n",
       "      <td>0.683333</td>\n",
       "      <td>0.483333</td>\n",
       "      <td>104763.723333</td>\n",
       "      <td>1.0</td>\n",
       "      <td>0.766667</td>\n",
       "    </tr>\n",
       "    <tr>\n",
       "      <td>std</td>\n",
       "      <td>101.265600</td>\n",
       "      <td>8.619040</td>\n",
       "      <td>2.935619</td>\n",
       "      <td>0.0</td>\n",
       "      <td>0.469102</td>\n",
       "      <td>0.503939</td>\n",
       "      <td>57526.494114</td>\n",
       "      <td>0.0</td>\n",
       "      <td>0.426522</td>\n",
       "    </tr>\n",
       "    <tr>\n",
       "      <td>min</td>\n",
       "      <td>376.000000</td>\n",
       "      <td>29.000000</td>\n",
       "      <td>1.000000</td>\n",
       "      <td>4.0</td>\n",
       "      <td>0.000000</td>\n",
       "      <td>0.000000</td>\n",
       "      <td>5669.310000</td>\n",
       "      <td>1.0</td>\n",
       "      <td>0.000000</td>\n",
       "    </tr>\n",
       "    <tr>\n",
       "      <td>25%</td>\n",
       "      <td>595.000000</td>\n",
       "      <td>40.000000</td>\n",
       "      <td>2.750000</td>\n",
       "      <td>4.0</td>\n",
       "      <td>0.000000</td>\n",
       "      <td>0.000000</td>\n",
       "      <td>62033.390000</td>\n",
       "      <td>1.0</td>\n",
       "      <td>1.000000</td>\n",
       "    </tr>\n",
       "    <tr>\n",
       "      <td>50%</td>\n",
       "      <td>643.000000</td>\n",
       "      <td>45.000000</td>\n",
       "      <td>5.000000</td>\n",
       "      <td>4.0</td>\n",
       "      <td>1.000000</td>\n",
       "      <td>0.000000</td>\n",
       "      <td>112163.105000</td>\n",
       "      <td>1.0</td>\n",
       "      <td>1.000000</td>\n",
       "    </tr>\n",
       "    <tr>\n",
       "      <td>75%</td>\n",
       "      <td>708.000000</td>\n",
       "      <td>50.250000</td>\n",
       "      <td>8.000000</td>\n",
       "      <td>4.0</td>\n",
       "      <td>1.000000</td>\n",
       "      <td>1.000000</td>\n",
       "      <td>139371.955000</td>\n",
       "      <td>1.0</td>\n",
       "      <td>1.000000</td>\n",
       "    </tr>\n",
       "    <tr>\n",
       "      <td>max</td>\n",
       "      <td>850.000000</td>\n",
       "      <td>68.000000</td>\n",
       "      <td>10.000000</td>\n",
       "      <td>4.0</td>\n",
       "      <td>1.000000</td>\n",
       "      <td>1.000000</td>\n",
       "      <td>198874.520000</td>\n",
       "      <td>1.0</td>\n",
       "      <td>1.000000</td>\n",
       "    </tr>\n",
       "  </tbody>\n",
       "</table>\n",
       "</div>"
      ],
      "text/plain": [
       "       CreditScore        Age     Tenure  NumOfProducts  HasCrCard  \\\n",
       "count    60.000000  60.000000  56.000000           60.0  60.000000   \n",
       "mean    653.583333  45.683333   5.232143            4.0   0.683333   \n",
       "std     101.265600   8.619040   2.935619            0.0   0.469102   \n",
       "min     376.000000  29.000000   1.000000            4.0   0.000000   \n",
       "25%     595.000000  40.000000   2.750000            4.0   0.000000   \n",
       "50%     643.000000  45.000000   5.000000            4.0   1.000000   \n",
       "75%     708.000000  50.250000   8.000000            4.0   1.000000   \n",
       "max     850.000000  68.000000  10.000000            4.0   1.000000   \n",
       "\n",
       "       IsActiveMember  EstimatedSalary  Exited  has_balance  \n",
       "count       60.000000        60.000000    60.0    60.000000  \n",
       "mean         0.483333    104763.723333     1.0     0.766667  \n",
       "std          0.503939     57526.494114     0.0     0.426522  \n",
       "min          0.000000      5669.310000     1.0     0.000000  \n",
       "25%          0.000000     62033.390000     1.0     1.000000  \n",
       "50%          0.000000    112163.105000     1.0     1.000000  \n",
       "75%          1.000000    139371.955000     1.0     1.000000  \n",
       "max          1.000000    198874.520000     1.0     1.000000  "
      ]
     },
     "execution_count": 15,
     "metadata": {},
     "output_type": "execute_result"
    }
   ],
   "source": [
    "# отфильтруем объекты отклоняющиеся от среднего более чем на 3 сигмы\n",
    "(customer_churn_data.query(\"(NumOfProducts - NumOfProducts.mean()) / NumOfProducts.std() > 3\"\n",
    "                          ).sort_values(by='EstimatedSalary')).describe()"
   ]
  },
  {
   "cell_type": "markdown",
   "metadata": {},
   "source": [
    "В данную группу попали только ушедшие клиенты ('Exited' = 1), которые пользовались всеми четырьмя продуктами банка ('NumOfProducts' = 4). Большая часть имеет нормальный кредитный рейтинг ('CreditScore') и указали минимум один объект недвижимости ('Tenure'). Примерно поровну из них были активными пользователями ('IsActiveMember').\n",
    "\n",
    "Можно будет обучить модель дважды — на данных с/без обработки \"выбросов\". Оценить влияние этих значений на качество модели. Так как возможен дисбаланс групп в целевом признаке, нельзя удалять объекты целиком. Вместо этого можно обработать \"выбросы\" как пропущенные значения."
   ]
  },
  {
   "cell_type": "markdown",
   "metadata": {},
   "source": [
    "### 1.3 Обзор и кодирование категориальных признаков\n",
    "\n",
    "В искомом датасете есть четыре бинарных признака - 'HasCrCard', 'IsActiveMember', has_balance и 'Exited' (один из них целевой признак) и еще три категориальных признака - 'Geography', 'Gender' и 'balance_group'. Для начала изучим классы категориальных признаков и их численность."
   ]
  },
  {
   "cell_type": "code",
   "execution_count": 16,
   "metadata": {},
   "outputs": [
    {
     "name": "stdout",
     "output_type": "stream",
     "text": [
      "Название признака: HasCrCard\n"
     ]
    },
    {
     "data": {
      "text/plain": [
       "1    70.55%\n",
       "0    29.45%\n",
       "Name: HasCrCard, dtype: object"
      ]
     },
     "metadata": {},
     "output_type": "display_data"
    },
    {
     "name": "stdout",
     "output_type": "stream",
     "text": [
      "--------------------------------------------------\n",
      "Название признака: IsActiveMember\n"
     ]
    },
    {
     "data": {
      "text/plain": [
       "1    51.51%\n",
       "0    48.49%\n",
       "Name: IsActiveMember, dtype: object"
      ]
     },
     "metadata": {},
     "output_type": "display_data"
    },
    {
     "name": "stdout",
     "output_type": "stream",
     "text": [
      "--------------------------------------------------\n",
      "Название признака: Exited\n"
     ]
    },
    {
     "data": {
      "text/plain": [
       "0    79.63%\n",
       "1    20.37%\n",
       "Name: Exited, dtype: object"
      ]
     },
     "metadata": {},
     "output_type": "display_data"
    },
    {
     "name": "stdout",
     "output_type": "stream",
     "text": [
      "--------------------------------------------------\n",
      "Название признака: Geography\n"
     ]
    },
    {
     "data": {
      "text/plain": [
       "France     50.14%\n",
       "Germany    25.09%\n",
       "Spain      24.77%\n",
       "Name: Geography, dtype: object"
      ]
     },
     "metadata": {},
     "output_type": "display_data"
    },
    {
     "name": "stdout",
     "output_type": "stream",
     "text": [
      "--------------------------------------------------\n",
      "Название признака: Gender\n"
     ]
    },
    {
     "data": {
      "text/plain": [
       "Male      54.57%\n",
       "Female    45.43%\n",
       "Name: Gender, dtype: object"
      ]
     },
     "metadata": {},
     "output_type": "display_data"
    },
    {
     "name": "stdout",
     "output_type": "stream",
     "text": [
      "--------------------------------------------------\n",
      "Название признака: has_balance\n"
     ]
    },
    {
     "data": {
      "text/plain": [
       "1    63.83%\n",
       "0    36.17%\n",
       "Name: has_balance, dtype: object"
      ]
     },
     "metadata": {},
     "output_type": "display_data"
    },
    {
     "name": "stdout",
     "output_type": "stream",
     "text": [
      "--------------------------------------------------\n",
      "Название признака: balance_group\n"
     ]
    },
    {
     "data": {
      "text/plain": [
       "< 97199               50.00%\n",
       "97199 < x < 127644    25.00%\n",
       "> 127644              25.00%\n",
       "Name: balance_group, dtype: object"
      ]
     },
     "metadata": {},
     "output_type": "display_data"
    },
    {
     "name": "stdout",
     "output_type": "stream",
     "text": [
      "--------------------------------------------------\n"
     ]
    }
   ],
   "source": [
    "for column in ['HasCrCard', 'IsActiveMember', 'Exited', 'Geography',\n",
    "               'Gender', 'has_balance', 'balance_group']:\n",
    "    print(f\"Название признака: {customer_churn_data[column].name}\")\n",
    "    display((customer_churn_data[column]\n",
    "             .value_counts(normalize=True)\n",
    "             .map(lambda x: '{:,.2%}'.format(x))))\n",
    "    print(\"--------------------------------------------------\")"
   ]
  },
  {
   "cell_type": "markdown",
   "metadata": {},
   "source": [
    "Дадим короткую характеристику каждого из пунктов:\n",
    "* Почти все клиенты выборки имеют кредитные карты.\n",
    "* Половина клиентов являются активными пользователями.\n",
    "* Около 20 процентов клиентов в выборке являются ушедшими, т.о наблюдаем дисбаланс классов целевом признаке.\n",
    "* География клиентов распространяется на три страны — Францию, Германию и Испанию.\n",
    "* В выборке практически поровну мужчин и женщин.\n",
    "\n",
    "Для логистической регрессии будем использовать технику прямого кодирования (One-Hot Encoding). Кодирование категориальных признаков не считает на обучающей выборке никаких параметров, поэтому его можно применять сразу к всему датасету."
   ]
  },
  {
   "cell_type": "code",
   "execution_count": 17,
   "metadata": {},
   "outputs": [
    {
     "data": {
      "text/html": [
       "<div>\n",
       "<style scoped>\n",
       "    .dataframe tbody tr th:only-of-type {\n",
       "        vertical-align: middle;\n",
       "    }\n",
       "\n",
       "    .dataframe tbody tr th {\n",
       "        vertical-align: top;\n",
       "    }\n",
       "\n",
       "    .dataframe thead th {\n",
       "        text-align: right;\n",
       "    }\n",
       "</style>\n",
       "<table border=\"1\" class=\"dataframe\">\n",
       "  <thead>\n",
       "    <tr style=\"text-align: right;\">\n",
       "      <th></th>\n",
       "      <th>CreditScore</th>\n",
       "      <th>Age</th>\n",
       "      <th>Tenure</th>\n",
       "      <th>NumOfProducts</th>\n",
       "      <th>HasCrCard</th>\n",
       "      <th>IsActiveMember</th>\n",
       "      <th>EstimatedSalary</th>\n",
       "      <th>Exited</th>\n",
       "      <th>has_balance</th>\n",
       "      <th>Geography_Germany</th>\n",
       "      <th>Geography_Spain</th>\n",
       "      <th>Gender_Male</th>\n",
       "      <th>balance_group_&lt; 97199</th>\n",
       "      <th>balance_group_&gt; 127644</th>\n",
       "    </tr>\n",
       "  </thead>\n",
       "  <tbody>\n",
       "    <tr>\n",
       "      <td>0</td>\n",
       "      <td>619</td>\n",
       "      <td>42</td>\n",
       "      <td>2.0</td>\n",
       "      <td>1</td>\n",
       "      <td>1</td>\n",
       "      <td>1</td>\n",
       "      <td>101348.88</td>\n",
       "      <td>1</td>\n",
       "      <td>0</td>\n",
       "      <td>0</td>\n",
       "      <td>0</td>\n",
       "      <td>0</td>\n",
       "      <td>1</td>\n",
       "      <td>0</td>\n",
       "    </tr>\n",
       "    <tr>\n",
       "      <td>1</td>\n",
       "      <td>608</td>\n",
       "      <td>41</td>\n",
       "      <td>1.0</td>\n",
       "      <td>1</td>\n",
       "      <td>0</td>\n",
       "      <td>1</td>\n",
       "      <td>112542.58</td>\n",
       "      <td>0</td>\n",
       "      <td>1</td>\n",
       "      <td>0</td>\n",
       "      <td>1</td>\n",
       "      <td>0</td>\n",
       "      <td>1</td>\n",
       "      <td>0</td>\n",
       "    </tr>\n",
       "    <tr>\n",
       "      <td>2</td>\n",
       "      <td>502</td>\n",
       "      <td>42</td>\n",
       "      <td>8.0</td>\n",
       "      <td>3</td>\n",
       "      <td>1</td>\n",
       "      <td>0</td>\n",
       "      <td>113931.57</td>\n",
       "      <td>1</td>\n",
       "      <td>1</td>\n",
       "      <td>0</td>\n",
       "      <td>0</td>\n",
       "      <td>0</td>\n",
       "      <td>0</td>\n",
       "      <td>1</td>\n",
       "    </tr>\n",
       "    <tr>\n",
       "      <td>3</td>\n",
       "      <td>699</td>\n",
       "      <td>39</td>\n",
       "      <td>1.0</td>\n",
       "      <td>2</td>\n",
       "      <td>0</td>\n",
       "      <td>0</td>\n",
       "      <td>93826.63</td>\n",
       "      <td>0</td>\n",
       "      <td>0</td>\n",
       "      <td>0</td>\n",
       "      <td>0</td>\n",
       "      <td>0</td>\n",
       "      <td>1</td>\n",
       "      <td>0</td>\n",
       "    </tr>\n",
       "    <tr>\n",
       "      <td>4</td>\n",
       "      <td>850</td>\n",
       "      <td>43</td>\n",
       "      <td>2.0</td>\n",
       "      <td>1</td>\n",
       "      <td>1</td>\n",
       "      <td>1</td>\n",
       "      <td>79084.10</td>\n",
       "      <td>0</td>\n",
       "      <td>1</td>\n",
       "      <td>0</td>\n",
       "      <td>1</td>\n",
       "      <td>0</td>\n",
       "      <td>0</td>\n",
       "      <td>0</td>\n",
       "    </tr>\n",
       "    <tr>\n",
       "      <td>...</td>\n",
       "      <td>...</td>\n",
       "      <td>...</td>\n",
       "      <td>...</td>\n",
       "      <td>...</td>\n",
       "      <td>...</td>\n",
       "      <td>...</td>\n",
       "      <td>...</td>\n",
       "      <td>...</td>\n",
       "      <td>...</td>\n",
       "      <td>...</td>\n",
       "      <td>...</td>\n",
       "      <td>...</td>\n",
       "      <td>...</td>\n",
       "      <td>...</td>\n",
       "    </tr>\n",
       "    <tr>\n",
       "      <td>9995</td>\n",
       "      <td>771</td>\n",
       "      <td>39</td>\n",
       "      <td>5.0</td>\n",
       "      <td>2</td>\n",
       "      <td>1</td>\n",
       "      <td>0</td>\n",
       "      <td>96270.64</td>\n",
       "      <td>0</td>\n",
       "      <td>0</td>\n",
       "      <td>0</td>\n",
       "      <td>0</td>\n",
       "      <td>1</td>\n",
       "      <td>1</td>\n",
       "      <td>0</td>\n",
       "    </tr>\n",
       "    <tr>\n",
       "      <td>9996</td>\n",
       "      <td>516</td>\n",
       "      <td>35</td>\n",
       "      <td>10.0</td>\n",
       "      <td>1</td>\n",
       "      <td>1</td>\n",
       "      <td>1</td>\n",
       "      <td>101699.77</td>\n",
       "      <td>0</td>\n",
       "      <td>1</td>\n",
       "      <td>0</td>\n",
       "      <td>0</td>\n",
       "      <td>1</td>\n",
       "      <td>1</td>\n",
       "      <td>0</td>\n",
       "    </tr>\n",
       "    <tr>\n",
       "      <td>9997</td>\n",
       "      <td>709</td>\n",
       "      <td>36</td>\n",
       "      <td>7.0</td>\n",
       "      <td>1</td>\n",
       "      <td>0</td>\n",
       "      <td>1</td>\n",
       "      <td>42085.58</td>\n",
       "      <td>1</td>\n",
       "      <td>0</td>\n",
       "      <td>0</td>\n",
       "      <td>0</td>\n",
       "      <td>0</td>\n",
       "      <td>1</td>\n",
       "      <td>0</td>\n",
       "    </tr>\n",
       "    <tr>\n",
       "      <td>9998</td>\n",
       "      <td>772</td>\n",
       "      <td>42</td>\n",
       "      <td>3.0</td>\n",
       "      <td>2</td>\n",
       "      <td>1</td>\n",
       "      <td>0</td>\n",
       "      <td>92888.52</td>\n",
       "      <td>1</td>\n",
       "      <td>1</td>\n",
       "      <td>1</td>\n",
       "      <td>0</td>\n",
       "      <td>1</td>\n",
       "      <td>1</td>\n",
       "      <td>0</td>\n",
       "    </tr>\n",
       "    <tr>\n",
       "      <td>9999</td>\n",
       "      <td>792</td>\n",
       "      <td>28</td>\n",
       "      <td>NaN</td>\n",
       "      <td>1</td>\n",
       "      <td>1</td>\n",
       "      <td>0</td>\n",
       "      <td>38190.78</td>\n",
       "      <td>0</td>\n",
       "      <td>1</td>\n",
       "      <td>0</td>\n",
       "      <td>0</td>\n",
       "      <td>0</td>\n",
       "      <td>0</td>\n",
       "      <td>1</td>\n",
       "    </tr>\n",
       "  </tbody>\n",
       "</table>\n",
       "<p>10000 rows × 14 columns</p>\n",
       "</div>"
      ],
      "text/plain": [
       "      CreditScore  Age  Tenure  NumOfProducts  HasCrCard  IsActiveMember  \\\n",
       "0             619   42     2.0              1          1               1   \n",
       "1             608   41     1.0              1          0               1   \n",
       "2             502   42     8.0              3          1               0   \n",
       "3             699   39     1.0              2          0               0   \n",
       "4             850   43     2.0              1          1               1   \n",
       "...           ...  ...     ...            ...        ...             ...   \n",
       "9995          771   39     5.0              2          1               0   \n",
       "9996          516   35    10.0              1          1               1   \n",
       "9997          709   36     7.0              1          0               1   \n",
       "9998          772   42     3.0              2          1               0   \n",
       "9999          792   28     NaN              1          1               0   \n",
       "\n",
       "      EstimatedSalary  Exited  has_balance  Geography_Germany  \\\n",
       "0           101348.88       1            0                  0   \n",
       "1           112542.58       0            1                  0   \n",
       "2           113931.57       1            1                  0   \n",
       "3            93826.63       0            0                  0   \n",
       "4            79084.10       0            1                  0   \n",
       "...               ...     ...          ...                ...   \n",
       "9995         96270.64       0            0                  0   \n",
       "9996        101699.77       0            1                  0   \n",
       "9997         42085.58       1            0                  0   \n",
       "9998         92888.52       1            1                  1   \n",
       "9999         38190.78       0            1                  0   \n",
       "\n",
       "      Geography_Spain  Gender_Male  balance_group_< 97199  \\\n",
       "0                   0            0                      1   \n",
       "1                   1            0                      1   \n",
       "2                   0            0                      0   \n",
       "3                   0            0                      1   \n",
       "4                   1            0                      0   \n",
       "...               ...          ...                    ...   \n",
       "9995                0            1                      1   \n",
       "9996                0            1                      1   \n",
       "9997                0            0                      1   \n",
       "9998                0            1                      1   \n",
       "9999                0            0                      0   \n",
       "\n",
       "      balance_group_> 127644  \n",
       "0                          0  \n",
       "1                          0  \n",
       "2                          1  \n",
       "3                          0  \n",
       "4                          0  \n",
       "...                      ...  \n",
       "9995                       0  \n",
       "9996                       0  \n",
       "9997                       0  \n",
       "9998                       0  \n",
       "9999                       1  \n",
       "\n",
       "[10000 rows x 14 columns]"
      ]
     },
     "execution_count": 17,
     "metadata": {},
     "output_type": "execute_result"
    }
   ],
   "source": [
    "# укажем drop_first, чтобы избежать дамми-ловушки\n",
    "data_ohe = pd.get_dummies(customer_churn_data, drop_first=True)\n",
    "\n",
    "data_ohe"
   ]
  },
  {
   "cell_type": "markdown",
   "metadata": {},
   "source": [
    "### 1.4 Разделение данных на выборки\n",
    "\n",
    "Сначала разделим датасет на две части по признакам - в одном оставим целевой признак, а в другом обучающие признаки."
   ]
  },
  {
   "cell_type": "code",
   "execution_count": 18,
   "metadata": {},
   "outputs": [],
   "source": [
    "features = data_ohe.drop('Exited', axis=1)\n",
    "target = data_ohe['Exited']"
   ]
  },
  {
   "cell_type": "markdown",
   "metadata": {},
   "source": [
    "Разобьём полученные датасеты на две выборки — обучающую и тестовую. Кросс-валидация будет проводиться на этапе подбора гиперпараметров."
   ]
  },
  {
   "cell_type": "code",
   "execution_count": 19,
   "metadata": {},
   "outputs": [],
   "source": [
    "features_train, features_test, target_train, target_test = train_test_split(features, target,\n",
    "                                                                            test_size=0.25,\n",
    "                                                                            random_state=321)"
   ]
  },
  {
   "cell_type": "markdown",
   "metadata": {},
   "source": [
    "Проверим полученные выборки."
   ]
  },
  {
   "cell_type": "code",
   "execution_count": 20,
   "metadata": {},
   "outputs": [
    {
     "name": "stdout",
     "output_type": "stream",
     "text": [
      "Обучающая выборка\n",
      "Размер 'features_train': (7500, 13)\n",
      "Размер 'target_train': (7500,)\n",
      "\n",
      "Тестовая выборка\n",
      "Размер 'features_test': (2500, 13)\n",
      "Размер 'target_test': (2500,)\n"
     ]
    }
   ],
   "source": [
    "print(\"Обучающая выборка\")\n",
    "print(\"Размер 'features_train':\", features_train.shape)\n",
    "print(\"Размер 'target_train':\", target_train.shape)\n",
    "print()\n",
    "print(\"Тестовая выборка\")\n",
    "print(\"Размер 'features_test':\", features_test.shape)\n",
    "print(\"Размер 'target_test':\", target_test.shape)"
   ]
  },
  {
   "cell_type": "markdown",
   "metadata": {},
   "source": [
    "### 1.5. Обработка пропущенных значений\n",
    "\n",
    "Гипотетически, пропуски можно обработать следующими способами:\n",
    "* заменить пропуски на 0 (данный признак давать вклад в предсказание для данного объекта не будет);\n",
    "* преобразовать признак в категориальный, а затем закодировать по ohe;\n",
    "* заполнить пропуски выборочными статистиками соответствующего признака (среднее, медиана и т.д.), полагая, что взаимосвязь между признаками отсутствует (каждый пропущенный признак будет давать такой же вклад, как и значение, выбранной меры центральной тенденции, признака в датасете); \n",
    "* заполнить неизвестные значения с учетом корреляции между переменными или меры близости между наблюдениями.\n",
    "\n",
    "Рассмотрим подробнее признак 'Tenure', в котором наблюдаются пропущенные значения. "
   ]
  },
  {
   "cell_type": "code",
   "execution_count": 21,
   "metadata": {},
   "outputs": [
    {
     "data": {
      "image/png": "[encoded data removed]",
      "text/plain": [
       "<Figure size 576x360 with 1 Axes>"
      ]
     },
     "metadata": {
      "needs_background": "light"
     },
     "output_type": "display_data"
    }
   ],
   "source": [
    "fig, ax = plt.subplots(figsize=(8, 5))\n",
    "\n",
    "sns.distplot(customer_churn_data.query('Tenure.notnull()')['Tenure'],\n",
    "             hist_kws = {'color': 'royalblue', 'alpha': 0.9},\n",
    "             kde=False, ax=ax)\n",
    "\n",
    "ax.set_title(\"Гистограмма распределения признака 'Tenure'\", size=16, pad=20)\n",
    "ax.set_xticks(list(range(0, int(customer_churn_data['Tenure'].max() + 1),1)))\n",
    "ax.set_xlabel(\"Кол-во недвижимости у клиента\", fontsize=14)\n",
    "ax.set_ylabel(\"Частота\", fontsize=14)\n",
    "ax.set_ylim(0, 1100)\n",
    "ax.tick_params(labelsize=12)\n",
    "\n",
    "plt.show()"
   ]
  },
  {
   "cell_type": "markdown",
   "metadata": {},
   "source": [
    "Данный признак дискретный, размах значений небольшой (от 0 до 10). Почти все значения являются модами, либо очень близки к ним. Можно было бы представить данный признак в виде категориального. Просто заменить пропуски нулями мы не можем, потому что данное значение имеет в этом признаке другое значение (отсутствие недвижимости). Можем заменить пропуски средними значениями, которые после стандартизации будут равны нулю и не внесут вклада в предсказание целевого признака для конкретного объекта. Для того, чтобы сделать это максимально точно, заполним пропуски для каждой из полученных выборок."
   ]
  },
  {
   "cell_type": "code",
   "execution_count": 22,
   "metadata": {},
   "outputs": [],
   "source": [
    "# заменим пропуски в обучающей выборке\n",
    "features_train.fillna(features_train['Tenure'].mean(), inplace=True)"
   ]
  },
  {
   "cell_type": "code",
   "execution_count": 23,
   "metadata": {},
   "outputs": [],
   "source": [
    "# заменим пропуски в тестовой выборке\n",
    "features_test.fillna(features_test['Tenure'].mean(), inplace=True)"
   ]
  },
  {
   "cell_type": "markdown",
   "metadata": {},
   "source": [
    "### 1.6 Масштабирование данных\n",
    "\n",
    "Как уже было отмечено ранее значения признаков сильно разнятся, поэтому признаки необходимо масштабировать. Масштабируем количественные признаки стандартизировав их."
   ]
  },
  {
   "cell_type": "code",
   "execution_count": 24,
   "metadata": {},
   "outputs": [],
   "source": [
    "scaler = StandardScaler()\n",
    "scaler.fit(features_train.loc[:, numeric])\n",
    "\n",
    "features_train.loc[:, numeric] = scaler.transform(features_train.loc[:, numeric])\n",
    "features_test.loc[:, numeric] = scaler.transform(features_test.loc[:, numeric])"
   ]
  },
  {
   "cell_type": "markdown",
   "metadata": {},
   "source": [
    "### Заключение по п. 1 \"Подготовка данных\"\n",
    "\n",
    "На подготовительном этапе мы ознакомились с данными и подготовили их для обучения модели логистической регрессии:\n",
    "* преобразовали категориальные признаки техникой прямого кодирования;\n",
    "* проверили данные на выбросы, выявив и объяснив экстремальные значения;\n",
    "* нашли и интерпретировали пропущенные значения;\n",
    "* масштабировали значения признаков;\n",
    "* выявили дисбаланс классов целевого признака;\n",
    "* разделили искомый датасет на обучающую и тестовую выборки. "
   ]
  },
  {
   "cell_type": "markdown",
   "metadata": {},
   "source": [
    "# 2. Исследование задачи"
   ]
  },
  {
   "cell_type": "markdown",
   "metadata": {},
   "source": [
    "На втором этапе предстоит исследовать баланс классов — обучить модель без учета дисбаланса классов, оценить адекватность такой модели, сделать соответствующие выводы.\n",
    "\n",
    "Ранее, на подготовительном этапе п. 1.3, мы заметили, что в целевом признаке классы представлены неравномерно - в искомом датасете около 80% объектов относятся к классу \"0\" и только 20% к классу \"1\". Рассмотрим как распределены признаки в двух этих классах в обучающей выборке."
   ]
  },
  {
   "cell_type": "code",
   "execution_count": 25,
   "metadata": {},
   "outputs": [
    {
     "data": {
      "image/png": "[encoded data removed]",
      "text/plain": [
       "<Figure size 864x3744 with 13 Axes>"
      ]
     },
     "metadata": {},
     "output_type": "display_data"
    }
   ],
   "source": [
    "sns.set(style=\"ticks\", font_scale=1.2)\n",
    "\n",
    "fig = plt.figure(figsize=(6*2, 4*len(features_train.columns)))\n",
    "gs = fig.add_gridspec(len(features_train.columns), 2)\n",
    "\n",
    "for i in range(len(features_train.columns)):\n",
    "    ax = fig.add_subplot(gs[int(i/2), i%2])\n",
    "    ax.tick_params(labelsize=12)\n",
    "    sns.distplot(features_train[target_train == 0][features_train.columns[i]],\n",
    "                 kde=False, color=\"coral\")\n",
    "    sns.distplot(features_train[target_train == 1][features_train.columns[i]],\n",
    "                 kde=False, color=\"deeppink\")\n",
    "    sns.despine()\n",
    "\n",
    "fig.suptitle(\"Распределение признаков в классах 'Exited'\", fontsize=16, y=0.90)\n",
    "fig.legend(labels=['0','1'], loc='center right', frameon=False,\n",
    "           ncol=1, fontsize=12, title='Exited')\n",
    "\n",
    "plt.subplots_adjust(wspace=0.4, hspace=0.4)\n",
    "plt.show()"
   ]
  },
  {
   "cell_type": "markdown",
   "metadata": {},
   "source": [
    "Заметен дисбаланс классов. В классах признаки распределены похожим образом, но небольшие отличия все же есть:\n",
    "* среди ушедших клиентов больше тех кто в возрасте;\n",
    "* среди ушедших клиентов банка чаще встречаются те, кто использовал более двух продуктов банка;\n",
    "* при этом, в сравнении с действующими клиентами банка, ушедшие реже являлись активными клиентами;\n",
    "* среди ушедших клиентов больше женщин.\n",
    "\n",
    "Попробуем обучить модель на этих данных, не прибегая к балансировке классов целевого признака. Предполагается, что модель будет плохо предсказывать положительный класс."
   ]
  },
  {
   "cell_type": "code",
   "execution_count": 26,
   "metadata": {},
   "outputs": [],
   "source": [
    "def get_cv_scores(model, x, y):\n",
    "    cv = cross_validate(model,\n",
    "        x, y, scoring='f1', cv=5)\n",
    "    cv_mean = round(np.mean(cv['test_score']), 2)\n",
    "    cv_std = round(np.std(cv['test_score']), 4)\n",
    "    return {'cv mean': cv_mean, 'std': cv_std}"
   ]
  },
  {
   "cell_type": "code",
   "execution_count": 27,
   "metadata": {},
   "outputs": [],
   "source": [
    "disbalance_model = LogisticRegression(random_state=123, solver='liblinear')"
   ]
  },
  {
   "cell_type": "code",
   "execution_count": 28,
   "metadata": {},
   "outputs": [
    {
     "name": "stdout",
     "output_type": "stream",
     "text": [
      "mean f1-score: 0.31, std: 0.0072\n",
      "CPU times: user 516 ms, sys: 421 ms, total: 938 ms\n",
      "Wall time: 914 ms\n"
     ]
    }
   ],
   "source": [
    "%%time\n",
    "\n",
    "print(\"mean f1-score: {cv mean}, std: {std}\".format(\n",
    "    **get_cv_scores(disbalance_model, features_train, target_train)))"
   ]
  },
  {
   "cell_type": "markdown",
   "metadata": {},
   "source": [
    "Оценим эффективность модели на тестовой выборке."
   ]
  },
  {
   "cell_type": "code",
   "execution_count": 29,
   "metadata": {},
   "outputs": [
    {
     "name": "stdout",
     "output_type": "stream",
     "text": [
      "F1 = 0.32, AUC = 0.77\n",
      "CPU times: user 57.1 ms, sys: 84.6 ms, total: 142 ms\n",
      "Wall time: 130 ms\n"
     ]
    }
   ],
   "source": [
    "%%time\n",
    "\n",
    "disbalance_model.fit(features_train, target_train)\n",
    "disbalance_predicted = disbalance_model.predict(features_test)\n",
    "disbalance_model_probas = disbalance_model.predict_proba(features_test)\n",
    "auc_roc = roc_auc_score(target_test, disbalance_model_probas[:, 1])\n",
    "\n",
    "print(\"F1 = {:.2f}, AUC = {:.2f}\".format(\n",
    "    round(f1_score(target_test, disbalance_predicted), 2), auc_roc))"
   ]
  },
  {
   "cell_type": "markdown",
   "metadata": {},
   "source": [
    "Значение F1-меры ближе к нулю чем к единице, значит качество модели низкое. Однако AUC модели выглдит более оптимистично. Попробуем разобраться почему так произошло. Для этого представим графически метрику ROC-AUC и сравним ее с PR-кривой."
   ]
  },
  {
   "cell_type": "code",
   "execution_count": 30,
   "metadata": {},
   "outputs": [
    {
     "data": {
      "image/png": "[encoded data removed]",
      "text/plain": [
       "<Figure size 1080x360 with 2 Axes>"
      ]
     },
     "metadata": {},
     "output_type": "display_data"
    }
   ],
   "source": [
    "fig = plt.figure(figsize=(15, 5))\n",
    "gs = fig.add_gridspec(1, 2)\n",
    "\n",
    "# кривая Precision-Recall\n",
    "ax1 = fig.add_subplot(gs[0, 0])\n",
    "precision, recall, thresholds = precision_recall_curve(target_test, disbalance_model_probas[:, 1])\n",
    "plt.step(recall, precision, where='post')\n",
    "plt.xlabel('Recall')\n",
    "plt.ylabel('Precision')\n",
    "plt.ylim([0.0, 1.05])\n",
    "plt.xlim([0.0, 1.0])\n",
    "plt.title('Кривая Precision-Recall', pad=15)\n",
    "\n",
    "# ROC-кривая\n",
    "ax2 = fig.add_subplot(gs[0, 1])\n",
    "fpr, tpr, thresholds = roc_curve(target_test, disbalance_model_probas[:, 1])\n",
    "plt.plot(fpr, tpr, label='%s ROC (area = %0.2f)' % ('disbalance_model', auc_roc))\n",
    "plt.plot([0, 1], [0, 1], linestyle='--')\n",
    "plt.ylim([0.0, 1.0])\n",
    "plt.xlim([0.0, 1.0])\n",
    "plt.title('ROC-кривая', pad=15)\n",
    "plt.xlabel('False Positive Rate')\n",
    "plt.ylabel('True Positive Rate')\n",
    "plt.legend(loc=0, fontsize='small')\n",
    "\n",
    "plt.show()"
   ]
  },
  {
   "cell_type": "markdown",
   "metadata": {},
   "source": [
    "На диаграмме Precision-Recall кривая должна стремиться к правому верхнему углу, что будет означать что модель находит максимальное количество объектов положительного класса и при этом делает это достаточно точно. В нашем случае заметно, что при увеличении полноты точность снижается. Модель плохо предсказывает объекты положительного класса и это выливается в низкое значение F1-меры (т.к она среднее гармоническое двух этих метрик). \n",
    "\n",
    "По ROC-кривой эффективный классификатор стремится к левому верхнему углу и правильно идентифицирует много единиц, без неправильной классификации многих нулей как единиц, т.е учитывает соотношение истинных и ложных срабатываний. Во-первых, на сколько понимаю, в случае дисбаланса классов модель будет плохо предсказывать объекты положительного класса, а значит ложных срабатываний (FPR) может быть мало и за счет этого модель может получить более высокую оценку. Во-вторых, когда в целевом признаке есть редкий класс (обычно это положительный класс), улучшение предсказания этого класса для нас важнее, чем снижение числа ложных срабатываний (FP). Исходя из этого оценка несбалансированной модели по ROC выглядит менее оправданной. Решать проблему плохого предсказания редкого класса изменяя порог TPR/FPR не так удобно как в случае с Precision/Recall.\n",
    "\n",
    "Заглянем внутрь полученной оценки и посмотрим, в определении какой из групп модель чаще допускала ошибки. Матрицу ошибок получим применив метод ```confusion_matrix```. Для отображения матрицы в виде графика, из одного руководства, была позаимствована и немного упрощена функция ```plot_confusion_matrix```."
   ]
  },
  {
   "cell_type": "code",
   "execution_count": 31,
   "metadata": {},
   "outputs": [],
   "source": [
    "# функция принимает результат работы метода confusion_matrix и наглядно визуализирует его\n",
    "def plot_confusion_matrix(cm, classes,\n",
    "                          title='Confusion matrix',\n",
    "                          cmap=plt.cm.Blues):\n",
    "    plt.imshow(cm, interpolation='nearest', cmap=cmap)\n",
    "    plt.title(title)\n",
    "    plt.colorbar()\n",
    "    tick_marks = np.arange(len(classes))\n",
    "    plt.xticks(tick_marks, classes)\n",
    "    plt.yticks(tick_marks, classes)\n",
    "    thresh = cm.max() / 2\n",
    "    for i, j in itertools.product(range(cm.shape[0]), range(cm.shape[1])):\n",
    "        plt.text(j, i, cm[i, j],\n",
    "                 horizontalalignment=\"center\",\n",
    "                 color=\"white\" if cm[i, j] > thresh else \"black\")\n",
    "    plt.tight_layout()\n",
    "    plt.ylabel('Target')\n",
    "    plt.xlabel('Predicted')"
   ]
  },
  {
   "cell_type": "code",
   "execution_count": 32,
   "metadata": {},
   "outputs": [
    {
     "data": {
      "image/png": "[encoded data removed]",
      "text/plain": [
       "<Figure size 1152x432 with 2 Axes>"
      ]
     },
     "metadata": {},
     "output_type": "display_data"
    }
   ],
   "source": [
    "# матрица ошибок по предсказанию несбалансированной модели\n",
    "plt.figure(figsize=(16, 6))\n",
    "plt.subplot(1, 2, 2)\n",
    "cnf_matrix_valid = confusion_matrix(target_test, disbalance_predicted)\n",
    "plot_confusion_matrix(cnf_matrix_valid, classes=['0', '1'])\n",
    "\n",
    "plt.show()"
   ]
  },
  {
   "cell_type": "markdown",
   "metadata": {},
   "source": [
    "Как и ожидалось тестовая модель плохо предсказывает положительный класс - правильные ответы получены только для 21% объектов. Такую модель нельзя использовать, необходимо произвести балансировку классов."
   ]
  },
  {
   "cell_type": "markdown",
   "metadata": {},
   "source": [
    "# 3. Борьба с дисбалансом\n",
    "### 3.1 Логистическая регрессия\n",
    "\n",
    "Классы несбалансированны, когда их соотношение далеко от 1:1. Баланс классов наблюдается, если их количество примерно равно. Для некоторых моделей машинного обучения баланс классов является одним из критичных условий, оказывающих влияние на итоговое качество модели.\n",
    "\n",
    "С дисбалансом классов можно бороться разными способами, например изменить вес или использовать разные стратегии сэмплинга классов. Так как продуктом логистической регрессии является вероятность отнесения объекта к одному из классов, то изменяя порог отсечения можно попытаться  улучшить качество предсказания редкого класса. Попробуем применить данные методы и улучшить качество модели.\n",
    "\n",
    "Алгоритмы машинного обучения считают все объекты обучающей выборки равнозначными по умолчанию. Если важно указать, что какие-то объекты важнее, их классу присваивается вес. В алгоритме логистической регрессии в библиотеке sklearn есть аргумент ```class_weight```. По умолчанию он равен ```None```, т. е. классы равнозначны. Если указать ```class_weight='balanced'```, больший вес будет у редкого класса. Обучим модель с указанием этого аргумента и оценим как изменилось качество модели."
   ]
  },
  {
   "cell_type": "code",
   "execution_count": 33,
   "metadata": {},
   "outputs": [],
   "source": [
    "balance_model = LogisticRegression(solver='liblinear',\n",
    "                                   class_weight='balanced',\n",
    "                                   random_state=123)"
   ]
  },
  {
   "cell_type": "code",
   "execution_count": 34,
   "metadata": {},
   "outputs": [
    {
     "name": "stdout",
     "output_type": "stream",
     "text": [
      "mean f1-score: 0.49, std: 0.0199\n",
      "CPU times: user 363 ms, sys: 468 ms, total: 831 ms\n",
      "Wall time: 801 ms\n"
     ]
    }
   ],
   "source": [
    "%%time\n",
    "\n",
    "print(\"mean f1-score: {cv mean}, std: {std}\".format(\n",
    "    **get_cv_scores(balance_model, features_train, target_train)))"
   ]
  },
  {
   "cell_type": "markdown",
   "metadata": {},
   "source": [
    "Оценим эффективность модели на тестовой выборке."
   ]
  },
  {
   "cell_type": "code",
   "execution_count": 35,
   "metadata": {},
   "outputs": [
    {
     "name": "stdout",
     "output_type": "stream",
     "text": [
      "F1 = 0.50, AUC = 0.77\n",
      "CPU times: user 79.6 ms, sys: 102 ms, total: 181 ms\n",
      "Wall time: 198 ms\n"
     ]
    }
   ],
   "source": [
    "%%time\n",
    "\n",
    "balance_model.fit(features_train, target_train)\n",
    "balance_predicted = balance_model.predict(features_test)\n",
    "balance_model_probas = balance_model.predict_proba(features_test)\n",
    "auc_roc = roc_auc_score(target_test, balance_model_probas[:, 1])\n",
    "\n",
    "print(\"F1 = {:.2f}, AUC = {:.2f}\".format(\n",
    "    round(f1_score(target_test, balance_predicted), 2), auc_roc))"
   ]
  },
  {
   "cell_type": "markdown",
   "metadata": {},
   "source": [
    "Качество модели улучшилось, но значение F1-меры все еще не дотягивает до требуемого минимума в 0.59. Рассмотрим матрицу ошибок сбалансированной модели."
   ]
  },
  {
   "cell_type": "code",
   "execution_count": 36,
   "metadata": {},
   "outputs": [
    {
     "data": {
      "image/png": "[encoded data removed]",
      "text/plain": [
       "<Figure size 1152x432 with 2 Axes>"
      ]
     },
     "metadata": {},
     "output_type": "display_data"
    }
   ],
   "source": [
    "# матрица ошибок по предсказанию сбалансированной модели\n",
    "plt.figure(figsize=(16, 6))\n",
    "plt.subplot(1, 2, 2)\n",
    "cnf_matrix_valid = confusion_matrix(target_test, balance_predicted)\n",
    "plot_confusion_matrix(cnf_matrix_valid, classes=['0', '1'])\n",
    "\n",
    "plt.show()"
   ]
  },
  {
   "cell_type": "markdown",
   "metadata": {},
   "source": [
    "Модель действительно сбалансировалась — стала лучше предсказывать объекты класса \"1\", но и потеряла в качестве предсказания объектов класса \"0\" (ложных срабатываний стало заметно больше).\n",
    "\n",
    "Попробуем управляя пороговым значением искусственно завысить вероятность идентификации редкого класса. Известно, что по умолчанию порог отсечения равняется 0.5. Снизим порог, т.о. отнесем к положительному классу объекты с вероятностью положительного класса менее 0.5. Переберем значения в цикле, посмотрим как меняются значения точности, полноты и F1-меры."
   ]
  },
  {
   "cell_type": "code",
   "execution_count": 37,
   "metadata": {},
   "outputs": [
    {
     "name": "stdout",
     "output_type": "stream",
     "text": [
      "Порог = 0.50 | Точность = 0.604, Полнота = 0.214, F1 = 0.32\n",
      "Порог = 0.48 | Точность = 0.601, Полнота = 0.237, F1 = 0.34\n",
      "Порог = 0.46 | Точность = 0.572, Полнота = 0.256, F1 = 0.35\n",
      "Порог = 0.44 | Точность = 0.565, Полнота = 0.288, F1 = 0.38\n",
      "Порог = 0.42 | Точность = 0.561, Полнота = 0.314, F1 = 0.40\n",
      "Порог = 0.40 | Точность = 0.557, Полнота = 0.354, F1 = 0.43\n",
      "Порог = 0.38 | Точность = 0.551, Полнота = 0.386, F1 = 0.45\n",
      "Порог = 0.36 | Точность = 0.533, Полнота = 0.411, F1 = 0.46\n",
      "Порог = 0.34 | Точность = 0.528, Полнота = 0.445, F1 = 0.48\n",
      "Порог = 0.32 | Точность = 0.505, Полнота = 0.479, F1 = 0.49\n",
      "Порог = 0.30 | Точность = 0.481, Полнота = 0.517, F1 = 0.50\n",
      "Порог = 0.28 | Точность = 0.465, Полнота = 0.551, F1 = 0.50\n",
      "Порог = 0.26 | Точность = 0.441, Полнота = 0.585, F1 = 0.50\n",
      "Порог = 0.24 | Точность = 0.424, Полнота = 0.627, F1 = 0.51\n",
      "Порог = 0.22 | Точность = 0.399, Полнота = 0.663, F1 = 0.50\n",
      "Порог = 0.20 | Точность = 0.385, Полнота = 0.701, F1 = 0.50\n",
      "Порог = 0.18 | Точность = 0.361, Полнота = 0.737, F1 = 0.48\n",
      "Порог = 0.16 | Точность = 0.349, Полнота = 0.797, F1 = 0.49\n",
      "Порог = 0.14 | Точность = 0.323, Полнота = 0.837, F1 = 0.47\n",
      "Порог = 0.12 | Точность = 0.296, Полнота = 0.871, F1 = 0.44\n",
      "Порог = 0.10 | Точность = 0.280, Полнота = 0.915, F1 = 0.43\n",
      "Порог = 0.08 | Точность = 0.262, Полнота = 0.949, F1 = 0.41\n",
      "Порог = 0.06 | Точность = 0.243, Полнота = 0.975, F1 = 0.39\n",
      "Порог = 0.04 | Точность = 0.224, Полнота = 0.991, F1 = 0.37\n",
      "Порог = 0.02 | Точность = 0.212, Полнота = 0.998, F1 = 0.35\n",
      "CPU times: user 341 ms, sys: 181 ms, total: 523 ms\n",
      "Wall time: 537 ms\n"
     ]
    }
   ],
   "source": [
    "%%time\n",
    "\n",
    "model = LogisticRegression(random_state=567).fit(features_train, target_train)\n",
    "probabilities_valid = model.predict_proba(features_test)\n",
    "probabilities_one_valid = probabilities_valid[:, 1]\n",
    "\n",
    "for threshold in np.arange(0.5, 0., -0.02):\n",
    "    predicted_test = probabilities_one_valid > threshold\n",
    "    precision = precision_score(target_test, predicted_test)\n",
    "    recall = recall_score(target_test, predicted_test)\n",
    "\n",
    "    print(\"Порог = {:.2f} | Точность = {:.3f}, Полнота = {:.3f}, F1 = {:.2f}\".format(\n",
    "        threshold, precision, recall, f1_score(target_test, predicted_test)))"
   ]
  },
  {
   "cell_type": "markdown",
   "metadata": {},
   "source": [
    "При снижении порогового значения мы увеличиваем кол-во объектов положительного класса. При этом увеличивается кол-во ложно-положительных объектов (точность снижается), но также мы определяем больше реальных объектов положительного класса (полнота увеличивается). В случаях, когда для нас критично определить как можно больше реальнох объектов положительного класса (в нашем случае ушедших клиентов) это может быть оправдано если удержание выгоднее, чем привлечение новых. Затраты на ложно-положительные объекты не должны быть высокими.\n",
    "\n",
    "Если ориентироваться на вывод выше, то если мы снизим порог до 0.2, то сможем выявить 70% уходящих пользователей. Однако при этом около 60% будут ложно-положительными. Оптимальное значение f1-меры в 0.51 достигается при пороге вероятности равному 0.26. Это значит, что все объекты имеющие вероятность положительного класа выше этого значения будут отнесены к этому классу. \n",
    "\n",
    "Попробуем потюнить гиперпараметры модели."
   ]
  },
  {
   "cell_type": "code",
   "execution_count": 38,
   "metadata": {},
   "outputs": [
    {
     "name": "stdout",
     "output_type": "stream",
     "text": [
      "{'penalty': ['l2', 'l1'], 'C': array([0.01      , 0.06812921, 0.46415888, 3.16227766]), 'solver': ['liblinear'], 'class_weight': [None, 'balanced']}\n"
     ]
    }
   ],
   "source": [
    "penalty = ['l2', 'l1']\n",
    "C = np.logspace(-2, .5, num=4)\n",
    "solver = ['liblinear']\n",
    "class_weight = [None, \"balanced\"]\n",
    "\n",
    "log_grid = {'penalty': penalty,\n",
    "            'C': C,\n",
    "            'solver': solver,\n",
    "            'class_weight': class_weight,\n",
    "           }\n",
    "\n",
    "print(log_grid)"
   ]
  },
  {
   "cell_type": "code",
   "execution_count": 39,
   "metadata": {},
   "outputs": [],
   "source": [
    "log_test = LogisticRegression()"
   ]
  },
  {
   "cell_type": "code",
   "execution_count": 40,
   "metadata": {},
   "outputs": [
    {
     "name": "stdout",
     "output_type": "stream",
     "text": [
      "Fitting 5 folds for each of 10 candidates, totalling 50 fits\n",
      "[CV] solver=liblinear, penalty=l1, class_weight=balanced, C=0.06812920690579616 \n",
      "[CV]  solver=liblinear, penalty=l1, class_weight=balanced, C=0.06812920690579616, total=   0.1s\n",
      "[CV] solver=liblinear, penalty=l1, class_weight=balanced, C=0.06812920690579616 \n"
     ]
    },
    {
     "name": "stderr",
     "output_type": "stream",
     "text": [
      "[Parallel(n_jobs=-1)]: Using backend SequentialBackend with 1 concurrent workers.\n",
      "[Parallel(n_jobs=-1)]: Done   1 out of   1 | elapsed:    0.1s remaining:    0.0s\n"
     ]
    },
    {
     "name": "stdout",
     "output_type": "stream",
     "text": [
      "[CV]  solver=liblinear, penalty=l1, class_weight=balanced, C=0.06812920690579616, total=   0.2s\n",
      "[CV] solver=liblinear, penalty=l1, class_weight=balanced, C=0.06812920690579616 \n",
      "[CV]  solver=liblinear, penalty=l1, class_weight=balanced, C=0.06812920690579616, total=   0.2s\n",
      "[CV] solver=liblinear, penalty=l1, class_weight=balanced, C=0.06812920690579616 \n",
      "[CV]  solver=liblinear, penalty=l1, class_weight=balanced, C=0.06812920690579616, total=   0.2s\n",
      "[CV] solver=liblinear, penalty=l1, class_weight=balanced, C=0.06812920690579616 \n",
      "[CV]  solver=liblinear, penalty=l1, class_weight=balanced, C=0.06812920690579616, total=   0.2s\n",
      "[CV] solver=liblinear, penalty=l2, class_weight=balanced, C=0.464158883361278 \n",
      "[CV]  solver=liblinear, penalty=l2, class_weight=balanced, C=0.464158883361278, total=   0.2s\n",
      "[CV] solver=liblinear, penalty=l2, class_weight=balanced, C=0.464158883361278 \n",
      "[CV]  solver=liblinear, penalty=l2, class_weight=balanced, C=0.464158883361278, total=   0.2s\n",
      "[CV] solver=liblinear, penalty=l2, class_weight=balanced, C=0.464158883361278 \n",
      "[CV]  solver=liblinear, penalty=l2, class_weight=balanced, C=0.464158883361278, total=   0.2s\n",
      "[CV] solver=liblinear, penalty=l2, class_weight=balanced, C=0.464158883361278 \n",
      "[CV]  solver=liblinear, penalty=l2, class_weight=balanced, C=0.464158883361278, total=   0.1s\n",
      "[CV] solver=liblinear, penalty=l2, class_weight=balanced, C=0.464158883361278 \n",
      "[CV]  solver=liblinear, penalty=l2, class_weight=balanced, C=0.464158883361278, total=   0.2s\n",
      "[CV] solver=liblinear, penalty=l2, class_weight=None, C=0.06812920690579616 \n",
      "[CV]  solver=liblinear, penalty=l2, class_weight=None, C=0.06812920690579616, total=   0.2s\n",
      "[CV] solver=liblinear, penalty=l2, class_weight=None, C=0.06812920690579616 \n",
      "[CV]  solver=liblinear, penalty=l2, class_weight=None, C=0.06812920690579616, total=   0.2s\n",
      "[CV] solver=liblinear, penalty=l2, class_weight=None, C=0.06812920690579616 \n",
      "[CV]  solver=liblinear, penalty=l2, class_weight=None, C=0.06812920690579616, total=   0.2s\n",
      "[CV] solver=liblinear, penalty=l2, class_weight=None, C=0.06812920690579616 \n",
      "[CV]  solver=liblinear, penalty=l2, class_weight=None, C=0.06812920690579616, total=   0.2s\n",
      "[CV] solver=liblinear, penalty=l2, class_weight=None, C=0.06812920690579616 \n",
      "[CV]  solver=liblinear, penalty=l2, class_weight=None, C=0.06812920690579616, total=   0.2s\n",
      "[CV] solver=liblinear, penalty=l2, class_weight=None, C=0.01 .........\n",
      "[CV]  solver=liblinear, penalty=l2, class_weight=None, C=0.01, total=   0.2s\n",
      "[CV] solver=liblinear, penalty=l2, class_weight=None, C=0.01 .........\n",
      "[CV]  solver=liblinear, penalty=l2, class_weight=None, C=0.01, total=   0.2s\n",
      "[CV] solver=liblinear, penalty=l2, class_weight=None, C=0.01 .........\n",
      "[CV]  solver=liblinear, penalty=l2, class_weight=None, C=0.01, total=   0.2s\n",
      "[CV] solver=liblinear, penalty=l2, class_weight=None, C=0.01 .........\n",
      "[CV]  solver=liblinear, penalty=l2, class_weight=None, C=0.01, total=   0.2s\n",
      "[CV] solver=liblinear, penalty=l2, class_weight=None, C=0.01 .........\n",
      "[CV]  solver=liblinear, penalty=l2, class_weight=None, C=0.01, total=   0.2s\n",
      "[CV] solver=liblinear, penalty=l1, class_weight=None, C=0.06812920690579616 \n",
      "[CV]  solver=liblinear, penalty=l1, class_weight=None, C=0.06812920690579616, total=   0.2s\n",
      "[CV] solver=liblinear, penalty=l1, class_weight=None, C=0.06812920690579616 \n",
      "[CV]  solver=liblinear, penalty=l1, class_weight=None, C=0.06812920690579616, total=   0.2s\n",
      "[CV] solver=liblinear, penalty=l1, class_weight=None, C=0.06812920690579616 \n",
      "[CV]  solver=liblinear, penalty=l1, class_weight=None, C=0.06812920690579616, total=   0.2s\n",
      "[CV] solver=liblinear, penalty=l1, class_weight=None, C=0.06812920690579616 \n",
      "[CV]  solver=liblinear, penalty=l1, class_weight=None, C=0.06812920690579616, total=   0.2s\n",
      "[CV] solver=liblinear, penalty=l1, class_weight=None, C=0.06812920690579616 \n",
      "[CV]  solver=liblinear, penalty=l1, class_weight=None, C=0.06812920690579616, total=   0.2s\n",
      "[CV] solver=liblinear, penalty=l1, class_weight=None, C=0.464158883361278 \n",
      "[CV]  solver=liblinear, penalty=l1, class_weight=None, C=0.464158883361278, total=   0.2s\n",
      "[CV] solver=liblinear, penalty=l1, class_weight=None, C=0.464158883361278 \n",
      "[CV]  solver=liblinear, penalty=l1, class_weight=None, C=0.464158883361278, total=   0.2s\n",
      "[CV] solver=liblinear, penalty=l1, class_weight=None, C=0.464158883361278 \n",
      "[CV]  solver=liblinear, penalty=l1, class_weight=None, C=0.464158883361278, total=   0.2s\n",
      "[CV] solver=liblinear, penalty=l1, class_weight=None, C=0.464158883361278 \n",
      "[CV]  solver=liblinear, penalty=l1, class_weight=None, C=0.464158883361278, total=   0.2s\n",
      "[CV] solver=liblinear, penalty=l1, class_weight=None, C=0.464158883361278 \n",
      "[CV]  solver=liblinear, penalty=l1, class_weight=None, C=0.464158883361278, total=   0.2s\n",
      "[CV] solver=liblinear, penalty=l2, class_weight=None, C=0.464158883361278 \n",
      "[CV]  solver=liblinear, penalty=l2, class_weight=None, C=0.464158883361278, total=   0.2s\n",
      "[CV] solver=liblinear, penalty=l2, class_weight=None, C=0.464158883361278 \n",
      "[CV]  solver=liblinear, penalty=l2, class_weight=None, C=0.464158883361278, total=   0.2s\n",
      "[CV] solver=liblinear, penalty=l2, class_weight=None, C=0.464158883361278 \n",
      "[CV]  solver=liblinear, penalty=l2, class_weight=None, C=0.464158883361278, total=   0.2s\n",
      "[CV] solver=liblinear, penalty=l2, class_weight=None, C=0.464158883361278 \n",
      "[CV]  solver=liblinear, penalty=l2, class_weight=None, C=0.464158883361278, total=   0.2s\n",
      "[CV] solver=liblinear, penalty=l2, class_weight=None, C=0.464158883361278 \n",
      "[CV]  solver=liblinear, penalty=l2, class_weight=None, C=0.464158883361278, total=   0.2s\n",
      "[CV] solver=liblinear, penalty=l1, class_weight=balanced, C=0.464158883361278 \n",
      "[CV]  solver=liblinear, penalty=l1, class_weight=balanced, C=0.464158883361278, total=   0.2s\n",
      "[CV] solver=liblinear, penalty=l1, class_weight=balanced, C=0.464158883361278 \n",
      "[CV]  solver=liblinear, penalty=l1, class_weight=balanced, C=0.464158883361278, total=   0.2s\n",
      "[CV] solver=liblinear, penalty=l1, class_weight=balanced, C=0.464158883361278 \n",
      "[CV]  solver=liblinear, penalty=l1, class_weight=balanced, C=0.464158883361278, total=   0.2s\n",
      "[CV] solver=liblinear, penalty=l1, class_weight=balanced, C=0.464158883361278 \n",
      "[CV]  solver=liblinear, penalty=l1, class_weight=balanced, C=0.464158883361278, total=   0.2s\n",
      "[CV] solver=liblinear, penalty=l1, class_weight=balanced, C=0.464158883361278 \n",
      "[CV]  solver=liblinear, penalty=l1, class_weight=balanced, C=0.464158883361278, total=   0.2s\n",
      "[CV] solver=liblinear, penalty=l1, class_weight=balanced, C=0.01 .....\n",
      "[CV]  solver=liblinear, penalty=l1, class_weight=balanced, C=0.01, total=   0.2s\n",
      "[CV] solver=liblinear, penalty=l1, class_weight=balanced, C=0.01 .....\n",
      "[CV]  solver=liblinear, penalty=l1, class_weight=balanced, C=0.01, total=   0.2s\n",
      "[CV] solver=liblinear, penalty=l1, class_weight=balanced, C=0.01 .....\n",
      "[CV]  solver=liblinear, penalty=l1, class_weight=balanced, C=0.01, total=   0.2s\n",
      "[CV] solver=liblinear, penalty=l1, class_weight=balanced, C=0.01 .....\n",
      "[CV]  solver=liblinear, penalty=l1, class_weight=balanced, C=0.01, total=   0.1s\n",
      "[CV] solver=liblinear, penalty=l1, class_weight=balanced, C=0.01 .....\n",
      "[CV]  solver=liblinear, penalty=l1, class_weight=balanced, C=0.01, total=   0.2s\n",
      "[CV] solver=liblinear, penalty=l1, class_weight=None, C=0.01 .........\n",
      "[CV]  solver=liblinear, penalty=l1, class_weight=None, C=0.01, total=   0.2s\n",
      "[CV] solver=liblinear, penalty=l1, class_weight=None, C=0.01 .........\n",
      "[CV]  solver=liblinear, penalty=l1, class_weight=None, C=0.01, total=   0.2s\n",
      "[CV] solver=liblinear, penalty=l1, class_weight=None, C=0.01 .........\n",
      "[CV]  solver=liblinear, penalty=l1, class_weight=None, C=0.01, total=   0.2s\n",
      "[CV] solver=liblinear, penalty=l1, class_weight=None, C=0.01 .........\n",
      "[CV]  solver=liblinear, penalty=l1, class_weight=None, C=0.01, total=   0.2s\n",
      "[CV] solver=liblinear, penalty=l1, class_weight=None, C=0.01 .........\n",
      "[CV]  solver=liblinear, penalty=l1, class_weight=None, C=0.01, total=   0.2s\n"
     ]
    },
    {
     "name": "stderr",
     "output_type": "stream",
     "text": [
      "[Parallel(n_jobs=-1)]: Done  50 out of  50 | elapsed:    9.7s finished\n"
     ]
    },
    {
     "data": {
      "text/plain": [
       "RandomizedSearchCV(cv=5, estimator=LogisticRegression(), n_jobs=-1,\n",
       "                   param_distributions={'C': array([0.01      , 0.06812921, 0.46415888, 3.16227766]),\n",
       "                                        'class_weight': [None, 'balanced'],\n",
       "                                        'penalty': ['l2', 'l1'],\n",
       "                                        'solver': ['liblinear']},\n",
       "                   random_state=123, refit='f1', scoring='f1', verbose=2)"
      ]
     },
     "execution_count": 40,
     "metadata": {},
     "output_type": "execute_result"
    }
   ],
   "source": [
    "log_random = RandomizedSearchCV(estimator=log_test, scoring=\"f1\",\n",
    "    param_distributions=log_grid, verbose=2, refit=\"f1\",\n",
    "    cv=5, random_state=123, n_jobs=-1)\n",
    "\n",
    "log_random.fit(features_train, target_train)"
   ]
  },
  {
   "cell_type": "code",
   "execution_count": 41,
   "metadata": {},
   "outputs": [
    {
     "name": "stdout",
     "output_type": "stream",
     "text": [
      "best cv f1-score:  0.51\n"
     ]
    }
   ],
   "source": [
    "print(\"best cv f1-score: \", round(log_random.best_score_, 2))"
   ]
  },
  {
   "cell_type": "code",
   "execution_count": 42,
   "metadata": {},
   "outputs": [
    {
     "name": "stdout",
     "output_type": "stream",
     "text": [
      "best params:\n"
     ]
    },
    {
     "data": {
      "text/plain": [
       "{'solver': 'liblinear', 'penalty': 'l1', 'class_weight': 'balanced', 'C': 0.01}"
      ]
     },
     "execution_count": 42,
     "metadata": {},
     "output_type": "execute_result"
    }
   ],
   "source": [
    "print(\"best params:\")\n",
    "log_random.best_params_"
   ]
  },
  {
   "cell_type": "code",
   "execution_count": 43,
   "metadata": {},
   "outputs": [
    {
     "name": "stdout",
     "output_type": "stream",
     "text": [
      "CPU times: user 17.7 ms, sys: 304 µs, total: 18 ms\n",
      "Wall time: 22.1 ms\n"
     ]
    }
   ],
   "source": [
    "%%time\n",
    "\n",
    "log_tune = LogisticRegression(**log_random.best_params_, random_state=234\n",
    "                             ).fit(features_train, target_train)"
   ]
  },
  {
   "cell_type": "markdown",
   "metadata": {},
   "source": [
    "Оценим эффективность модели на тестовой выборке."
   ]
  },
  {
   "cell_type": "code",
   "execution_count": 44,
   "metadata": {},
   "outputs": [
    {
     "name": "stdout",
     "output_type": "stream",
     "text": [
      "F1 = 0.51, AUC = 0.77\n",
      "CPU times: user 24.3 ms, sys: 56.5 ms, total: 80.8 ms\n",
      "Wall time: 90.9 ms\n"
     ]
    }
   ],
   "source": [
    "%%time\n",
    "\n",
    "log_tune_predicted = log_tune.predict(features_test)\n",
    "log_tune_probas = log_tune.predict_proba(features_test)\n",
    "auc_roc = roc_auc_score(target_test, log_tune_probas[:, 1])\n",
    "\n",
    "print(\"F1 = {:.2f}, AUC = {:.2f}\".format(\n",
    "    round(f1_score(target_test, log_tune_predicted), 2), auc_roc))"
   ]
  },
  {
   "cell_type": "code",
   "execution_count": 45,
   "metadata": {},
   "outputs": [
    {
     "data": {
      "image/png": "[encoded data removed]",
      "text/plain": [
       "<Figure size 1152x432 with 2 Axes>"
      ]
     },
     "metadata": {},
     "output_type": "display_data"
    }
   ],
   "source": [
    "# матрица ошибок по предсказанию сбалансированной модели\n",
    "plt.figure(figsize=(16, 6))\n",
    "plt.subplot(1, 2, 2)\n",
    "cnf_matrix_valid = confusion_matrix(target_test, log_tune_predicted)\n",
    "plot_confusion_matrix(cnf_matrix_valid, classes=['0', '1'])\n",
    "\n",
    "plt.show()"
   ]
  },
  {
   "cell_type": "markdown",
   "metadata": {},
   "source": [
    "Качество модели не улучшилось. Попробуем решить проблему редкости класса \"1\" еще одним способом, используя техники ресэмплинга.\n",
    "\n",
    "**Оверсемплинг:**"
   ]
  },
  {
   "cell_type": "code",
   "execution_count": 46,
   "metadata": {},
   "outputs": [
    {
     "name": "stdout",
     "output_type": "stream",
     "text": [
      "best cv f1-score:  0.54\n",
      "CPU times: user 394 ms, sys: 474 ms, total: 868 ms\n",
      "Wall time: 856 ms\n"
     ]
    }
   ],
   "source": [
    "%%time\n",
    "\n",
    "oversample_pipeline = make_pipeline(RandomOverSampler(random_state=123), \n",
    "                                    LogisticRegression(solver='liblinear',\n",
    "                                                       penalty='l1',\n",
    "                                                       C=0.01,\n",
    "                                                       random_state=345)\n",
    "                                   )\n",
    "\n",
    "log_oversample_score = cross_validate(oversample_pipeline, features_train,\n",
    "                                      target_train, scoring='f1', cv=5)\n",
    "\n",
    "print(\"best cv f1-score: \", round(log_oversample_score['test_score'].max(), 2))"
   ]
  },
  {
   "cell_type": "markdown",
   "metadata": {},
   "source": [
    "Оценим эффективность модели на тестовой выборке."
   ]
  },
  {
   "cell_type": "code",
   "execution_count": 47,
   "metadata": {},
   "outputs": [
    {
     "name": "stdout",
     "output_type": "stream",
     "text": [
      "F1 = 0.51, AUC = 0.77\n",
      "CPU times: user 99.4 ms, sys: 123 ms, total: 222 ms\n",
      "Wall time: 204 ms\n"
     ]
    }
   ],
   "source": [
    "%%time\n",
    "\n",
    "oversample_predicted = oversample_pipeline.fit(features_train, target_train\n",
    "                                              ).predict(features_test)\n",
    "oversample_probas = oversample_pipeline.predict_proba(features_test)\n",
    "auc_roc = roc_auc_score(target_test, oversample_probas[:, 1])\n",
    "\n",
    "print(\"F1 = {:.2f}, AUC = {:.2f}\".format(\n",
    "    round(f1_score(target_test, oversample_predicted), 2), auc_roc))"
   ]
  },
  {
   "cell_type": "code",
   "execution_count": 48,
   "metadata": {},
   "outputs": [
    {
     "data": {
      "image/png": "[encoded data removed]",
      "text/plain": [
       "<Figure size 1152x432 with 2 Axes>"
      ]
     },
     "metadata": {},
     "output_type": "display_data"
    }
   ],
   "source": [
    "plt.figure(figsize=(16, 6))\n",
    "plt.subplot(1, 2, 2)\n",
    "cnf_matrix_valid = confusion_matrix(target_test, oversample_predicted)\n",
    "plot_confusion_matrix(cnf_matrix_valid, classes=['0', '1'])\n",
    "\n",
    "plt.show()"
   ]
  },
  {
   "cell_type": "markdown",
   "metadata": {},
   "source": [
    "Увеличение выборки не сильно повлияло на качество модели. AUC также практически не изменился. Попробуем пойти обратным путем и уменьшить выборку используя технику андерсемплинга."
   ]
  },
  {
   "cell_type": "markdown",
   "metadata": {},
   "source": [
    "**Андерсемплинг:**"
   ]
  },
  {
   "cell_type": "code",
   "execution_count": 49,
   "metadata": {},
   "outputs": [
    {
     "name": "stdout",
     "output_type": "stream",
     "text": [
      "best cv f1-score:  0.5\n",
      "CPU times: user 313 ms, sys: 462 ms, total: 775 ms\n",
      "Wall time: 756 ms\n"
     ]
    }
   ],
   "source": [
    "%%time\n",
    "\n",
    "undersample_pipeline = make_pipeline(RandomUnderSampler(random_state=321), \n",
    "                                     LogisticRegression(solver='liblinear',\n",
    "                                                        penalty='l1', C=0.01,\n",
    "                                                        random_state=456))\n",
    "\n",
    "log_undersample_score = cross_validate(undersample_pipeline, features_train,\n",
    "                                       target_train, scoring='f1', cv=5)\n",
    "\n",
    "print(\"best cv f1-score: \", round(log_undersample_score['test_score'].max(), 2))"
   ]
  },
  {
   "cell_type": "markdown",
   "metadata": {},
   "source": [
    "Оценим эффективность модели на тестовой выборке."
   ]
  },
  {
   "cell_type": "code",
   "execution_count": 50,
   "metadata": {},
   "outputs": [
    {
     "name": "stdout",
     "output_type": "stream",
     "text": [
      "F1 = 0.50, AUC = 0.75\n",
      "CPU times: user 66.1 ms, sys: 102 ms, total: 168 ms\n",
      "Wall time: 120 ms\n"
     ]
    }
   ],
   "source": [
    "%%time\n",
    "\n",
    "undersample_predicted = undersample_pipeline.fit(features_train, target_train\n",
    "                                                ).predict(features_test)\n",
    "undersample_probas = undersample_pipeline.predict_proba(features_test)\n",
    "auc_roc = roc_auc_score(target_test, undersample_probas[:, 1])\n",
    "\n",
    "print(\"F1 = {:.2f}, AUC = {:.2f}\".format(\n",
    "    round(f1_score(target_test, undersample_predicted), 2), auc_roc))"
   ]
  },
  {
   "cell_type": "code",
   "execution_count": 51,
   "metadata": {},
   "outputs": [
    {
     "data": {
      "image/png": "[encoded data removed]",
      "text/plain": [
       "<Figure size 1152x432 with 2 Axes>"
      ]
     },
     "metadata": {},
     "output_type": "display_data"
    }
   ],
   "source": [
    "plt.figure(figsize=(16, 6))\n",
    "plt.subplot(1, 2, 2)\n",
    "cnf_matrix_valid = confusion_matrix(target_test, undersample_predicted)\n",
    "plot_confusion_matrix(cnf_matrix_valid, classes=['0', '1'])\n",
    "\n",
    "plt.show()"
   ]
  },
  {
   "cell_type": "markdown",
   "metadata": {},
   "source": [
    "Никак не получается добиться качества модели выше 0.51. Посмотрим, в предсказании классов каких объектов модель ошибается чаще всего, будем сравнивать модели сбалансированные разными способами."
   ]
  },
  {
   "cell_type": "code",
   "execution_count": 52,
   "metadata": {},
   "outputs": [
    {
     "data": {
      "text/html": [
       "<div>\n",
       "<style scoped>\n",
       "    .dataframe tbody tr th:only-of-type {\n",
       "        vertical-align: middle;\n",
       "    }\n",
       "\n",
       "    .dataframe tbody tr th {\n",
       "        vertical-align: top;\n",
       "    }\n",
       "\n",
       "    .dataframe thead th {\n",
       "        text-align: right;\n",
       "    }\n",
       "</style>\n",
       "<table border=\"1\" class=\"dataframe\">\n",
       "  <thead>\n",
       "    <tr style=\"text-align: right;\">\n",
       "      <th></th>\n",
       "      <th>Exited</th>\n",
       "      <th>DisbalancePredicted</th>\n",
       "      <th>BalancePredicted</th>\n",
       "      <th>OversamplePredicted</th>\n",
       "      <th>UndersamplePredicted</th>\n",
       "    </tr>\n",
       "  </thead>\n",
       "  <tbody>\n",
       "    <tr>\n",
       "      <td>3074</td>\n",
       "      <td>1</td>\n",
       "      <td>1</td>\n",
       "      <td>1</td>\n",
       "      <td>1</td>\n",
       "      <td>1</td>\n",
       "    </tr>\n",
       "    <tr>\n",
       "      <td>2000</td>\n",
       "      <td>0</td>\n",
       "      <td>0</td>\n",
       "      <td>1</td>\n",
       "      <td>1</td>\n",
       "      <td>1</td>\n",
       "    </tr>\n",
       "    <tr>\n",
       "      <td>6604</td>\n",
       "      <td>0</td>\n",
       "      <td>0</td>\n",
       "      <td>0</td>\n",
       "      <td>1</td>\n",
       "      <td>1</td>\n",
       "    </tr>\n",
       "    <tr>\n",
       "      <td>1859</td>\n",
       "      <td>0</td>\n",
       "      <td>0</td>\n",
       "      <td>0</td>\n",
       "      <td>0</td>\n",
       "      <td>0</td>\n",
       "    </tr>\n",
       "    <tr>\n",
       "      <td>2170</td>\n",
       "      <td>0</td>\n",
       "      <td>0</td>\n",
       "      <td>0</td>\n",
       "      <td>0</td>\n",
       "      <td>0</td>\n",
       "    </tr>\n",
       "    <tr>\n",
       "      <td>...</td>\n",
       "      <td>...</td>\n",
       "      <td>...</td>\n",
       "      <td>...</td>\n",
       "      <td>...</td>\n",
       "      <td>...</td>\n",
       "    </tr>\n",
       "    <tr>\n",
       "      <td>4839</td>\n",
       "      <td>1</td>\n",
       "      <td>1</td>\n",
       "      <td>1</td>\n",
       "      <td>1</td>\n",
       "      <td>1</td>\n",
       "    </tr>\n",
       "    <tr>\n",
       "      <td>8687</td>\n",
       "      <td>0</td>\n",
       "      <td>0</td>\n",
       "      <td>1</td>\n",
       "      <td>1</td>\n",
       "      <td>1</td>\n",
       "    </tr>\n",
       "    <tr>\n",
       "      <td>5876</td>\n",
       "      <td>0</td>\n",
       "      <td>0</td>\n",
       "      <td>0</td>\n",
       "      <td>0</td>\n",
       "      <td>1</td>\n",
       "    </tr>\n",
       "    <tr>\n",
       "      <td>9364</td>\n",
       "      <td>0</td>\n",
       "      <td>0</td>\n",
       "      <td>1</td>\n",
       "      <td>1</td>\n",
       "      <td>1</td>\n",
       "    </tr>\n",
       "    <tr>\n",
       "      <td>3687</td>\n",
       "      <td>0</td>\n",
       "      <td>0</td>\n",
       "      <td>0</td>\n",
       "      <td>0</td>\n",
       "      <td>0</td>\n",
       "    </tr>\n",
       "  </tbody>\n",
       "</table>\n",
       "<p>2500 rows × 5 columns</p>\n",
       "</div>"
      ],
      "text/plain": [
       "      Exited  DisbalancePredicted  BalancePredicted  OversamplePredicted  \\\n",
       "3074       1                    1                 1                    1   \n",
       "2000       0                    0                 1                    1   \n",
       "6604       0                    0                 0                    1   \n",
       "1859       0                    0                 0                    0   \n",
       "2170       0                    0                 0                    0   \n",
       "...      ...                  ...               ...                  ...   \n",
       "4839       1                    1                 1                    1   \n",
       "8687       0                    0                 1                    1   \n",
       "5876       0                    0                 0                    0   \n",
       "9364       0                    0                 1                    1   \n",
       "3687       0                    0                 0                    0   \n",
       "\n",
       "      UndersamplePredicted  \n",
       "3074                     1  \n",
       "2000                     1  \n",
       "6604                     1  \n",
       "1859                     0  \n",
       "2170                     0  \n",
       "...                    ...  \n",
       "4839                     1  \n",
       "8687                     1  \n",
       "5876                     1  \n",
       "9364                     1  \n",
       "3687                     0  \n",
       "\n",
       "[2500 rows x 5 columns]"
      ]
     },
     "execution_count": 52,
     "metadata": {},
     "output_type": "execute_result"
    }
   ],
   "source": [
    "# соберем в один датафрейм реальные значения целевого признака и все предсказания сбалансированных и несбалансированных моделей\n",
    "problem_objects = pd.concat([target_test, \n",
    "                             pd.Series(disbalance_predicted, index=target_test.index),\n",
    "                             pd.Series(balance_predicted, index=target_test.index),\n",
    "                             pd.Series(oversample_predicted, index=target_test.index),\n",
    "                             pd.Series(undersample_predicted, index=target_test.index)], axis=1)\n",
    "\n",
    "problem_objects.columns = ['Exited', 'DisbalancePredicted', 'BalancePredicted',\n",
    "                           'OversamplePredicted', 'UndersamplePredicted']\n",
    "\n",
    "problem_objects"
   ]
  },
  {
   "cell_type": "code",
   "execution_count": 53,
   "metadata": {},
   "outputs": [],
   "source": [
    "# отфильтруем индексы объектов в определении которых модель ошибалась постоянно\n",
    "problem_objects['Status'] = sum([problem_objects[x] == problem_objects['Exited']\n",
    "                                 for x in problem_objects.iloc[:, 1:]]) == 0\n",
    "\n",
    "problem_index = problem_objects.query(\"Status\").index"
   ]
  },
  {
   "cell_type": "code",
   "execution_count": 54,
   "metadata": {},
   "outputs": [
    {
     "data": {
      "text/html": [
       "<div>\n",
       "<style scoped>\n",
       "    .dataframe tbody tr th:only-of-type {\n",
       "        vertical-align: middle;\n",
       "    }\n",
       "\n",
       "    .dataframe tbody tr th {\n",
       "        vertical-align: top;\n",
       "    }\n",
       "\n",
       "    .dataframe thead th {\n",
       "        text-align: right;\n",
       "    }\n",
       "</style>\n",
       "<table border=\"1\" class=\"dataframe\">\n",
       "  <thead>\n",
       "    <tr style=\"text-align: right;\">\n",
       "      <th></th>\n",
       "      <th>CreditScore</th>\n",
       "      <th>Age</th>\n",
       "      <th>Tenure</th>\n",
       "      <th>NumOfProducts</th>\n",
       "      <th>HasCrCard</th>\n",
       "      <th>IsActiveMember</th>\n",
       "      <th>EstimatedSalary</th>\n",
       "      <th>Exited</th>\n",
       "      <th>has_balance</th>\n",
       "    </tr>\n",
       "  </thead>\n",
       "  <tbody>\n",
       "    <tr>\n",
       "      <td>count</td>\n",
       "      <td>74.000000</td>\n",
       "      <td>74.000000</td>\n",
       "      <td>70.000000</td>\n",
       "      <td>74.000000</td>\n",
       "      <td>74.000000</td>\n",
       "      <td>74.000000</td>\n",
       "      <td>74.000000</td>\n",
       "      <td>74.0</td>\n",
       "      <td>74.000000</td>\n",
       "    </tr>\n",
       "    <tr>\n",
       "      <td>mean</td>\n",
       "      <td>638.216216</td>\n",
       "      <td>63.567568</td>\n",
       "      <td>5.071429</td>\n",
       "      <td>1.513514</td>\n",
       "      <td>0.716216</td>\n",
       "      <td>0.662162</td>\n",
       "      <td>102815.312162</td>\n",
       "      <td>0.0</td>\n",
       "      <td>0.743243</td>\n",
       "    </tr>\n",
       "    <tr>\n",
       "      <td>std</td>\n",
       "      <td>109.550297</td>\n",
       "      <td>13.605077</td>\n",
       "      <td>2.793997</td>\n",
       "      <td>0.503229</td>\n",
       "      <td>0.453911</td>\n",
       "      <td>0.476201</td>\n",
       "      <td>62637.844435</td>\n",
       "      <td>0.0</td>\n",
       "      <td>0.439826</td>\n",
       "    </tr>\n",
       "    <tr>\n",
       "      <td>min</td>\n",
       "      <td>439.000000</td>\n",
       "      <td>38.000000</td>\n",
       "      <td>0.000000</td>\n",
       "      <td>1.000000</td>\n",
       "      <td>0.000000</td>\n",
       "      <td>0.000000</td>\n",
       "      <td>937.150000</td>\n",
       "      <td>0.0</td>\n",
       "      <td>0.000000</td>\n",
       "    </tr>\n",
       "    <tr>\n",
       "      <td>25%</td>\n",
       "      <td>547.500000</td>\n",
       "      <td>48.250000</td>\n",
       "      <td>3.000000</td>\n",
       "      <td>1.000000</td>\n",
       "      <td>0.000000</td>\n",
       "      <td>0.000000</td>\n",
       "      <td>48640.685000</td>\n",
       "      <td>0.0</td>\n",
       "      <td>0.250000</td>\n",
       "    </tr>\n",
       "    <tr>\n",
       "      <td>50%</td>\n",
       "      <td>640.000000</td>\n",
       "      <td>69.000000</td>\n",
       "      <td>5.000000</td>\n",
       "      <td>2.000000</td>\n",
       "      <td>1.000000</td>\n",
       "      <td>1.000000</td>\n",
       "      <td>103941.555000</td>\n",
       "      <td>0.0</td>\n",
       "      <td>1.000000</td>\n",
       "    </tr>\n",
       "    <tr>\n",
       "      <td>75%</td>\n",
       "      <td>721.000000</td>\n",
       "      <td>74.000000</td>\n",
       "      <td>7.000000</td>\n",
       "      <td>2.000000</td>\n",
       "      <td>1.000000</td>\n",
       "      <td>1.000000</td>\n",
       "      <td>164057.090000</td>\n",
       "      <td>0.0</td>\n",
       "      <td>1.000000</td>\n",
       "    </tr>\n",
       "    <tr>\n",
       "      <td>max</td>\n",
       "      <td>850.000000</td>\n",
       "      <td>82.000000</td>\n",
       "      <td>10.000000</td>\n",
       "      <td>2.000000</td>\n",
       "      <td>1.000000</td>\n",
       "      <td>1.000000</td>\n",
       "      <td>197444.690000</td>\n",
       "      <td>0.0</td>\n",
       "      <td>1.000000</td>\n",
       "    </tr>\n",
       "  </tbody>\n",
       "</table>\n",
       "</div>"
      ],
      "text/plain": [
       "       CreditScore        Age     Tenure  NumOfProducts  HasCrCard  \\\n",
       "count    74.000000  74.000000  70.000000      74.000000  74.000000   \n",
       "mean    638.216216  63.567568   5.071429       1.513514   0.716216   \n",
       "std     109.550297  13.605077   2.793997       0.503229   0.453911   \n",
       "min     439.000000  38.000000   0.000000       1.000000   0.000000   \n",
       "25%     547.500000  48.250000   3.000000       1.000000   0.000000   \n",
       "50%     640.000000  69.000000   5.000000       2.000000   1.000000   \n",
       "75%     721.000000  74.000000   7.000000       2.000000   1.000000   \n",
       "max     850.000000  82.000000  10.000000       2.000000   1.000000   \n",
       "\n",
       "       IsActiveMember  EstimatedSalary  Exited  has_balance  \n",
       "count       74.000000        74.000000    74.0    74.000000  \n",
       "mean         0.662162    102815.312162     0.0     0.743243  \n",
       "std          0.476201     62637.844435     0.0     0.439826  \n",
       "min          0.000000       937.150000     0.0     0.000000  \n",
       "25%          0.000000     48640.685000     0.0     0.250000  \n",
       "50%          1.000000    103941.555000     0.0     1.000000  \n",
       "75%          1.000000    164057.090000     0.0     1.000000  \n",
       "max          1.000000    197444.690000     0.0     1.000000  "
      ]
     },
     "execution_count": 54,
     "metadata": {},
     "output_type": "execute_result"
    }
   ],
   "source": [
    "# найдем объекты с класса 0, которые определились как класс 1 и рассмотрим их статистики\n",
    "customer_churn_data.query(\"index in @problem_index and Exited == 0\").describe()"
   ]
  },
  {
   "cell_type": "code",
   "execution_count": 55,
   "metadata": {},
   "outputs": [
    {
     "data": {
      "text/html": [
       "<div>\n",
       "<style scoped>\n",
       "    .dataframe tbody tr th:only-of-type {\n",
       "        vertical-align: middle;\n",
       "    }\n",
       "\n",
       "    .dataframe tbody tr th {\n",
       "        vertical-align: top;\n",
       "    }\n",
       "\n",
       "    .dataframe thead th {\n",
       "        text-align: right;\n",
       "    }\n",
       "</style>\n",
       "<table border=\"1\" class=\"dataframe\">\n",
       "  <thead>\n",
       "    <tr style=\"text-align: right;\">\n",
       "      <th></th>\n",
       "      <th>CreditScore</th>\n",
       "      <th>Age</th>\n",
       "      <th>Tenure</th>\n",
       "      <th>NumOfProducts</th>\n",
       "      <th>HasCrCard</th>\n",
       "      <th>IsActiveMember</th>\n",
       "      <th>EstimatedSalary</th>\n",
       "      <th>Exited</th>\n",
       "      <th>has_balance</th>\n",
       "    </tr>\n",
       "  </thead>\n",
       "  <tbody>\n",
       "    <tr>\n",
       "      <td>count</td>\n",
       "      <td>122.000000</td>\n",
       "      <td>122.000000</td>\n",
       "      <td>110.000000</td>\n",
       "      <td>122.000000</td>\n",
       "      <td>122.000000</td>\n",
       "      <td>122.000000</td>\n",
       "      <td>122.000000</td>\n",
       "      <td>122.0</td>\n",
       "      <td>122.000000</td>\n",
       "    </tr>\n",
       "    <tr>\n",
       "      <td>mean</td>\n",
       "      <td>643.155738</td>\n",
       "      <td>34.549180</td>\n",
       "      <td>4.990909</td>\n",
       "      <td>1.516393</td>\n",
       "      <td>0.573770</td>\n",
       "      <td>0.622951</td>\n",
       "      <td>109017.474508</td>\n",
       "      <td>1.0</td>\n",
       "      <td>0.721311</td>\n",
       "    </tr>\n",
       "    <tr>\n",
       "      <td>std</td>\n",
       "      <td>97.107508</td>\n",
       "      <td>6.082222</td>\n",
       "      <td>2.656118</td>\n",
       "      <td>0.825559</td>\n",
       "      <td>0.496567</td>\n",
       "      <td>0.486646</td>\n",
       "      <td>59263.796216</td>\n",
       "      <td>0.0</td>\n",
       "      <td>0.450203</td>\n",
       "    </tr>\n",
       "    <tr>\n",
       "      <td>min</td>\n",
       "      <td>363.000000</td>\n",
       "      <td>18.000000</td>\n",
       "      <td>0.000000</td>\n",
       "      <td>1.000000</td>\n",
       "      <td>0.000000</td>\n",
       "      <td>0.000000</td>\n",
       "      <td>417.410000</td>\n",
       "      <td>1.0</td>\n",
       "      <td>0.000000</td>\n",
       "    </tr>\n",
       "    <tr>\n",
       "      <td>25%</td>\n",
       "      <td>581.500000</td>\n",
       "      <td>30.250000</td>\n",
       "      <td>3.000000</td>\n",
       "      <td>1.000000</td>\n",
       "      <td>0.000000</td>\n",
       "      <td>0.000000</td>\n",
       "      <td>55899.635000</td>\n",
       "      <td>1.0</td>\n",
       "      <td>0.000000</td>\n",
       "    </tr>\n",
       "    <tr>\n",
       "      <td>50%</td>\n",
       "      <td>648.000000</td>\n",
       "      <td>36.000000</td>\n",
       "      <td>5.000000</td>\n",
       "      <td>1.000000</td>\n",
       "      <td>1.000000</td>\n",
       "      <td>1.000000</td>\n",
       "      <td>114141.315000</td>\n",
       "      <td>1.0</td>\n",
       "      <td>1.000000</td>\n",
       "    </tr>\n",
       "    <tr>\n",
       "      <td>75%</td>\n",
       "      <td>708.750000</td>\n",
       "      <td>39.750000</td>\n",
       "      <td>7.000000</td>\n",
       "      <td>2.000000</td>\n",
       "      <td>1.000000</td>\n",
       "      <td>1.000000</td>\n",
       "      <td>155831.012500</td>\n",
       "      <td>1.0</td>\n",
       "      <td>1.000000</td>\n",
       "    </tr>\n",
       "    <tr>\n",
       "      <td>max</td>\n",
       "      <td>850.000000</td>\n",
       "      <td>44.000000</td>\n",
       "      <td>10.000000</td>\n",
       "      <td>4.000000</td>\n",
       "      <td>1.000000</td>\n",
       "      <td>1.000000</td>\n",
       "      <td>198402.370000</td>\n",
       "      <td>1.0</td>\n",
       "      <td>1.000000</td>\n",
       "    </tr>\n",
       "  </tbody>\n",
       "</table>\n",
       "</div>"
      ],
      "text/plain": [
       "       CreditScore         Age      Tenure  NumOfProducts   HasCrCard  \\\n",
       "count   122.000000  122.000000  110.000000     122.000000  122.000000   \n",
       "mean    643.155738   34.549180    4.990909       1.516393    0.573770   \n",
       "std      97.107508    6.082222    2.656118       0.825559    0.496567   \n",
       "min     363.000000   18.000000    0.000000       1.000000    0.000000   \n",
       "25%     581.500000   30.250000    3.000000       1.000000    0.000000   \n",
       "50%     648.000000   36.000000    5.000000       1.000000    1.000000   \n",
       "75%     708.750000   39.750000    7.000000       2.000000    1.000000   \n",
       "max     850.000000   44.000000   10.000000       4.000000    1.000000   \n",
       "\n",
       "       IsActiveMember  EstimatedSalary  Exited  has_balance  \n",
       "count      122.000000       122.000000   122.0   122.000000  \n",
       "mean         0.622951    109017.474508     1.0     0.721311  \n",
       "std          0.486646     59263.796216     0.0     0.450203  \n",
       "min          0.000000       417.410000     1.0     0.000000  \n",
       "25%          0.000000     55899.635000     1.0     0.000000  \n",
       "50%          1.000000    114141.315000     1.0     1.000000  \n",
       "75%          1.000000    155831.012500     1.0     1.000000  \n",
       "max          1.000000    198402.370000     1.0     1.000000  "
      ]
     },
     "execution_count": 55,
     "metadata": {},
     "output_type": "execute_result"
    }
   ],
   "source": [
    "# найдем объекты с класса 1, которые определились как класс 0 и рассмотрим их статистики\n",
    "customer_churn_data.query(\"index in @problem_index and Exited == 1\").describe()"
   ]
  },
  {
   "cell_type": "markdown",
   "metadata": {},
   "source": [
    "Похоже модель относит к объектам класса \"1\" клиентов постарше с балансом выше среднего, но средним доходом. Как мы видели ранее, среди ушедших клиентов действительно больше возрастных с балансом выше среднего, но при этом зачастую менее активных (среднее 'IsActiveMember' = 0.36). К объектам класса \"0\" модель ошибочно относит более молодых клиентов с доходами чуть выше среднего. Возможно, стоит делать предсказания по оттоку клиентов в разных возрастных группах.\n",
    "\n",
    "Распределение некоторых признаков внутри классов похоже, что говорит о том, что объекты редкого класса могут равномерно, но с низкой плотностью, распределяться среди объектов частого класса. Также некоторые признаки имеют слабую изменчивость, что является бесполезным для линейных моделей. Возможно стоит удалить некоторые менее характерные признаки из модели, чтобы она меньше путалась.\n",
    "\n",
    "По гистограммам распределения некоторые признаки мне показались более характерными. Например, 'Age', 'NumOfProducts', 'IsActiveMember', 'Gender_Male' и может быть 'CreditScore' (т.к. среди тех у кого низкий кредитный рейтинг только ушедшие клиенты). Сверю свои предположения с результатами модуля ```feature_selection```. Попробую обучить модель на отобранных признаках."
   ]
  },
  {
   "cell_type": "code",
   "execution_count": 56,
   "metadata": {},
   "outputs": [
    {
     "name": "stdout",
     "output_type": "stream",
     "text": [
      "Age\n",
      "IsActiveMember\n",
      "Geography_Germany\n",
      "Gender_Male\n"
     ]
    }
   ],
   "source": [
    "# отберем минимальное, положительно влияющее на качество модели, кол-во признаков \n",
    "rfe = RFE(balance_model, 4)\n",
    "rfe = rfe.fit(features_train, target_train)\n",
    "\n",
    "for i in range(len(features_train.columns)):\n",
    "    if rfe.support_[i]:\n",
    "        print(features_train.columns[i])"
   ]
  },
  {
   "cell_type": "markdown",
   "metadata": {},
   "source": [
    "Оценим эффективность модели на тестовой выборке."
   ]
  },
  {
   "cell_type": "code",
   "execution_count": 57,
   "metadata": {},
   "outputs": [
    {
     "name": "stdout",
     "output_type": "stream",
     "text": [
      "F1 = 0.52, AUC = 0.77\n",
      "CPU times: user 260 ms, sys: 41.8 ms, total: 302 ms\n",
      "Wall time: 311 ms\n"
     ]
    }
   ],
   "source": [
    "%%time\n",
    "\n",
    "feature_select_model = Pipeline([\n",
    "    ('feature_selection', RFE(balance_model, 4)),\n",
    "    ('classification', LogisticRegression(**log_random.best_params_,\n",
    "                                          random_state=678))\n",
    "])\n",
    "\n",
    "feature_select_model.fit(features_train, target_train)\n",
    "feature_select_predicted = feature_select_model.predict(features_test)\n",
    "feature_select_probas = feature_select_model.predict_proba(features_test)\n",
    "auc_roc = roc_auc_score(target_test, feature_select_probas[:, 1])\n",
    "\n",
    "print(\"F1 = {:.2f}, AUC = {:.2f}\".format(\n",
    "    round(f1_score(target_test, feature_select_predicted), 2), auc_roc))"
   ]
  },
  {
   "cell_type": "markdown",
   "metadata": {},
   "source": [
    "После исключения из модели слабоинформативных признаков результат практически не изменился (+0.01). Возможно, зависимость в данных не получится описать лучше используя линейную модель, поэтому попробуем обратиться к моделям другого класса - \"дерево решений\" и \"случайный лес\".\n",
    "\n",
    "Соберем все результаты в одну таблицу для удобства стравнения."
   ]
  },
  {
   "cell_type": "code",
   "execution_count": 58,
   "metadata": {},
   "outputs": [
    {
     "data": {
      "text/html": [
       "<div>\n",
       "<style scoped>\n",
       "    .dataframe tbody tr th:only-of-type {\n",
       "        vertical-align: middle;\n",
       "    }\n",
       "\n",
       "    .dataframe tbody tr th {\n",
       "        vertical-align: top;\n",
       "    }\n",
       "\n",
       "    .dataframe thead th {\n",
       "        text-align: right;\n",
       "    }\n",
       "</style>\n",
       "<table border=\"1\" class=\"dataframe\">\n",
       "  <thead>\n",
       "    <tr style=\"text-align: right;\">\n",
       "      <th></th>\n",
       "      <th>Logistic Regression</th>\n",
       "      <th>Logistic Regression (balanced)</th>\n",
       "      <th>Logistic Regression (oversampling)</th>\n",
       "      <th>Logistic Regression (undersampling)</th>\n",
       "      <th>Logistic Regression (balanced, feature selection)</th>\n",
       "    </tr>\n",
       "  </thead>\n",
       "  <tbody>\n",
       "    <tr>\n",
       "      <td>F1-value</td>\n",
       "      <td>0.32</td>\n",
       "      <td>0.5</td>\n",
       "      <td>0.51</td>\n",
       "      <td>0.5</td>\n",
       "      <td>0.52</td>\n",
       "    </tr>\n",
       "  </tbody>\n",
       "</table>\n",
       "</div>"
      ],
      "text/plain": [
       "          Logistic Regression  Logistic Regression (balanced)  \\\n",
       "F1-value                 0.32                             0.5   \n",
       "\n",
       "          Logistic Regression (oversampling)  \\\n",
       "F1-value                                0.51   \n",
       "\n",
       "          Logistic Regression (undersampling)  \\\n",
       "F1-value                                  0.5   \n",
       "\n",
       "          Logistic Regression (balanced, feature selection)  \n",
       "F1-value                                               0.52  "
      ]
     },
     "execution_count": 58,
     "metadata": {},
     "output_type": "execute_result"
    }
   ],
   "source": [
    "log_result = pd.DataFrame(data={\n",
    "    'Logistic Regression':  round(f1_score(target_test, disbalance_predicted), 2),\n",
    "    'Logistic Regression (balanced)': round(f1_score(target_test, balance_predicted), 2),\n",
    "    'Logistic Regression (oversampling)': round(f1_score(target_test, oversample_predicted), 2),\n",
    "    'Logistic Regression (undersampling)': round(f1_score(target_test, undersample_predicted), 2),\n",
    "    'Logistic Regression (balanced, feature selection)': round(f1_score(target_test, feature_select_predicted), 2),\n",
    "}, index=[\"F1-value\"]).round(2)\n",
    "\n",
    "log_result"
   ]
  },
  {
   "cell_type": "markdown",
   "metadata": {},
   "source": [
    "### 3.2 \"Дерево решений\""
   ]
  },
  {
   "cell_type": "code",
   "execution_count": 59,
   "metadata": {},
   "outputs": [],
   "source": [
    "tree_model = DecisionTreeClassifier(random_state=135)"
   ]
  },
  {
   "cell_type": "code",
   "execution_count": 60,
   "metadata": {},
   "outputs": [
    {
     "name": "stdout",
     "output_type": "stream",
     "text": [
      "mean f1-score: 0.49, std: 0.01\n",
      "CPU times: user 210 ms, sys: 1.22 ms, total: 211 ms\n",
      "Wall time: 238 ms\n"
     ]
    }
   ],
   "source": [
    "%%time\n",
    "\n",
    "print(\"mean f1-score: {cv mean}, std: {std}\".format(\n",
    "    **get_cv_scores(tree_model, features_train, target_train)))"
   ]
  },
  {
   "cell_type": "markdown",
   "metadata": {},
   "source": [
    "Оценим эффективность модели на тестовой выборке."
   ]
  },
  {
   "cell_type": "code",
   "execution_count": 61,
   "metadata": {},
   "outputs": [
    {
     "name": "stdout",
     "output_type": "stream",
     "text": [
      "F1 = 0.49, AUC = 0.68\n",
      "CPU times: user 52.6 ms, sys: 3.72 ms, total: 56.3 ms\n",
      "Wall time: 58.2 ms\n"
     ]
    }
   ],
   "source": [
    "%%time\n",
    "\n",
    "tree_model.fit(features_train, target_train)\n",
    "tree_predictions = tree_model.predict(features_test)\n",
    "tree_probas = tree_model.predict_proba(features_test)\n",
    "auc_roc = roc_auc_score(target_test, tree_probas[:, 1])\n",
    "\n",
    "print(\"F1 = {:.2f}, AUC = {:.2f}\".format(\n",
    "    f1_score(target_test, tree_predictions), auc_roc))"
   ]
  },
  {
   "cell_type": "code",
   "execution_count": 62,
   "metadata": {},
   "outputs": [
    {
     "data": {
      "image/png": "[encoded data removed]",
      "text/plain": [
       "<Figure size 1152x432 with 2 Axes>"
      ]
     },
     "metadata": {},
     "output_type": "display_data"
    }
   ],
   "source": [
    "# матрица ошибок по предсказанию несбалансированной модели\n",
    "plt.figure(figsize=(16, 6))\n",
    "plt.subplot(1, 2, 2)\n",
    "cnf_matrix_valid = confusion_matrix(target_test, tree_predictions)\n",
    "plot_confusion_matrix(cnf_matrix_valid, classes=['0', '1'])\n",
    "\n",
    "plt.show()"
   ]
  },
  {
   "cell_type": "markdown",
   "metadata": {},
   "source": [
    "Подберем гиперпараметры и сбалансируем модель."
   ]
  },
  {
   "cell_type": "code",
   "execution_count": 63,
   "metadata": {},
   "outputs": [
    {
     "name": "stdout",
     "output_type": "stream",
     "text": [
      "{'criterion': ['gini', 'entropy'], 'max_depth': [5, 7, 10, 12, 15], 'min_samples_split': [2, 5, 10], 'min_samples_leaf': [1, 2, 4], 'class_weight': ['balanced']}\n"
     ]
    }
   ],
   "source": [
    "criterion = ['gini', 'entropy']\n",
    "max_depth = [int(x) for x in np.linspace(start=5, stop=15, num=5)]\n",
    "min_samples_split = [2, 5, 10]\n",
    "min_samples_leaf = [1, 2, 4]\n",
    "class_weight = ['balanced']\n",
    "\n",
    "tree_grid = {'criterion': criterion,\n",
    "             'max_depth': max_depth,\n",
    "             'min_samples_split': min_samples_split,\n",
    "             'min_samples_leaf': min_samples_leaf,\n",
    "             'class_weight': class_weight\n",
    "            }\n",
    "\n",
    "\n",
    "print(tree_grid)"
   ]
  },
  {
   "cell_type": "code",
   "execution_count": 64,
   "metadata": {},
   "outputs": [],
   "source": [
    "tree_test_model = DecisionTreeClassifier(random_state=123)"
   ]
  },
  {
   "cell_type": "code",
   "execution_count": 65,
   "metadata": {},
   "outputs": [
    {
     "name": "stdout",
     "output_type": "stream",
     "text": [
      "Fitting 5 folds for each of 10 candidates, totalling 50 fits\n",
      "[CV] min_samples_split=2, min_samples_leaf=4, max_depth=7, criterion=entropy, class_weight=balanced \n",
      "[CV]  min_samples_split=2, min_samples_leaf=4, max_depth=7, criterion=entropy, class_weight=balanced, total=   0.0s\n",
      "[CV] min_samples_split=2, min_samples_leaf=4, max_depth=7, criterion=entropy, class_weight=balanced \n",
      "[CV]  min_samples_split=2, min_samples_leaf=4, max_depth=7, criterion=entropy, class_weight=balanced, total=   0.0s\n",
      "[CV] min_samples_split=2, min_samples_leaf=4, max_depth=7, criterion=entropy, class_weight=balanced \n",
      "[CV]  min_samples_split=2, min_samples_leaf=4, max_depth=7, criterion=entropy, class_weight=balanced, total=   0.0s\n",
      "[CV] min_samples_split=2, min_samples_leaf=4, max_depth=7, criterion=entropy, class_weight=balanced \n",
      "[CV]  min_samples_split=2, min_samples_leaf=4, max_depth=7, criterion=entropy, class_weight=balanced, total=   0.0s\n",
      "[CV] min_samples_split=2, min_samples_leaf=4, max_depth=7, criterion=entropy, class_weight=balanced \n",
      "[CV]  min_samples_split=2, min_samples_leaf=4, max_depth=7, criterion=entropy, class_weight=balanced, total=   0.0s\n",
      "[CV] min_samples_split=5, min_samples_leaf=4, max_depth=10, criterion=entropy, class_weight=balanced \n"
     ]
    },
    {
     "name": "stderr",
     "output_type": "stream",
     "text": [
      "[Parallel(n_jobs=-1)]: Using backend SequentialBackend with 1 concurrent workers.\n",
      "[Parallel(n_jobs=-1)]: Done   1 out of   1 | elapsed:    0.0s remaining:    0.0s\n"
     ]
    },
    {
     "name": "stdout",
     "output_type": "stream",
     "text": [
      "[CV]  min_samples_split=5, min_samples_leaf=4, max_depth=10, criterion=entropy, class_weight=balanced, total=   0.0s\n",
      "[CV] min_samples_split=5, min_samples_leaf=4, max_depth=10, criterion=entropy, class_weight=balanced \n",
      "[CV]  min_samples_split=5, min_samples_leaf=4, max_depth=10, criterion=entropy, class_weight=balanced, total=   0.1s\n",
      "[CV] min_samples_split=5, min_samples_leaf=4, max_depth=10, criterion=entropy, class_weight=balanced \n",
      "[CV]  min_samples_split=5, min_samples_leaf=4, max_depth=10, criterion=entropy, class_weight=balanced, total=   0.0s\n",
      "[CV] min_samples_split=5, min_samples_leaf=4, max_depth=10, criterion=entropy, class_weight=balanced \n",
      "[CV]  min_samples_split=5, min_samples_leaf=4, max_depth=10, criterion=entropy, class_weight=balanced, total=   0.0s\n",
      "[CV] min_samples_split=5, min_samples_leaf=4, max_depth=10, criterion=entropy, class_weight=balanced \n",
      "[CV]  min_samples_split=5, min_samples_leaf=4, max_depth=10, criterion=entropy, class_weight=balanced, total=   0.0s\n",
      "[CV] min_samples_split=10, min_samples_leaf=1, max_depth=12, criterion=gini, class_weight=balanced \n",
      "[CV]  min_samples_split=10, min_samples_leaf=1, max_depth=12, criterion=gini, class_weight=balanced, total=   0.0s\n",
      "[CV] min_samples_split=10, min_samples_leaf=1, max_depth=12, criterion=gini, class_weight=balanced \n",
      "[CV]  min_samples_split=10, min_samples_leaf=1, max_depth=12, criterion=gini, class_weight=balanced, total=   0.0s\n",
      "[CV] min_samples_split=10, min_samples_leaf=1, max_depth=12, criterion=gini, class_weight=balanced \n",
      "[CV]  min_samples_split=10, min_samples_leaf=1, max_depth=12, criterion=gini, class_weight=balanced, total=   0.0s\n",
      "[CV] min_samples_split=10, min_samples_leaf=1, max_depth=12, criterion=gini, class_weight=balanced \n",
      "[CV]  min_samples_split=10, min_samples_leaf=1, max_depth=12, criterion=gini, class_weight=balanced, total=   0.0s\n",
      "[CV] min_samples_split=10, min_samples_leaf=1, max_depth=12, criterion=gini, class_weight=balanced \n",
      "[CV]  min_samples_split=10, min_samples_leaf=1, max_depth=12, criterion=gini, class_weight=balanced, total=   0.0s\n",
      "[CV] min_samples_split=10, min_samples_leaf=4, max_depth=5, criterion=entropy, class_weight=balanced \n",
      "[CV]  min_samples_split=10, min_samples_leaf=4, max_depth=5, criterion=entropy, class_weight=balanced, total=   0.0s\n",
      "[CV] min_samples_split=10, min_samples_leaf=4, max_depth=5, criterion=entropy, class_weight=balanced \n",
      "[CV]  min_samples_split=10, min_samples_leaf=4, max_depth=5, criterion=entropy, class_weight=balanced, total=   0.0s\n",
      "[CV] min_samples_split=10, min_samples_leaf=4, max_depth=5, criterion=entropy, class_weight=balanced \n",
      "[CV]  min_samples_split=10, min_samples_leaf=4, max_depth=5, criterion=entropy, class_weight=balanced, total=   0.0s\n",
      "[CV] min_samples_split=10, min_samples_leaf=4, max_depth=5, criterion=entropy, class_weight=balanced \n",
      "[CV]  min_samples_split=10, min_samples_leaf=4, max_depth=5, criterion=entropy, class_weight=balanced, total=   0.0s\n",
      "[CV] min_samples_split=10, min_samples_leaf=4, max_depth=5, criterion=entropy, class_weight=balanced \n",
      "[CV]  min_samples_split=10, min_samples_leaf=4, max_depth=5, criterion=entropy, class_weight=balanced, total=   0.0s\n",
      "[CV] min_samples_split=10, min_samples_leaf=2, max_depth=15, criterion=entropy, class_weight=balanced \n",
      "[CV]  min_samples_split=10, min_samples_leaf=2, max_depth=15, criterion=entropy, class_weight=balanced, total=   0.0s\n",
      "[CV] min_samples_split=10, min_samples_leaf=2, max_depth=15, criterion=entropy, class_weight=balanced \n",
      "[CV]  min_samples_split=10, min_samples_leaf=2, max_depth=15, criterion=entropy, class_weight=balanced, total=   0.1s\n",
      "[CV] min_samples_split=10, min_samples_leaf=2, max_depth=15, criterion=entropy, class_weight=balanced \n",
      "[CV]  min_samples_split=10, min_samples_leaf=2, max_depth=15, criterion=entropy, class_weight=balanced, total=   0.0s\n",
      "[CV] min_samples_split=10, min_samples_leaf=2, max_depth=15, criterion=entropy, class_weight=balanced \n",
      "[CV]  min_samples_split=10, min_samples_leaf=2, max_depth=15, criterion=entropy, class_weight=balanced, total=   0.1s\n",
      "[CV] min_samples_split=10, min_samples_leaf=2, max_depth=15, criterion=entropy, class_weight=balanced \n",
      "[CV]  min_samples_split=10, min_samples_leaf=2, max_depth=15, criterion=entropy, class_weight=balanced, total=   0.0s\n",
      "[CV] min_samples_split=5, min_samples_leaf=2, max_depth=5, criterion=gini, class_weight=balanced \n",
      "[CV]  min_samples_split=5, min_samples_leaf=2, max_depth=5, criterion=gini, class_weight=balanced, total=   0.0s\n",
      "[CV] min_samples_split=5, min_samples_leaf=2, max_depth=5, criterion=gini, class_weight=balanced \n",
      "[CV]  min_samples_split=5, min_samples_leaf=2, max_depth=5, criterion=gini, class_weight=balanced, total=   0.0s\n",
      "[CV] min_samples_split=5, min_samples_leaf=2, max_depth=5, criterion=gini, class_weight=balanced \n",
      "[CV]  min_samples_split=5, min_samples_leaf=2, max_depth=5, criterion=gini, class_weight=balanced, total=   0.0s\n",
      "[CV] min_samples_split=5, min_samples_leaf=2, max_depth=5, criterion=gini, class_weight=balanced \n",
      "[CV]  min_samples_split=5, min_samples_leaf=2, max_depth=5, criterion=gini, class_weight=balanced, total=   0.0s\n",
      "[CV] min_samples_split=5, min_samples_leaf=2, max_depth=5, criterion=gini, class_weight=balanced \n",
      "[CV]  min_samples_split=5, min_samples_leaf=2, max_depth=5, criterion=gini, class_weight=balanced, total=   0.0s\n",
      "[CV] min_samples_split=5, min_samples_leaf=2, max_depth=12, criterion=gini, class_weight=balanced \n",
      "[CV]  min_samples_split=5, min_samples_leaf=2, max_depth=12, criterion=gini, class_weight=balanced, total=   0.0s\n",
      "[CV] min_samples_split=5, min_samples_leaf=2, max_depth=12, criterion=gini, class_weight=balanced \n",
      "[CV]  min_samples_split=5, min_samples_leaf=2, max_depth=12, criterion=gini, class_weight=balanced, total=   0.0s\n",
      "[CV] min_samples_split=5, min_samples_leaf=2, max_depth=12, criterion=gini, class_weight=balanced \n",
      "[CV]  min_samples_split=5, min_samples_leaf=2, max_depth=12, criterion=gini, class_weight=balanced, total=   0.0s\n",
      "[CV] min_samples_split=5, min_samples_leaf=2, max_depth=12, criterion=gini, class_weight=balanced \n",
      "[CV]  min_samples_split=5, min_samples_leaf=2, max_depth=12, criterion=gini, class_weight=balanced, total=   0.0s\n",
      "[CV] min_samples_split=5, min_samples_leaf=2, max_depth=12, criterion=gini, class_weight=balanced \n",
      "[CV]  min_samples_split=5, min_samples_leaf=2, max_depth=12, criterion=gini, class_weight=balanced, total=   0.1s\n",
      "[CV] min_samples_split=5, min_samples_leaf=2, max_depth=12, criterion=entropy, class_weight=balanced \n",
      "[CV]  min_samples_split=5, min_samples_leaf=2, max_depth=12, criterion=entropy, class_weight=balanced, total=   0.1s\n",
      "[CV] min_samples_split=5, min_samples_leaf=2, max_depth=12, criterion=entropy, class_weight=balanced \n",
      "[CV]  min_samples_split=5, min_samples_leaf=2, max_depth=12, criterion=entropy, class_weight=balanced, total=   0.0s\n",
      "[CV] min_samples_split=5, min_samples_leaf=2, max_depth=12, criterion=entropy, class_weight=balanced \n",
      "[CV]  min_samples_split=5, min_samples_leaf=2, max_depth=12, criterion=entropy, class_weight=balanced, total=   0.1s\n",
      "[CV] min_samples_split=5, min_samples_leaf=2, max_depth=12, criterion=entropy, class_weight=balanced \n",
      "[CV]  min_samples_split=5, min_samples_leaf=2, max_depth=12, criterion=entropy, class_weight=balanced, total=   0.0s\n",
      "[CV] min_samples_split=5, min_samples_leaf=2, max_depth=12, criterion=entropy, class_weight=balanced \n",
      "[CV]  min_samples_split=5, min_samples_leaf=2, max_depth=12, criterion=entropy, class_weight=balanced, total=   0.0s\n",
      "[CV] min_samples_split=2, min_samples_leaf=2, max_depth=12, criterion=entropy, class_weight=balanced \n",
      "[CV]  min_samples_split=2, min_samples_leaf=2, max_depth=12, criterion=entropy, class_weight=balanced, total=   0.0s\n",
      "[CV] min_samples_split=2, min_samples_leaf=2, max_depth=12, criterion=entropy, class_weight=balanced \n",
      "[CV]  min_samples_split=2, min_samples_leaf=2, max_depth=12, criterion=entropy, class_weight=balanced, total=   0.0s\n",
      "[CV] min_samples_split=2, min_samples_leaf=2, max_depth=12, criterion=entropy, class_weight=balanced \n",
      "[CV]  min_samples_split=2, min_samples_leaf=2, max_depth=12, criterion=entropy, class_weight=balanced, total=   0.0s\n",
      "[CV] min_samples_split=2, min_samples_leaf=2, max_depth=12, criterion=entropy, class_weight=balanced \n",
      "[CV]  min_samples_split=2, min_samples_leaf=2, max_depth=12, criterion=entropy, class_weight=balanced, total=   0.1s\n",
      "[CV] min_samples_split=2, min_samples_leaf=2, max_depth=12, criterion=entropy, class_weight=balanced \n",
      "[CV]  min_samples_split=2, min_samples_leaf=2, max_depth=12, criterion=entropy, class_weight=balanced, total=   0.0s\n",
      "[CV] min_samples_split=2, min_samples_leaf=4, max_depth=10, criterion=entropy, class_weight=balanced \n",
      "[CV]  min_samples_split=2, min_samples_leaf=4, max_depth=10, criterion=entropy, class_weight=balanced, total=   0.0s\n",
      "[CV] min_samples_split=2, min_samples_leaf=4, max_depth=10, criterion=entropy, class_weight=balanced \n",
      "[CV]  min_samples_split=2, min_samples_leaf=4, max_depth=10, criterion=entropy, class_weight=balanced, total=   0.0s\n",
      "[CV] min_samples_split=2, min_samples_leaf=4, max_depth=10, criterion=entropy, class_weight=balanced \n",
      "[CV]  min_samples_split=2, min_samples_leaf=4, max_depth=10, criterion=entropy, class_weight=balanced, total=   0.0s\n",
      "[CV] min_samples_split=2, min_samples_leaf=4, max_depth=10, criterion=entropy, class_weight=balanced \n",
      "[CV]  min_samples_split=2, min_samples_leaf=4, max_depth=10, criterion=entropy, class_weight=balanced, total=   0.0s\n",
      "[CV] min_samples_split=2, min_samples_leaf=4, max_depth=10, criterion=entropy, class_weight=balanced \n",
      "[CV]  min_samples_split=2, min_samples_leaf=4, max_depth=10, criterion=entropy, class_weight=balanced, total=   0.0s\n"
     ]
    },
    {
     "name": "stderr",
     "output_type": "stream",
     "text": [
      "[Parallel(n_jobs=-1)]: Done  50 out of  50 | elapsed:    2.1s finished\n"
     ]
    },
    {
     "data": {
      "text/plain": [
       "RandomizedSearchCV(estimator=DecisionTreeClassifier(random_state=123),\n",
       "                   n_jobs=-1,\n",
       "                   param_distributions={'class_weight': ['balanced'],\n",
       "                                        'criterion': ['gini', 'entropy'],\n",
       "                                        'max_depth': [5, 7, 10, 12, 15],\n",
       "                                        'min_samples_leaf': [1, 2, 4],\n",
       "                                        'min_samples_split': [2, 5, 10]},\n",
       "                   random_state=123, refit='f1', scoring='f1', verbose=2)"
      ]
     },
     "execution_count": 65,
     "metadata": {},
     "output_type": "execute_result"
    }
   ],
   "source": [
    "tree_random = RandomizedSearchCV(estimator=tree_test_model, scoring='f1',\n",
    "                                 param_distributions=tree_grid, verbose=2, refit='f1',\n",
    "                                 random_state=123, n_jobs=-1)\n",
    "\n",
    "tree_random.fit(features_train, target_train)"
   ]
  },
  {
   "cell_type": "code",
   "execution_count": 66,
   "metadata": {},
   "outputs": [
    {
     "name": "stdout",
     "output_type": "stream",
     "text": [
      "best cv f1-score:  0.56\n"
     ]
    }
   ],
   "source": [
    "print(\"best cv f1-score: \", round(tree_random.best_score_, 2))"
   ]
  },
  {
   "cell_type": "code",
   "execution_count": 67,
   "metadata": {},
   "outputs": [
    {
     "name": "stdout",
     "output_type": "stream",
     "text": [
      "best params:\n"
     ]
    },
    {
     "data": {
      "text/plain": [
       "{'min_samples_split': 2,\n",
       " 'min_samples_leaf': 4,\n",
       " 'max_depth': 7,\n",
       " 'criterion': 'entropy',\n",
       " 'class_weight': 'balanced'}"
      ]
     },
     "execution_count": 67,
     "metadata": {},
     "output_type": "execute_result"
    }
   ],
   "source": [
    "print(\"best params:\")\n",
    "tree_random.best_params_"
   ]
  },
  {
   "cell_type": "markdown",
   "metadata": {},
   "source": [
    "Оценим эффективность модели на тестовой выборке."
   ]
  },
  {
   "cell_type": "code",
   "execution_count": 68,
   "metadata": {},
   "outputs": [
    {
     "name": "stdout",
     "output_type": "stream",
     "text": [
      "F1 = 0.57, AUC = 0.85\n",
      "CPU times: user 47.9 ms, sys: 0 ns, total: 47.9 ms\n",
      "Wall time: 77.9 ms\n"
     ]
    }
   ],
   "source": [
    "%%time\n",
    "\n",
    "tree_balance_model = DecisionTreeClassifier(random_state=321, **tree_random.best_params_\n",
    "                                           ).fit(features_train, target_train)\n",
    "tree_balance_predictions = tree_balance_model.predict(features_test)\n",
    "tree_balance_probas = tree_balance_model.predict_proba(features_test)\n",
    "auc_roc = roc_auc_score(target_test, tree_balance_probas[:, 1])\n",
    "\n",
    "print(\"F1 = {:.2f}, AUC = {:.2f}\".format(\n",
    "    f1_score(target_test, tree_balance_predictions), auc_roc))"
   ]
  },
  {
   "cell_type": "code",
   "execution_count": 69,
   "metadata": {},
   "outputs": [
    {
     "data": {
      "image/png": "[encoded data removed]",
      "text/plain": [
       "<Figure size 1152x432 with 2 Axes>"
      ]
     },
     "metadata": {},
     "output_type": "display_data"
    }
   ],
   "source": [
    "plt.figure(figsize=(16, 6))\n",
    "plt.subplot(1, 2, 2)\n",
    "cnf_matrix_valid = confusion_matrix(target_test, tree_balance_predictions)\n",
    "plot_confusion_matrix(cnf_matrix_valid, classes=['0', '1'])\n",
    "\n",
    "plt.show()"
   ]
  },
  {
   "cell_type": "markdown",
   "metadata": {},
   "source": [
    "Качество предсказаний положительного класса улучшилось, при этом количество ложноположительных объектов также увеличилось. Попробуем применить техники ресемплинга."
   ]
  },
  {
   "cell_type": "markdown",
   "metadata": {},
   "source": [
    "**Оверсемплинг:**"
   ]
  },
  {
   "cell_type": "code",
   "execution_count": 70,
   "metadata": {},
   "outputs": [
    {
     "name": "stdout",
     "output_type": "stream",
     "text": [
      "best cv f1-score:  0.57\n",
      "CPU times: user 291 ms, sys: 2.33 ms, total: 294 ms\n",
      "Wall time: 303 ms\n"
     ]
    }
   ],
   "source": [
    "%%time\n",
    "\n",
    "tree_oversample_pipeline = make_pipeline(RandomOverSampler(random_state=123), \n",
    "                                         DecisionTreeClassifier(min_samples_split=2,\n",
    "                                                                min_samples_leaf=4,\n",
    "                                                                max_depth=7,\n",
    "                                                                criterion='entropy',\n",
    "                                                                random_state=321)\n",
    "                                        )\n",
    "\n",
    "tree_oversample_score = cross_validate(tree_oversample_pipeline, features_train,\n",
    "                                       target_train, scoring='f1', cv=5)\n",
    "\n",
    "print(\"best cv f1-score: \", round(tree_oversample_score['test_score'].max(), 2))"
   ]
  },
  {
   "cell_type": "markdown",
   "metadata": {},
   "source": [
    "Оценим эффективность модели на тестовой выборке."
   ]
  },
  {
   "cell_type": "code",
   "execution_count": 71,
   "metadata": {},
   "outputs": [
    {
     "name": "stdout",
     "output_type": "stream",
     "text": [
      "F1 = 0.59, AUC = 0.85\n",
      "CPU times: user 65 ms, sys: 3.8 ms, total: 68.8 ms\n",
      "Wall time: 78.7 ms\n"
     ]
    }
   ],
   "source": [
    "%%time\n",
    "\n",
    "# оценим эффективность модели по ROC-AUC\n",
    "tree_oversample_predicted = tree_oversample_pipeline.fit(features_train, target_train\n",
    "                                                        ).predict(features_test)\n",
    "tree_oversample_probas = tree_oversample_pipeline.predict_proba(features_test)\n",
    "auc_roc = roc_auc_score(target_test, tree_oversample_probas[:, 1])\n",
    "\n",
    "print(\"F1 = {:.2f}, AUC = {:.2f}\".format(\n",
    "    round(f1_score(target_test, tree_oversample_predicted), 2), auc_roc))"
   ]
  },
  {
   "cell_type": "code",
   "execution_count": 72,
   "metadata": {},
   "outputs": [
    {
     "data": {
      "image/png": "[encoded data removed]",
      "text/plain": [
       "<Figure size 1152x432 with 2 Axes>"
      ]
     },
     "metadata": {},
     "output_type": "display_data"
    }
   ],
   "source": [
    "plt.figure(figsize=(16, 6))\n",
    "plt.subplot(1, 2, 2)\n",
    "cnf_matrix_valid = confusion_matrix(target_test, tree_oversample_predicted)\n",
    "plot_confusion_matrix(cnf_matrix_valid, classes=['0', '1'])\n",
    "\n",
    "plt.show()"
   ]
  },
  {
   "cell_type": "markdown",
   "metadata": {},
   "source": [
    "**Андерсемплинг:**"
   ]
  },
  {
   "cell_type": "code",
   "execution_count": 73,
   "metadata": {},
   "outputs": [
    {
     "name": "stdout",
     "output_type": "stream",
     "text": [
      "best cv f1-score:  0.55\n",
      "CPU times: user 164 ms, sys: 0 ns, total: 164 ms\n",
      "Wall time: 174 ms\n"
     ]
    }
   ],
   "source": [
    "%%time\n",
    "\n",
    "tree_undersample_pipeline = make_pipeline(RandomUnderSampler(random_state=987),\n",
    "                                          DecisionTreeClassifier(min_samples_split=2,\n",
    "                                                                 min_samples_leaf=4,\n",
    "                                                                 max_depth=7,\n",
    "                                                                 criterion='entropy',\n",
    "                                                                 random_state=789)\n",
    "                                         )\n",
    "\n",
    "tree_undersample_score = cross_validate(tree_undersample_pipeline, features_train,\n",
    "                                        target_train, scoring='f1', cv=5)\n",
    "\n",
    "print(\"best cv f1-score: \", round(tree_undersample_score['test_score'].max(), 2))"
   ]
  },
  {
   "cell_type": "markdown",
   "metadata": {},
   "source": [
    "Оценим эффективность модели на тестовой выборке."
   ]
  },
  {
   "cell_type": "code",
   "execution_count": 74,
   "metadata": {},
   "outputs": [
    {
     "name": "stdout",
     "output_type": "stream",
     "text": [
      "F1 = 0.58, AUC = 0.84\n",
      "CPU times: user 33 ms, sys: 7.04 ms, total: 40 ms\n",
      "Wall time: 50.4 ms\n"
     ]
    }
   ],
   "source": [
    "%%time\n",
    "\n",
    "# оценим эффективность модели по ROC-AUC\n",
    "tree_undersample_predicted = tree_undersample_pipeline.fit(features_train, target_train\n",
    "                                                          ).predict(features_test)\n",
    "tree_undersample_probas = tree_undersample_pipeline.predict_proba(features_test)\n",
    "auc_roc = roc_auc_score(target_test, tree_undersample_probas[:, 1])\n",
    "\n",
    "print(\"F1 = {:.2f}, AUC = {:.2f}\".format(\n",
    "    round(f1_score(target_test, tree_undersample_predicted), 2), auc_roc))"
   ]
  },
  {
   "cell_type": "code",
   "execution_count": 75,
   "metadata": {},
   "outputs": [
    {
     "data": {
      "image/png": "[encoded data removed]",
      "text/plain": [
       "<Figure size 1152x432 with 2 Axes>"
      ]
     },
     "metadata": {},
     "output_type": "display_data"
    }
   ],
   "source": [
    "plt.figure(figsize=(16, 6))\n",
    "plt.subplot(1, 2, 2)\n",
    "cnf_matrix_valid = confusion_matrix(target_test, tree_undersample_predicted)\n",
    "plot_confusion_matrix(cnf_matrix_valid, classes=['0', '1'])\n",
    "\n",
    "plt.show()"
   ]
  },
  {
   "cell_type": "markdown",
   "metadata": {},
   "source": [
    "Сведем результаты обучения моделей в единую таблицу."
   ]
  },
  {
   "cell_type": "code",
   "execution_count": 76,
   "metadata": {},
   "outputs": [
    {
     "data": {
      "text/html": [
       "<div>\n",
       "<style scoped>\n",
       "    .dataframe tbody tr th:only-of-type {\n",
       "        vertical-align: middle;\n",
       "    }\n",
       "\n",
       "    .dataframe tbody tr th {\n",
       "        vertical-align: top;\n",
       "    }\n",
       "\n",
       "    .dataframe thead th {\n",
       "        text-align: right;\n",
       "    }\n",
       "</style>\n",
       "<table border=\"1\" class=\"dataframe\">\n",
       "  <thead>\n",
       "    <tr style=\"text-align: right;\">\n",
       "      <th></th>\n",
       "      <th>Tree Classifier</th>\n",
       "      <th>Tree Classifier (balanced)</th>\n",
       "      <th>Tree Classifier (oversampling)</th>\n",
       "      <th>Tree Classifier (undersampling)</th>\n",
       "      <th>Tree Classifier (feature selection)</th>\n",
       "    </tr>\n",
       "  </thead>\n",
       "  <tbody>\n",
       "    <tr>\n",
       "      <td>F1-value</td>\n",
       "      <td>0.49</td>\n",
       "      <td>0.57</td>\n",
       "      <td>0.59</td>\n",
       "      <td>0.58</td>\n",
       "      <td>-</td>\n",
       "    </tr>\n",
       "  </tbody>\n",
       "</table>\n",
       "</div>"
      ],
      "text/plain": [
       "          Tree Classifier  Tree Classifier (balanced)  \\\n",
       "F1-value             0.49                        0.57   \n",
       "\n",
       "          Tree Classifier (oversampling)  Tree Classifier (undersampling)  \\\n",
       "F1-value                            0.59                             0.58   \n",
       "\n",
       "         Tree Classifier (feature selection)  \n",
       "F1-value                                   -  "
      ]
     },
     "execution_count": 76,
     "metadata": {},
     "output_type": "execute_result"
    }
   ],
   "source": [
    "tree_result = pd.DataFrame(data={\n",
    "    'Tree Classifier':  round(f1_score(target_test, tree_predictions), 2),\n",
    "    'Tree Classifier (balanced)': round(f1_score(target_test, tree_balance_predictions), 2),\n",
    "    'Tree Classifier (oversampling)': round(f1_score(target_test, tree_oversample_predicted), 2),\n",
    "    'Tree Classifier (undersampling)': round(f1_score(target_test, tree_undersample_predicted), 2),\n",
    "    'Tree Classifier (feature selection)': '-',\n",
    "}, index=[\"F1-value\"]).round(2)\n",
    "\n",
    "tree_result"
   ]
  },
  {
   "cell_type": "markdown",
   "metadata": {},
   "source": [
    "### 3.3 \"Случайный лес\"\n",
    "\n",
    "Сначала обучим несбалансированную модель."
   ]
  },
  {
   "cell_type": "code",
   "execution_count": 77,
   "metadata": {},
   "outputs": [],
   "source": [
    "forest_model = RandomForestClassifier(random_state=359, n_jobs=-1)"
   ]
  },
  {
   "cell_type": "code",
   "execution_count": 78,
   "metadata": {},
   "outputs": [
    {
     "name": "stdout",
     "output_type": "stream",
     "text": [
      "mean f1-score: 0.56, std: 0.0179\n",
      "CPU times: user 4.32 s, sys: 0 ns, total: 4.32 s\n",
      "Wall time: 4.33 s\n"
     ]
    }
   ],
   "source": [
    "%%time\n",
    "\n",
    "print(\"mean f1-score: {cv mean}, std: {std}\".format(\n",
    "    **get_cv_scores(forest_model, features_train, target_train)))"
   ]
  },
  {
   "cell_type": "markdown",
   "metadata": {},
   "source": [
    "Оценим эффективность модели на тестовой выборке."
   ]
  },
  {
   "cell_type": "code",
   "execution_count": 79,
   "metadata": {},
   "outputs": [
    {
     "name": "stdout",
     "output_type": "stream",
     "text": [
      "F1 = 0.59, AUC = 0.85\n",
      "CPU times: user 1.14 s, sys: 1.65 ms, total: 1.14 s\n",
      "Wall time: 1.16 s\n"
     ]
    }
   ],
   "source": [
    "%%time\n",
    "\n",
    "forest_model.fit(features_train, target_train)\n",
    "forest_predictions = forest_model.predict(features_test)\n",
    "forest_probas = forest_model.predict_proba(features_test)\n",
    "auc_roc = roc_auc_score(target_test, forest_probas[:, 1])\n",
    "\n",
    "print(\"F1 = {:.2f}, AUC = {:.2f}\".format(\n",
    "    f1_score(target_test, forest_predictions), auc_roc))"
   ]
  },
  {
   "cell_type": "code",
   "execution_count": 80,
   "metadata": {},
   "outputs": [
    {
     "data": {
      "image/png": "[encoded data removed]",
      "text/plain": [
       "<Figure size 1152x432 with 2 Axes>"
      ]
     },
     "metadata": {},
     "output_type": "display_data"
    }
   ],
   "source": [
    "# матрица ошибок по предсказанию несбалансированной модели\n",
    "plt.figure(figsize=(16, 6))\n",
    "plt.subplot(1, 2, 2)\n",
    "cnf_matrix_valid = confusion_matrix(target_test, forest_predictions)\n",
    "plot_confusion_matrix(cnf_matrix_valid, classes=['0', '1'])\n",
    "\n",
    "plt.show()"
   ]
  },
  {
   "cell_type": "markdown",
   "metadata": {},
   "source": [
    "Подберем гиперпараметры и сбалансируем модель."
   ]
  },
  {
   "cell_type": "code",
   "execution_count": 81,
   "metadata": {},
   "outputs": [
    {
     "name": "stdout",
     "output_type": "stream",
     "text": [
      "{'n_estimators': [100, 150, 200], 'max_depth': [3, 5, 7, 9, 12], 'criterion': ['gini', 'entropy'], 'min_samples_split': [2, 5, 10], 'min_samples_leaf': [1, 2, 4], 'bootstrap': [True, False], 'class_weight': ['balanced', 'balanced_subsample', None]}\n"
     ]
    }
   ],
   "source": [
    "n_estimators = [int(x) for x in np.linspace(start=100, stop=200, num=3)]\n",
    "max_depth = [int(x) for x in np.linspace(start=3, stop=12, num=5)]\n",
    "criterion = ['gini', 'entropy']\n",
    "min_samples_split = [2, 5, 10]\n",
    "min_samples_leaf = [1, 2, 4]\n",
    "bootstrap = [True, False]\n",
    "class_weight = ['balanced', 'balanced_subsample', None]\n",
    "\n",
    "forest_grid = {'n_estimators': n_estimators,\n",
    "               'max_depth': max_depth,\n",
    "               'criterion': criterion,\n",
    "               'min_samples_split': min_samples_split,\n",
    "               'min_samples_leaf': min_samples_leaf,\n",
    "               'bootstrap': bootstrap,\n",
    "               'class_weight': class_weight\n",
    "              }\n",
    "\n",
    "\n",
    "print(forest_grid)"
   ]
  },
  {
   "cell_type": "code",
   "execution_count": 82,
   "metadata": {},
   "outputs": [],
   "source": [
    "forest_test_model = RandomForestClassifier(random_state=351)"
   ]
  },
  {
   "cell_type": "code",
   "execution_count": 83,
   "metadata": {},
   "outputs": [
    {
     "name": "stdout",
     "output_type": "stream",
     "text": [
      "Fitting 5 folds for each of 10 candidates, totalling 50 fits\n",
      "[CV] n_estimators=150, min_samples_split=5, min_samples_leaf=4, max_depth=5, criterion=entropy, class_weight=None, bootstrap=False \n"
     ]
    },
    {
     "name": "stderr",
     "output_type": "stream",
     "text": [
      "[Parallel(n_jobs=-1)]: Using backend SequentialBackend with 1 concurrent workers.\n"
     ]
    },
    {
     "name": "stdout",
     "output_type": "stream",
     "text": [
      "[CV]  n_estimators=150, min_samples_split=5, min_samples_leaf=4, max_depth=5, criterion=entropy, class_weight=None, bootstrap=False, total=   0.9s\n",
      "[CV] n_estimators=150, min_samples_split=5, min_samples_leaf=4, max_depth=5, criterion=entropy, class_weight=None, bootstrap=False \n"
     ]
    },
    {
     "name": "stderr",
     "output_type": "stream",
     "text": [
      "[Parallel(n_jobs=-1)]: Done   1 out of   1 | elapsed:    0.9s remaining:    0.0s\n"
     ]
    },
    {
     "name": "stdout",
     "output_type": "stream",
     "text": [
      "[CV]  n_estimators=150, min_samples_split=5, min_samples_leaf=4, max_depth=5, criterion=entropy, class_weight=None, bootstrap=False, total=   0.9s\n",
      "[CV] n_estimators=150, min_samples_split=5, min_samples_leaf=4, max_depth=5, criterion=entropy, class_weight=None, bootstrap=False \n",
      "[CV]  n_estimators=150, min_samples_split=5, min_samples_leaf=4, max_depth=5, criterion=entropy, class_weight=None, bootstrap=False, total=   0.9s\n",
      "[CV] n_estimators=150, min_samples_split=5, min_samples_leaf=4, max_depth=5, criterion=entropy, class_weight=None, bootstrap=False \n",
      "[CV]  n_estimators=150, min_samples_split=5, min_samples_leaf=4, max_depth=5, criterion=entropy, class_weight=None, bootstrap=False, total=   0.9s\n",
      "[CV] n_estimators=150, min_samples_split=5, min_samples_leaf=4, max_depth=5, criterion=entropy, class_weight=None, bootstrap=False \n",
      "[CV]  n_estimators=150, min_samples_split=5, min_samples_leaf=4, max_depth=5, criterion=entropy, class_weight=None, bootstrap=False, total=   0.9s\n",
      "[CV] n_estimators=100, min_samples_split=5, min_samples_leaf=2, max_depth=5, criterion=gini, class_weight=None, bootstrap=False \n",
      "[CV]  n_estimators=100, min_samples_split=5, min_samples_leaf=2, max_depth=5, criterion=gini, class_weight=None, bootstrap=False, total=   0.6s\n",
      "[CV] n_estimators=100, min_samples_split=5, min_samples_leaf=2, max_depth=5, criterion=gini, class_weight=None, bootstrap=False \n",
      "[CV]  n_estimators=100, min_samples_split=5, min_samples_leaf=2, max_depth=5, criterion=gini, class_weight=None, bootstrap=False, total=   0.6s\n",
      "[CV] n_estimators=100, min_samples_split=5, min_samples_leaf=2, max_depth=5, criterion=gini, class_weight=None, bootstrap=False \n",
      "[CV]  n_estimators=100, min_samples_split=5, min_samples_leaf=2, max_depth=5, criterion=gini, class_weight=None, bootstrap=False, total=   0.6s\n",
      "[CV] n_estimators=100, min_samples_split=5, min_samples_leaf=2, max_depth=5, criterion=gini, class_weight=None, bootstrap=False \n",
      "[CV]  n_estimators=100, min_samples_split=5, min_samples_leaf=2, max_depth=5, criterion=gini, class_weight=None, bootstrap=False, total=   0.6s\n",
      "[CV] n_estimators=100, min_samples_split=5, min_samples_leaf=2, max_depth=5, criterion=gini, class_weight=None, bootstrap=False \n",
      "[CV]  n_estimators=100, min_samples_split=5, min_samples_leaf=2, max_depth=5, criterion=gini, class_weight=None, bootstrap=False, total=   0.6s\n",
      "[CV] n_estimators=200, min_samples_split=2, min_samples_leaf=1, max_depth=7, criterion=gini, class_weight=None, bootstrap=False \n",
      "[CV]  n_estimators=200, min_samples_split=2, min_samples_leaf=1, max_depth=7, criterion=gini, class_weight=None, bootstrap=False, total=   1.4s\n",
      "[CV] n_estimators=200, min_samples_split=2, min_samples_leaf=1, max_depth=7, criterion=gini, class_weight=None, bootstrap=False \n",
      "[CV]  n_estimators=200, min_samples_split=2, min_samples_leaf=1, max_depth=7, criterion=gini, class_weight=None, bootstrap=False, total=   1.5s\n",
      "[CV] n_estimators=200, min_samples_split=2, min_samples_leaf=1, max_depth=7, criterion=gini, class_weight=None, bootstrap=False \n",
      "[CV]  n_estimators=200, min_samples_split=2, min_samples_leaf=1, max_depth=7, criterion=gini, class_weight=None, bootstrap=False, total=   1.4s\n",
      "[CV] n_estimators=200, min_samples_split=2, min_samples_leaf=1, max_depth=7, criterion=gini, class_weight=None, bootstrap=False \n",
      "[CV]  n_estimators=200, min_samples_split=2, min_samples_leaf=1, max_depth=7, criterion=gini, class_weight=None, bootstrap=False, total=   1.4s\n",
      "[CV] n_estimators=200, min_samples_split=2, min_samples_leaf=1, max_depth=7, criterion=gini, class_weight=None, bootstrap=False \n",
      "[CV]  n_estimators=200, min_samples_split=2, min_samples_leaf=1, max_depth=7, criterion=gini, class_weight=None, bootstrap=False, total=   1.4s\n",
      "[CV] n_estimators=200, min_samples_split=5, min_samples_leaf=4, max_depth=12, criterion=entropy, class_weight=balanced_subsample, bootstrap=False \n",
      "[CV]  n_estimators=200, min_samples_split=5, min_samples_leaf=4, max_depth=12, criterion=entropy, class_weight=balanced_subsample, bootstrap=False, total=   2.3s\n",
      "[CV] n_estimators=200, min_samples_split=5, min_samples_leaf=4, max_depth=12, criterion=entropy, class_weight=balanced_subsample, bootstrap=False \n",
      "[CV]  n_estimators=200, min_samples_split=5, min_samples_leaf=4, max_depth=12, criterion=entropy, class_weight=balanced_subsample, bootstrap=False, total=   2.4s\n",
      "[CV] n_estimators=200, min_samples_split=5, min_samples_leaf=4, max_depth=12, criterion=entropy, class_weight=balanced_subsample, bootstrap=False \n",
      "[CV]  n_estimators=200, min_samples_split=5, min_samples_leaf=4, max_depth=12, criterion=entropy, class_weight=balanced_subsample, bootstrap=False, total=   2.3s\n",
      "[CV] n_estimators=200, min_samples_split=5, min_samples_leaf=4, max_depth=12, criterion=entropy, class_weight=balanced_subsample, bootstrap=False \n",
      "[CV]  n_estimators=200, min_samples_split=5, min_samples_leaf=4, max_depth=12, criterion=entropy, class_weight=balanced_subsample, bootstrap=False, total=   2.3s\n",
      "[CV] n_estimators=200, min_samples_split=5, min_samples_leaf=4, max_depth=12, criterion=entropy, class_weight=balanced_subsample, bootstrap=False \n",
      "[CV]  n_estimators=200, min_samples_split=5, min_samples_leaf=4, max_depth=12, criterion=entropy, class_weight=balanced_subsample, bootstrap=False, total=   2.3s\n",
      "[CV] n_estimators=100, min_samples_split=10, min_samples_leaf=2, max_depth=5, criterion=gini, class_weight=balanced_subsample, bootstrap=False \n",
      "[CV]  n_estimators=100, min_samples_split=10, min_samples_leaf=2, max_depth=5, criterion=gini, class_weight=balanced_subsample, bootstrap=False, total=   0.6s\n",
      "[CV] n_estimators=100, min_samples_split=10, min_samples_leaf=2, max_depth=5, criterion=gini, class_weight=balanced_subsample, bootstrap=False \n",
      "[CV]  n_estimators=100, min_samples_split=10, min_samples_leaf=2, max_depth=5, criterion=gini, class_weight=balanced_subsample, bootstrap=False, total=   0.6s\n",
      "[CV] n_estimators=100, min_samples_split=10, min_samples_leaf=2, max_depth=5, criterion=gini, class_weight=balanced_subsample, bootstrap=False \n",
      "[CV]  n_estimators=100, min_samples_split=10, min_samples_leaf=2, max_depth=5, criterion=gini, class_weight=balanced_subsample, bootstrap=False, total=   0.6s\n",
      "[CV] n_estimators=100, min_samples_split=10, min_samples_leaf=2, max_depth=5, criterion=gini, class_weight=balanced_subsample, bootstrap=False \n",
      "[CV]  n_estimators=100, min_samples_split=10, min_samples_leaf=2, max_depth=5, criterion=gini, class_weight=balanced_subsample, bootstrap=False, total=   0.6s\n",
      "[CV] n_estimators=100, min_samples_split=10, min_samples_leaf=2, max_depth=5, criterion=gini, class_weight=balanced_subsample, bootstrap=False \n",
      "[CV]  n_estimators=100, min_samples_split=10, min_samples_leaf=2, max_depth=5, criterion=gini, class_weight=balanced_subsample, bootstrap=False, total=   0.6s\n",
      "[CV] n_estimators=100, min_samples_split=10, min_samples_leaf=2, max_depth=9, criterion=entropy, class_weight=balanced, bootstrap=False \n",
      "[CV]  n_estimators=100, min_samples_split=10, min_samples_leaf=2, max_depth=9, criterion=entropy, class_weight=balanced, bootstrap=False, total=   1.0s\n",
      "[CV] n_estimators=100, min_samples_split=10, min_samples_leaf=2, max_depth=9, criterion=entropy, class_weight=balanced, bootstrap=False \n",
      "[CV]  n_estimators=100, min_samples_split=10, min_samples_leaf=2, max_depth=9, criterion=entropy, class_weight=balanced, bootstrap=False, total=   1.0s\n",
      "[CV] n_estimators=100, min_samples_split=10, min_samples_leaf=2, max_depth=9, criterion=entropy, class_weight=balanced, bootstrap=False \n",
      "[CV]  n_estimators=100, min_samples_split=10, min_samples_leaf=2, max_depth=9, criterion=entropy, class_weight=balanced, bootstrap=False, total=   1.0s\n",
      "[CV] n_estimators=100, min_samples_split=10, min_samples_leaf=2, max_depth=9, criterion=entropy, class_weight=balanced, bootstrap=False \n",
      "[CV]  n_estimators=100, min_samples_split=10, min_samples_leaf=2, max_depth=9, criterion=entropy, class_weight=balanced, bootstrap=False, total=   1.0s\n",
      "[CV] n_estimators=100, min_samples_split=10, min_samples_leaf=2, max_depth=9, criterion=entropy, class_weight=balanced, bootstrap=False \n",
      "[CV]  n_estimators=100, min_samples_split=10, min_samples_leaf=2, max_depth=9, criterion=entropy, class_weight=balanced, bootstrap=False, total=   1.0s\n",
      "[CV] n_estimators=200, min_samples_split=10, min_samples_leaf=4, max_depth=12, criterion=entropy, class_weight=None, bootstrap=False \n",
      "[CV]  n_estimators=200, min_samples_split=10, min_samples_leaf=4, max_depth=12, criterion=entropy, class_weight=None, bootstrap=False, total=   2.2s\n",
      "[CV] n_estimators=200, min_samples_split=10, min_samples_leaf=4, max_depth=12, criterion=entropy, class_weight=None, bootstrap=False \n",
      "[CV]  n_estimators=200, min_samples_split=10, min_samples_leaf=4, max_depth=12, criterion=entropy, class_weight=None, bootstrap=False, total=   2.2s\n",
      "[CV] n_estimators=200, min_samples_split=10, min_samples_leaf=4, max_depth=12, criterion=entropy, class_weight=None, bootstrap=False \n",
      "[CV]  n_estimators=200, min_samples_split=10, min_samples_leaf=4, max_depth=12, criterion=entropy, class_weight=None, bootstrap=False, total=   2.2s\n",
      "[CV] n_estimators=200, min_samples_split=10, min_samples_leaf=4, max_depth=12, criterion=entropy, class_weight=None, bootstrap=False \n",
      "[CV]  n_estimators=200, min_samples_split=10, min_samples_leaf=4, max_depth=12, criterion=entropy, class_weight=None, bootstrap=False, total=   2.2s\n",
      "[CV] n_estimators=200, min_samples_split=10, min_samples_leaf=4, max_depth=12, criterion=entropy, class_weight=None, bootstrap=False \n",
      "[CV]  n_estimators=200, min_samples_split=10, min_samples_leaf=4, max_depth=12, criterion=entropy, class_weight=None, bootstrap=False, total=   2.5s\n",
      "[CV] n_estimators=150, min_samples_split=10, min_samples_leaf=4, max_depth=9, criterion=gini, class_weight=balanced, bootstrap=True \n",
      "[CV]  n_estimators=150, min_samples_split=10, min_samples_leaf=4, max_depth=9, criterion=gini, class_weight=balanced, bootstrap=True, total=   1.0s\n",
      "[CV] n_estimators=150, min_samples_split=10, min_samples_leaf=4, max_depth=9, criterion=gini, class_weight=balanced, bootstrap=True \n",
      "[CV]  n_estimators=150, min_samples_split=10, min_samples_leaf=4, max_depth=9, criterion=gini, class_weight=balanced, bootstrap=True, total=   1.0s\n",
      "[CV] n_estimators=150, min_samples_split=10, min_samples_leaf=4, max_depth=9, criterion=gini, class_weight=balanced, bootstrap=True \n",
      "[CV]  n_estimators=150, min_samples_split=10, min_samples_leaf=4, max_depth=9, criterion=gini, class_weight=balanced, bootstrap=True, total=   1.0s\n",
      "[CV] n_estimators=150, min_samples_split=10, min_samples_leaf=4, max_depth=9, criterion=gini, class_weight=balanced, bootstrap=True \n",
      "[CV]  n_estimators=150, min_samples_split=10, min_samples_leaf=4, max_depth=9, criterion=gini, class_weight=balanced, bootstrap=True, total=   1.0s\n",
      "[CV] n_estimators=150, min_samples_split=10, min_samples_leaf=4, max_depth=9, criterion=gini, class_weight=balanced, bootstrap=True \n",
      "[CV]  n_estimators=150, min_samples_split=10, min_samples_leaf=4, max_depth=9, criterion=gini, class_weight=balanced, bootstrap=True, total=   1.0s\n",
      "[CV] n_estimators=150, min_samples_split=5, min_samples_leaf=2, max_depth=7, criterion=gini, class_weight=balanced_subsample, bootstrap=False \n",
      "[CV]  n_estimators=150, min_samples_split=5, min_samples_leaf=2, max_depth=7, criterion=gini, class_weight=balanced_subsample, bootstrap=False, total=   1.1s\n",
      "[CV] n_estimators=150, min_samples_split=5, min_samples_leaf=2, max_depth=7, criterion=gini, class_weight=balanced_subsample, bootstrap=False \n",
      "[CV]  n_estimators=150, min_samples_split=5, min_samples_leaf=2, max_depth=7, criterion=gini, class_weight=balanced_subsample, bootstrap=False, total=   1.1s\n",
      "[CV] n_estimators=150, min_samples_split=5, min_samples_leaf=2, max_depth=7, criterion=gini, class_weight=balanced_subsample, bootstrap=False \n",
      "[CV]  n_estimators=150, min_samples_split=5, min_samples_leaf=2, max_depth=7, criterion=gini, class_weight=balanced_subsample, bootstrap=False, total=   1.1s\n",
      "[CV] n_estimators=150, min_samples_split=5, min_samples_leaf=2, max_depth=7, criterion=gini, class_weight=balanced_subsample, bootstrap=False \n",
      "[CV]  n_estimators=150, min_samples_split=5, min_samples_leaf=2, max_depth=7, criterion=gini, class_weight=balanced_subsample, bootstrap=False, total=   1.2s\n",
      "[CV] n_estimators=150, min_samples_split=5, min_samples_leaf=2, max_depth=7, criterion=gini, class_weight=balanced_subsample, bootstrap=False \n",
      "[CV]  n_estimators=150, min_samples_split=5, min_samples_leaf=2, max_depth=7, criterion=gini, class_weight=balanced_subsample, bootstrap=False, total=   1.1s\n",
      "[CV] n_estimators=100, min_samples_split=2, min_samples_leaf=1, max_depth=12, criterion=entropy, class_weight=None, bootstrap=False \n",
      "[CV]  n_estimators=100, min_samples_split=2, min_samples_leaf=1, max_depth=12, criterion=entropy, class_weight=None, bootstrap=False, total=   1.2s\n",
      "[CV] n_estimators=100, min_samples_split=2, min_samples_leaf=1, max_depth=12, criterion=entropy, class_weight=None, bootstrap=False \n",
      "[CV]  n_estimators=100, min_samples_split=2, min_samples_leaf=1, max_depth=12, criterion=entropy, class_weight=None, bootstrap=False, total=   1.2s\n",
      "[CV] n_estimators=100, min_samples_split=2, min_samples_leaf=1, max_depth=12, criterion=entropy, class_weight=None, bootstrap=False \n",
      "[CV]  n_estimators=100, min_samples_split=2, min_samples_leaf=1, max_depth=12, criterion=entropy, class_weight=None, bootstrap=False, total=   1.1s\n",
      "[CV] n_estimators=100, min_samples_split=2, min_samples_leaf=1, max_depth=12, criterion=entropy, class_weight=None, bootstrap=False \n",
      "[CV]  n_estimators=100, min_samples_split=2, min_samples_leaf=1, max_depth=12, criterion=entropy, class_weight=None, bootstrap=False, total=   1.2s\n",
      "[CV] n_estimators=100, min_samples_split=2, min_samples_leaf=1, max_depth=12, criterion=entropy, class_weight=None, bootstrap=False \n",
      "[CV]  n_estimators=100, min_samples_split=2, min_samples_leaf=1, max_depth=12, criterion=entropy, class_weight=None, bootstrap=False, total=   1.2s\n"
     ]
    },
    {
     "name": "stderr",
     "output_type": "stream",
     "text": [
      "[Parallel(n_jobs=-1)]: Done  50 out of  50 | elapsed:  1.0min finished\n"
     ]
    },
    {
     "data": {
      "text/plain": [
       "RandomizedSearchCV(estimator=RandomForestClassifier(random_state=351),\n",
       "                   n_jobs=-1,\n",
       "                   param_distributions={'bootstrap': [True, False],\n",
       "                                        'class_weight': ['balanced',\n",
       "                                                         'balanced_subsample',\n",
       "                                                         None],\n",
       "                                        'criterion': ['gini', 'entropy'],\n",
       "                                        'max_depth': [3, 5, 7, 9, 12],\n",
       "                                        'min_samples_leaf': [1, 2, 4],\n",
       "                                        'min_samples_split': [2, 5, 10],\n",
       "                                        'n_estimators': [100, 150, 200]},\n",
       "                   random_state=123, refit='f1', scoring='f1', verbose=2)"
      ]
     },
     "execution_count": 83,
     "metadata": {},
     "output_type": "execute_result"
    }
   ],
   "source": [
    "forest_random = RandomizedSearchCV(estimator=forest_test_model, scoring='f1',\n",
    "                                   param_distributions=forest_grid, verbose=2,\n",
    "                                   refit='f1', random_state=123, n_jobs=-1)\n",
    "\n",
    "forest_random.fit(features_train, target_train)"
   ]
  },
  {
   "cell_type": "code",
   "execution_count": 84,
   "metadata": {},
   "outputs": [
    {
     "name": "stdout",
     "output_type": "stream",
     "text": [
      "best cv f1-score:  0.61\n"
     ]
    }
   ],
   "source": [
    "print(\"best cv f1-score: \", round(forest_random.best_score_, 2))"
   ]
  },
  {
   "cell_type": "code",
   "execution_count": 85,
   "metadata": {},
   "outputs": [
    {
     "name": "stdout",
     "output_type": "stream",
     "text": [
      "best params:\n"
     ]
    },
    {
     "data": {
      "text/plain": [
       "{'n_estimators': 150,\n",
       " 'min_samples_split': 10,\n",
       " 'min_samples_leaf': 4,\n",
       " 'max_depth': 9,\n",
       " 'criterion': 'gini',\n",
       " 'class_weight': 'balanced',\n",
       " 'bootstrap': True}"
      ]
     },
     "execution_count": 85,
     "metadata": {},
     "output_type": "execute_result"
    }
   ],
   "source": [
    "print(\"best params:\")\n",
    "forest_random.best_params_"
   ]
  },
  {
   "cell_type": "markdown",
   "metadata": {},
   "source": [
    "Оценим эффективность модели на тестовой выборке."
   ]
  },
  {
   "cell_type": "code",
   "execution_count": 86,
   "metadata": {},
   "outputs": [
    {
     "name": "stdout",
     "output_type": "stream",
     "text": [
      "F1 = 0.63, AUC = 0.86\n",
      "CPU times: user 1.3 s, sys: 6.51 ms, total: 1.3 s\n",
      "Wall time: 1.33 s\n"
     ]
    }
   ],
   "source": [
    "%%time\n",
    "\n",
    "forest_balance_model = RandomForestClassifier(random_state=325, **forest_random.best_params_\n",
    "                                             ).fit(features_train, target_train)\n",
    "forest_balance_predictions = forest_balance_model.predict(features_test)\n",
    "forest_balance_probas = forest_balance_model.predict_proba(features_test)\n",
    "auc_roc = roc_auc_score(target_test, forest_balance_probas[:, 1])\n",
    "\n",
    "print(\"F1 = {:.2f}, AUC = {:.2f}\".format(\n",
    "    f1_score(target_test, forest_balance_predictions), auc_roc))"
   ]
  },
  {
   "cell_type": "code",
   "execution_count": 87,
   "metadata": {},
   "outputs": [
    {
     "data": {
      "image/png": "[encoded data removed]",
      "text/plain": [
       "<Figure size 1152x432 with 2 Axes>"
      ]
     },
     "metadata": {},
     "output_type": "display_data"
    }
   ],
   "source": [
    "plt.figure(figsize=(16, 6))\n",
    "plt.subplot(1, 2, 2)\n",
    "cnf_matrix_valid = confusion_matrix(target_test, forest_balance_predictions)\n",
    "plot_confusion_matrix(cnf_matrix_valid, classes=['0', '1'])\n",
    "\n",
    "plt.show()"
   ]
  },
  {
   "cell_type": "markdown",
   "metadata": {},
   "source": [
    "**Оверсемплинг:**"
   ]
  },
  {
   "cell_type": "code",
   "execution_count": 88,
   "metadata": {},
   "outputs": [
    {
     "name": "stdout",
     "output_type": "stream",
     "text": [
      "best cv f1-score:  0.64\n",
      "CPU times: user 7.29 s, sys: 7.84 ms, total: 7.3 s\n",
      "Wall time: 7.42 s\n"
     ]
    }
   ],
   "source": [
    "%%time\n",
    "\n",
    "forest_oversample_pipeline = make_pipeline(RandomOverSampler(random_state=123), \n",
    "                                           RandomForestClassifier(n_estimators=150,\n",
    "                                                                  min_samples_split=10,\n",
    "                                                                  min_samples_leaf=4,\n",
    "                                                                  max_depth=9,\n",
    "                                                                  criterion='gini',\n",
    "                                                                  bootstrap=True,\n",
    "                                                                  n_jobs=-1,\n",
    "                                                                  random_state=111)\n",
    "                                        )\n",
    "\n",
    "forest_oversample_score = cross_validate(forest_oversample_pipeline, features_train,\n",
    "                                         target_train, scoring='f1', cv=5)\n",
    "\n",
    "print(\"best cv f1-score: \", round(forest_oversample_score['test_score'].max(), 2))"
   ]
  },
  {
   "cell_type": "markdown",
   "metadata": {},
   "source": [
    "Оценим эффективность модели на тестовой выборке."
   ]
  },
  {
   "cell_type": "code",
   "execution_count": 89,
   "metadata": {},
   "outputs": [
    {
     "name": "stdout",
     "output_type": "stream",
     "text": [
      "F1 = 0.61, AUC = 0.86\n",
      "CPU times: user 1.93 s, sys: 6.44 ms, total: 1.93 s\n",
      "Wall time: 1.95 s\n"
     ]
    }
   ],
   "source": [
    "%%time\n",
    "\n",
    "forest_oversample_predicted = forest_oversample_pipeline.fit(features_train, target_train\n",
    "                                                            ).predict(features_test)\n",
    "forest_oversample_probas = forest_oversample_pipeline.predict_proba(features_test)\n",
    "auc_roc = roc_auc_score(target_test, forest_oversample_probas[:, 1])\n",
    "\n",
    "print(\"F1 = {:.2f}, AUC = {:.2f}\".format(\n",
    "    round(f1_score(target_test, forest_oversample_predicted), 2), auc_roc))"
   ]
  },
  {
   "cell_type": "code",
   "execution_count": 90,
   "metadata": {},
   "outputs": [
    {
     "data": {
      "image/png": "[encoded data removed]",
      "text/plain": [
       "<Figure size 1152x432 with 2 Axes>"
      ]
     },
     "metadata": {},
     "output_type": "display_data"
    }
   ],
   "source": [
    "plt.figure(figsize=(16, 6))\n",
    "plt.subplot(1, 2, 2)\n",
    "cnf_matrix_valid = confusion_matrix(target_test, forest_oversample_predicted)\n",
    "plot_confusion_matrix(cnf_matrix_valid, classes=['0', '1'])\n",
    "\n",
    "plt.show()"
   ]
  },
  {
   "cell_type": "markdown",
   "metadata": {},
   "source": [
    "**Андерсемплинг:**"
   ]
  },
  {
   "cell_type": "code",
   "execution_count": 91,
   "metadata": {},
   "outputs": [
    {
     "name": "stdout",
     "output_type": "stream",
     "text": [
      "best cv f1-score:  0.62\n",
      "CPU times: user 3.07 s, sys: 4.78 ms, total: 3.07 s\n",
      "Wall time: 3.09 s\n"
     ]
    }
   ],
   "source": [
    "%%time\n",
    "\n",
    "forest_undersample_pipeline = make_pipeline(RandomUnderSampler(random_state=133),\n",
    "                                            RandomForestClassifier(n_estimators=150,\n",
    "                                                                   min_samples_split=10,\n",
    "                                                                   min_samples_leaf=4,\n",
    "                                                                   max_depth=9,\n",
    "                                                                   criterion='gini',\n",
    "                                                                   bootstrap=True,\n",
    "                                                                   n_jobs=-1,\n",
    "                                                                   random_state=311)\n",
    "                                         )\n",
    "\n",
    "forest_undersample_score = cross_validate(forest_undersample_pipeline, features_train,\n",
    "                                          target_train, scoring='f1', cv=5)\n",
    "\n",
    "print(\"best cv f1-score: \", round(forest_undersample_score['test_score'].max(), 2))"
   ]
  },
  {
   "cell_type": "markdown",
   "metadata": {},
   "source": [
    "Оценим эффективность модели на тестовой выборке."
   ]
  },
  {
   "cell_type": "code",
   "execution_count": 92,
   "metadata": {},
   "outputs": [
    {
     "name": "stdout",
     "output_type": "stream",
     "text": [
      "F1 = 0.60, AUC = 0.86\n",
      "CPU times: user 774 ms, sys: 3.37 ms, total: 777 ms\n",
      "Wall time: 795 ms\n"
     ]
    }
   ],
   "source": [
    "%%time\n",
    "\n",
    "forest_undersample_predicted = forest_undersample_pipeline.fit(features_train, target_train\n",
    "                                                              ).predict(features_test)\n",
    "forest_undersample_probas = forest_undersample_pipeline.predict_proba(features_test)\n",
    "auc_roc = roc_auc_score(target_test, forest_undersample_probas[:, 1])\n",
    "\n",
    "print(\"F1 = {:.2f}, AUC = {:.2f}\".format(\n",
    "    round(f1_score(target_test, forest_undersample_predicted), 2), auc_roc))"
   ]
  },
  {
   "cell_type": "code",
   "execution_count": 93,
   "metadata": {},
   "outputs": [
    {
     "data": {
      "image/png": "[encoded data removed]",
      "text/plain": [
       "<Figure size 1152x432 with 2 Axes>"
      ]
     },
     "metadata": {},
     "output_type": "display_data"
    }
   ],
   "source": [
    "plt.figure(figsize=(16, 6))\n",
    "plt.subplot(1, 2, 2)\n",
    "cnf_matrix_valid = confusion_matrix(target_test, forest_undersample_predicted)\n",
    "plot_confusion_matrix(cnf_matrix_valid, classes=['0', '1'])\n",
    "\n",
    "plt.show()"
   ]
  },
  {
   "cell_type": "markdown",
   "metadata": {},
   "source": [
    "Соберем таблицу с результатами обученных моделей."
   ]
  },
  {
   "cell_type": "code",
   "execution_count": 94,
   "metadata": {},
   "outputs": [
    {
     "data": {
      "text/html": [
       "<div>\n",
       "<style scoped>\n",
       "    .dataframe tbody tr th:only-of-type {\n",
       "        vertical-align: middle;\n",
       "    }\n",
       "\n",
       "    .dataframe tbody tr th {\n",
       "        vertical-align: top;\n",
       "    }\n",
       "\n",
       "    .dataframe thead th {\n",
       "        text-align: right;\n",
       "    }\n",
       "</style>\n",
       "<table border=\"1\" class=\"dataframe\">\n",
       "  <thead>\n",
       "    <tr style=\"text-align: right;\">\n",
       "      <th></th>\n",
       "      <th>Forest Classifier</th>\n",
       "      <th>Forest Classifier (balanced)</th>\n",
       "      <th>Forest Classifier (oversampling)</th>\n",
       "      <th>Forest Classifier (undersampling)</th>\n",
       "      <th>Forest Classifier (feature selection)</th>\n",
       "    </tr>\n",
       "  </thead>\n",
       "  <tbody>\n",
       "    <tr>\n",
       "      <td>F1-value</td>\n",
       "      <td>0.59</td>\n",
       "      <td>0.63</td>\n",
       "      <td>0.61</td>\n",
       "      <td>0.6</td>\n",
       "      <td>-</td>\n",
       "    </tr>\n",
       "  </tbody>\n",
       "</table>\n",
       "</div>"
      ],
      "text/plain": [
       "          Forest Classifier  Forest Classifier (balanced)  \\\n",
       "F1-value               0.59                          0.63   \n",
       "\n",
       "          Forest Classifier (oversampling)  Forest Classifier (undersampling)  \\\n",
       "F1-value                              0.61                                0.6   \n",
       "\n",
       "         Forest Classifier (feature selection)  \n",
       "F1-value                                     -  "
      ]
     },
     "execution_count": 94,
     "metadata": {},
     "output_type": "execute_result"
    }
   ],
   "source": [
    "forest_result = pd.DataFrame(data={\n",
    "    'Forest Classifier':  round(f1_score(target_test, forest_predictions), 2),\n",
    "    'Forest Classifier (balanced)': round(f1_score(target_test, forest_balance_predictions), 2),\n",
    "    'Forest Classifier (oversampling)': round(f1_score(target_test, forest_oversample_predicted), 2),\n",
    "    'Forest Classifier (undersampling)': round(f1_score(target_test, forest_undersample_predicted), 2),\n",
    "    'Forest Classifier (feature selection)': '-',\n",
    "}, index=[\"F1-value\"]).round(2)\n",
    "\n",
    "forest_result"
   ]
  },
  {
   "cell_type": "markdown",
   "metadata": {},
   "source": [
    "Алгоритмы дерево решений и случайный лес отработали лучше. Максимальное значение F1-меры составляет 0.63. Количество ложно-положительных объектов (ложных срабатываний) удалось снизить, но, как мы уже раньше говорили, для нас это менее критично, чем малое количество истинно-положительных объектов.\n",
    "\n",
    "Сравним алгоритмы построив ROC-кривые."
   ]
  },
  {
   "cell_type": "code",
   "execution_count": 95,
   "metadata": {},
   "outputs": [
    {
     "data": {
      "image/png": "[encoded data removed]",
      "text/plain": [
       "<Figure size 720x576 with 1 Axes>"
      ]
     },
     "metadata": {},
     "output_type": "display_data"
    }
   ],
   "source": [
    "plt.figure(figsize=(10,8))\n",
    "\n",
    "# сбалансированная весами модель логистической регрессии\n",
    "fpr, tpr, thresholds = roc_curve(target_test, feature_select_probas[:, 1])\n",
    "auc_roc = roc_auc_score(target_test, oversample_probas[:, 1])\n",
    "plt.plot(fpr, tpr, label='%s ROC (area = %0.2f)' % ('best_log_model', auc_roc))\n",
    "\n",
    "# сбалансированная оверсемплингом модель дерева решений\n",
    "fpr, tpr, thresholds = roc_curve(target_test, tree_oversample_probas[:, 1])\n",
    "auc_roc = roc_auc_score(target_test, tree_balance_probas[:, 1])\n",
    "plt.plot(fpr, tpr, label='%s ROC (area = %0.2f)' % ('best_tree_model', auc_roc))\n",
    "\n",
    "# сбалансированная весами модель слуйчайного леса\n",
    "fpr, tpr, thresholds = roc_curve(target_test, forest_balance_probas[:, 1])\n",
    "auc_roc = roc_auc_score(target_test, forest_balance_probas[:, 1])\n",
    "plt.plot(fpr, tpr, label='%s ROC (area = %0.2f)' % ('best_forest_model', auc_roc))\n",
    "\n",
    "plt.plot([0, 1], [0, 1], linestyle='--')\n",
    "plt.ylim([0.0, 1.0])\n",
    "plt.xlim([0.0, 1.0])\n",
    "plt.title('ROC-кривая', pad=15)\n",
    "plt.xlabel('False Positive Rate')\n",
    "plt.ylabel('True Positive Rate')\n",
    "plt.legend(loc=0, fontsize='small')\n",
    "plt.show()"
   ]
  },
  {
   "cell_type": "markdown",
   "metadata": {},
   "source": [
    "Используя алгоритм \"случайный лес\" удалось достичь значения F1-меры в 0.63. По ROC-кривой данный алгоритм также оказался лучшим - метрика AUC-ROC составляет 0.86."
   ]
  }
 ],
 "metadata": {
  "kernelspec": {
   "display_name": "Python 3",
   "language": "python",
   "name": "python3"
  },
  "language_info": {
   "codemirror_mode": {
    "name": "ipython",
    "version": 3
   },
   "file_extension": ".py",
   "mimetype": "text/x-python",
   "name": "python",
   "nbconvert_exporter": "python",
   "pygments_lexer": "ipython3",
   "version": "3.7.4"
  }
 },
 "nbformat": 4,
 "nbformat_minor": 2
}
