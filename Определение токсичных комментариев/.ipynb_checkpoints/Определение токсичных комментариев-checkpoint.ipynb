{
 "cells": [
  {
   "cell_type": "markdown",
   "metadata": {},
   "source": [
    "# Определение токсичных комментариев"
   ]
  },
  {
   "cell_type": "markdown",
   "metadata": {},
   "source": [
    "**Описание проекта:** Обучить модель классифицировать комментарии на позитивные и негативные. Значение метрики качества *F1* должно быть не меньше 0.75.\n",
    "\n",
    "Дан набор данных с разметкой о токсичности правок."
   ]
  },
  {
   "cell_type": "code",
   "execution_count": 2,
   "metadata": {},
   "outputs": [
    {
     "name": "stderr",
     "output_type": "stream",
     "text": [
      "[nltk_data] Downloading package averaged_perceptron_tagger to\n",
      "[nltk_data]     /home/jovyan/nltk_data...\n",
      "[nltk_data]   Package averaged_perceptron_tagger is already up-to-\n",
      "[nltk_data]       date!\n",
      "[nltk_data] Downloading package stopwords to /home/jovyan/nltk_data...\n",
      "[nltk_data]   Package stopwords is already up-to-date!\n"
     ]
    }
   ],
   "source": [
    "import numpy as np\n",
    "import pandas as pd\n",
    "import warnings\n",
    "import itertools\n",
    "import matplotlib.pyplot as plt\n",
    "from tqdm import tqdm\n",
    "from IPython.display import display_html\n",
    "\n",
    "# подготовка, обучение и проверка качества модели\n",
    "from sklearn.linear_model import LogisticRegression\n",
    "from sklearn.linear_model import SGDClassifier\n",
    "from sklearn.model_selection import cross_val_score, train_test_split, RandomizedSearchCV\n",
    "from sklearn.metrics import confusion_matrix, f1_score\n",
    "from imblearn.over_sampling import RandomOverSampler\n",
    "from imblearn.under_sampling import RandomUnderSampler\n",
    "from imblearn.pipeline import Pipeline, make_pipeline\n",
    "\n",
    "# работа с текстами\n",
    "import re\n",
    "import nltk\n",
    "from nltk.corpus import stopwords, wordnet\n",
    "from nltk.stem import WordNetLemmatizer \n",
    "from sklearn.feature_extraction.text import TfidfVectorizer\n",
    "\n",
    "#nltk.download('wordnet')\n",
    "#nltk.download('punkt')\n",
    "nltk.download('averaged_perceptron_tagger')\n",
    "nltk.download('stopwords')\n",
    "\n",
    "warnings.filterwarnings('ignore')\n",
    "\n",
    "tqdm.pandas()"
   ]
  },
  {
   "cell_type": "code",
   "execution_count": 3,
   "metadata": {},
   "outputs": [],
   "source": [
    "def display_side_by_side(*args):\n",
    "    html_str=''\n",
    "    for df in args:\n",
    "        html_str+=df.to_html()\n",
    "    display_html(html_str.replace('table','table style=\"display:inline\"'), raw=True)"
   ]
  },
  {
   "cell_type": "markdown",
   "metadata": {},
   "source": [
    "# 1. Подготовка"
   ]
  },
  {
   "cell_type": "code",
   "execution_count": 4,
   "metadata": {},
   "outputs": [],
   "source": [
    "data = pd.read_csv(\"/datasets/toxic_comments.csv\")"
   ]
  },
  {
   "cell_type": "code",
   "execution_count": 5,
   "metadata": {},
   "outputs": [
    {
     "name": "stdout",
     "output_type": "stream",
     "text": [
      "<class 'pandas.core.frame.DataFrame'>\n",
      "RangeIndex: 159571 entries, 0 to 159570\n",
      "Data columns (total 2 columns):\n",
      "text     159571 non-null object\n",
      "toxic    159571 non-null int64\n",
      "dtypes: int64(1), object(1)\n",
      "memory usage: 2.4+ MB\n"
     ]
    }
   ],
   "source": [
    "data.info()"
   ]
  },
  {
   "cell_type": "markdown",
   "metadata": {},
   "source": [
    "В датасете 159571 объектов и два признака - один текстового типа, второй числового. Ознакомимся с данными."
   ]
  },
  {
   "cell_type": "code",
   "execution_count": 6,
   "metadata": {},
   "outputs": [
    {
     "data": {
      "text/html": [
       "<div>\n",
       "<style scoped>\n",
       "    .dataframe tbody tr th:only-of-type {\n",
       "        vertical-align: middle;\n",
       "    }\n",
       "\n",
       "    .dataframe tbody tr th {\n",
       "        vertical-align: top;\n",
       "    }\n",
       "\n",
       "    .dataframe thead th {\n",
       "        text-align: right;\n",
       "    }\n",
       "</style>\n",
       "<table border=\"1\" class=\"dataframe\">\n",
       "  <thead>\n",
       "    <tr style=\"text-align: right;\">\n",
       "      <th></th>\n",
       "      <th>text</th>\n",
       "      <th>toxic</th>\n",
       "    </tr>\n",
       "  </thead>\n",
       "  <tbody>\n",
       "    <tr>\n",
       "      <td>0</td>\n",
       "      <td>Explanation\\nWhy the edits made under my usern...</td>\n",
       "      <td>0</td>\n",
       "    </tr>\n",
       "    <tr>\n",
       "      <td>1</td>\n",
       "      <td>D'aww! He matches this background colour I'm s...</td>\n",
       "      <td>0</td>\n",
       "    </tr>\n",
       "    <tr>\n",
       "      <td>2</td>\n",
       "      <td>Hey man, I'm really not trying to edit war. It...</td>\n",
       "      <td>0</td>\n",
       "    </tr>\n",
       "    <tr>\n",
       "      <td>3</td>\n",
       "      <td>\"\\nMore\\nI can't make any real suggestions on ...</td>\n",
       "      <td>0</td>\n",
       "    </tr>\n",
       "    <tr>\n",
       "      <td>4</td>\n",
       "      <td>You, sir, are my hero. Any chance you remember...</td>\n",
       "      <td>0</td>\n",
       "    </tr>\n",
       "  </tbody>\n",
       "</table>\n",
       "</div>"
      ],
      "text/plain": [
       "                                                text  toxic\n",
       "0  Explanation\\nWhy the edits made under my usern...      0\n",
       "1  D'aww! He matches this background colour I'm s...      0\n",
       "2  Hey man, I'm really not trying to edit war. It...      0\n",
       "3  \"\\nMore\\nI can't make any real suggestions on ...      0\n",
       "4  You, sir, are my hero. Any chance you remember...      0"
      ]
     },
     "execution_count": 6,
     "metadata": {},
     "output_type": "execute_result"
    }
   ],
   "source": [
    "data.head()"
   ]
  },
  {
   "cell_type": "markdown",
   "metadata": {},
   "source": [
    "Первый признак 'text' содержит \"сырые\" тексты на английском языке. В текстах есть символы форматирования (например, обозначение переноса строки \\n), слова в разных регистрах. Признак 'toxic' целевой, похоже что бинарный. Изучим баланс классов в выборке."
   ]
  },
  {
   "cell_type": "code",
   "execution_count": 7,
   "metadata": {},
   "outputs": [
    {
     "data": {
      "text/plain": [
       "0    0.898321\n",
       "1    0.101679\n",
       "Name: toxic, dtype: float64"
      ]
     },
     "execution_count": 7,
     "metadata": {},
     "output_type": "execute_result"
    }
   ],
   "source": [
    "data['toxic'].value_counts() / len(data['toxic'])"
   ]
  },
  {
   "cell_type": "markdown",
   "metadata": {},
   "source": [
    "Видим, что в признаке всего два класса, значит будем решать задачу бнарной классификации. Токсичных комментариев в выборке мало - всего 10%, а значит имеет место дисбаланс классов. Есть несколько методов борьбы с дисбалансом. Например, некоторые модели могут самостоятельно перераспределять веса если это указать при настройке модели. Помимо этого можно провести апсемплинг/даунсемплинг выборки таким образом, чтобы снизить влияние дисбаланса на качество модели. Выбирать наиболее предпочтительный метод будем опираясь на ```confusion_matrix```, так как для нас важнее снизить количество ошибок при определении редкого класса.\n",
    "\n",
    "Разделим признаки на обучающий и целевой. "
   ]
  },
  {
   "cell_type": "code",
   "execution_count": 8,
   "metadata": {},
   "outputs": [],
   "source": [
    "features = data['text']\n",
    "target = data['toxic']"
   ]
  },
  {
   "cell_type": "markdown",
   "metadata": {},
   "source": [
    "Теперь займемся подготовкой признаков. Для начала попробуем преобразование через лемматизацию и вычисление TF-IDF. Для лемматизации английских текстов воспользуемся библиотекой ```nltk```. Сначала очистим тексты от символов, использовав регулярные выражения, и приведем их к одному регистру, а затем лемматизируем."
   ]
  },
  {
   "cell_type": "code",
   "execution_count": 9,
   "metadata": {},
   "outputs": [],
   "source": [
    "def cleared_text(text):\n",
    "    return \" \".join(re.sub(r'[^a-zA-Z\\']', ' ', text).split())"
   ]
  },
  {
   "cell_type": "code",
   "execution_count": 10,
   "metadata": {},
   "outputs": [],
   "source": [
    "def get_wordnet_pos(word):\n",
    "    tag = nltk.pos_tag([word])[0][1][0].upper()\n",
    "    tag_dict = {\"J\": wordnet.ADJ,\n",
    "                \"N\": wordnet.NOUN,\n",
    "                \"V\": wordnet.VERB,\n",
    "                \"R\": wordnet.ADV}\n",
    "\n",
    "    return tag_dict.get(tag, wordnet.NOUN)"
   ]
  },
  {
   "cell_type": "code",
   "execution_count": 11,
   "metadata": {},
   "outputs": [],
   "source": [
    "def lemmatize(text):\n",
    "    lemmatizer = WordNetLemmatizer()\n",
    "    clear_text = cleared_text(text).lower()\n",
    "    lemm_text = \" \".join([lemmatizer.lemmatize(x, get_wordnet_pos(x)) for x in nltk.word_tokenize(clear_text)])\n",
    "    return lemm_text"
   ]
  },
  {
   "cell_type": "markdown",
   "metadata": {},
   "source": [
    "Сохраним результат отдельным фаилом, так как лемматизация занимает немало времени и это может помешать при проверке. "
   ]
  },
  {
   "cell_type": "code",
   "execution_count": 12,
   "metadata": {},
   "outputs": [],
   "source": [
    "# features = [lemmatize(x) for x in tqdm(features)]"
   ]
  },
  {
   "cell_type": "code",
   "execution_count": 13,
   "metadata": {},
   "outputs": [],
   "source": [
    "# pd.DataFrame(data={'text': features}, index=data.index).to_csv(\"lemm_features.csv\", index=False)"
   ]
  },
  {
   "cell_type": "code",
   "execution_count": 14,
   "metadata": {},
   "outputs": [],
   "source": [
    "lemm_features = pd.read_csv(\"lemm_features.csv\")"
   ]
  },
  {
   "cell_type": "code",
   "execution_count": 15,
   "metadata": {},
   "outputs": [
    {
     "name": "stdout",
     "output_type": "stream",
     "text": [
      "<class 'pandas.core.frame.DataFrame'>\n",
      "RangeIndex: 159571 entries, 0 to 159570\n",
      "Data columns (total 1 columns):\n",
      "text    159565 non-null object\n",
      "dtypes: object(1)\n",
      "memory usage: 1.2+ MB\n"
     ]
    }
   ],
   "source": [
    "lemm_features.info()"
   ]
  },
  {
   "cell_type": "markdown",
   "metadata": {},
   "source": [
    "Возможно некоторые сообщения содержали в себе только символы, поэтому в данных появились пропуски. Удалим их."
   ]
  },
  {
   "cell_type": "code",
   "execution_count": 16,
   "metadata": {},
   "outputs": [],
   "source": [
    "lemm_features.dropna(inplace=True)"
   ]
  },
  {
   "cell_type": "markdown",
   "metadata": {},
   "source": [
    "Отфильтруем таргеты по индексам. "
   ]
  },
  {
   "cell_type": "code",
   "execution_count": 17,
   "metadata": {},
   "outputs": [],
   "source": [
    "target = target.iloc[lemm_features.index]"
   ]
  },
  {
   "cell_type": "markdown",
   "metadata": {},
   "source": [
    "Сравним текст до лемматизации и после."
   ]
  },
  {
   "cell_type": "code",
   "execution_count": 18,
   "metadata": {},
   "outputs": [
    {
     "data": {
      "text/html": [
       "<table style=\"display:inline\" border=\"1\" class=\"dataframe\">\n",
       "  <thead>\n",
       "    <tr style=\"text-align: right;\">\n",
       "      <th></th>\n",
       "      <th>text</th>\n",
       "    </tr>\n",
       "  </thead>\n",
       "  <tbody>\n",
       "    <tr>\n",
       "      <th>0</th>\n",
       "      <td>Explanation\\nWhy the edits made under my username Hardcore Metallica Fan were reverted? They weren't vandalisms, just closure on some GAs after I voted at New York Dolls FAC. And please don't remove the template from the talk page since I'm retired now.89.205.38.27</td>\n",
       "    </tr>\n",
       "    <tr>\n",
       "      <th>1</th>\n",
       "      <td>D'aww! He matches this background colour I'm seemingly stuck with. Thanks.  (talk) 21:51, January 11, 2016 (UTC)</td>\n",
       "    </tr>\n",
       "    <tr>\n",
       "      <th>2</th>\n",
       "      <td>Hey man, I'm really not trying to edit war. It's just that this guy is constantly removing relevant information and talking to me through edits instead of my talk page. He seems to care more about the formatting than the actual info.</td>\n",
       "    </tr>\n",
       "    <tr>\n",
       "      <th>3</th>\n",
       "      <td>\"\\nMore\\nI can't make any real suggestions on improvement - I wondered if the section statistics should be later on, or a subsection of \"\"types of accidents\"\"  -I think the references may need tidying so that they are all in the exact same format ie date format etc. I can do that later on, if no-one else does first - if you have any preferences for formatting style on references or want to do it yourself please let me know.\\n\\nThere appears to be a backlog on articles for review so I guess there may be a delay until a reviewer turns up. It's listed in the relevant form eg Wikipedia:Good_article_nominations#Transport  \"</td>\n",
       "    </tr>\n",
       "    <tr>\n",
       "      <th>4</th>\n",
       "      <td>You, sir, are my hero. Any chance you remember what page that's on?</td>\n",
       "    </tr>\n",
       "  </tbody>\n",
       "</table style=\"display:inline\"><table style=\"display:inline\" border=\"1\" class=\"dataframe\">\n",
       "  <thead>\n",
       "    <tr style=\"text-align: right;\">\n",
       "      <th></th>\n",
       "      <th>text</th>\n",
       "    </tr>\n",
       "  </thead>\n",
       "  <tbody>\n",
       "    <tr>\n",
       "      <th>0</th>\n",
       "      <td>explanation why the edits make under my username hardcore metallica fan be revert they be n't vandalism just closure on some gas after i vote at new york doll fac and please do n't remove the template from the talk page since i 'm retire now</td>\n",
       "    </tr>\n",
       "    <tr>\n",
       "      <th>1</th>\n",
       "      <td>d'aww he match this background colour i 'm seemingly stuck with thanks talk january utc</td>\n",
       "    </tr>\n",
       "    <tr>\n",
       "      <th>2</th>\n",
       "      <td>hey man i 'm really not try to edit war it 's just that this guy be constantly remove relevant information and talk to me through edits instead of my talk page he seem to care more about the format than the actual info</td>\n",
       "    </tr>\n",
       "    <tr>\n",
       "      <th>3</th>\n",
       "      <td>more i ca n't make any real suggestion on improvement i wonder if the section statistic should be later on or a subsection of type of accident i think the reference may need tidy so that they be all in the exact same format ie date format etc i can do that later on if no one else do first if you have any preference for format style on reference or want to do it yourself please let me know there appear to be a backlog on article for review so i guess there may be a delay until a reviewer turn up it 's list in the relevant form eg wikipedia good article nomination transport</td>\n",
       "    </tr>\n",
       "    <tr>\n",
       "      <th>4</th>\n",
       "      <td>you sir be my hero any chance you remember what page that 's on</td>\n",
       "    </tr>\n",
       "  </tbody>\n",
       "</table style=\"display:inline\">"
      ]
     },
     "metadata": {},
     "output_type": "display_data"
    }
   ],
   "source": [
    "display_side_by_side(data[['text']].head(), lemm_features.head())"
   ]
  },
  {
   "cell_type": "markdown",
   "metadata": {},
   "source": [
    "Видим, что тексты приведены к одному регистру, лишние символы исключены, слова приведены к базовой форме (например, множественное число к единственному, глаголы к начальной форме). Теперь разделим искомый датасет на две выборки - обучающую и тестовую, в пропорции 3:1. "
   ]
  },
  {
   "cell_type": "code",
   "execution_count": 19,
   "metadata": {},
   "outputs": [],
   "source": [
    "features_train, features_test, target_train, target_test = train_test_split(lemm_features,\n",
    "                                                                            target,\n",
    "                                                                            test_size=0.25,\n",
    "                                                                            stratify=target,\n",
    "                                                                            random_state=88)"
   ]
  },
  {
   "cell_type": "markdown",
   "metadata": {},
   "source": [
    "Следующим шагом вычислим TF-IDF для полученных текстов. Не будем учитывать стоп-слова."
   ]
  },
  {
   "cell_type": "code",
   "execution_count": 20,
   "metadata": {},
   "outputs": [],
   "source": [
    "stop_words = set(stopwords.words('english'))"
   ]
  },
  {
   "cell_type": "code",
   "execution_count": 21,
   "metadata": {},
   "outputs": [],
   "source": [
    "count_tf_idf = TfidfVectorizer(stop_words=stop_words, min_df=0.001)"
   ]
  },
  {
   "cell_type": "code",
   "execution_count": 22,
   "metadata": {},
   "outputs": [],
   "source": [
    "tf_idf_train = count_tf_idf.fit_transform(features_train['text'])"
   ]
  },
  {
   "cell_type": "code",
   "execution_count": 23,
   "metadata": {},
   "outputs": [],
   "source": [
    "tf_idf_test = count_tf_idf.transform(features_test['text'])"
   ]
  },
  {
   "cell_type": "code",
   "execution_count": 24,
   "metadata": {},
   "outputs": [
    {
     "name": "stdout",
     "output_type": "stream",
     "text": [
      "Размер обучающей матрицы признаков:  (119673, 3046)\n",
      "Размер тестовой матрицы признаков:  (39892, 3046)\n"
     ]
    }
   ],
   "source": [
    "print(\"Размер обучающей матрицы признаков: \", tf_idf_train.shape)\n",
    "print(\"Размер тестовой матрицы признаков: \", tf_idf_test.shape)"
   ]
  },
  {
   "cell_type": "markdown",
   "metadata": {},
   "source": [
    "Признаки подготовлены, выборки поделены. Приступим к обучению. "
   ]
  },
  {
   "cell_type": "markdown",
   "metadata": {},
   "source": [
    "# 2. Обучение\n",
    "\n",
    "#### LogisticRegression"
   ]
  },
  {
   "cell_type": "code",
   "execution_count": 25,
   "metadata": {},
   "outputs": [
    {
     "name": "stdout",
     "output_type": "stream",
     "text": [
      "{'penalty': ['l2', 'l1'], 'C': array([ 0.1       ,  0.46415888,  2.15443469, 10.        ]), 'solver': ['liblinear'], 'warm_start': [True, False], 'l1_ratio': [None, 0.3, 0.5, 0.7], 'class_weight': [None, 'balanced']}\n"
     ]
    }
   ],
   "source": [
    "penalty = [\"l2\", \"l1\"]\n",
    "C = np.logspace(-1., 1, num=4)\n",
    "solver = [\"liblinear\"]\n",
    "warm_start = [True, False]\n",
    "l1_ratio = [None, 0.3, 0.5, 0.7]\n",
    "class_weight = [None, \"balanced\"]\n",
    "\n",
    "log_grid = {'penalty': penalty,\n",
    "            'C': C,\n",
    "            'solver': solver,\n",
    "            'warm_start': warm_start,\n",
    "            'l1_ratio': l1_ratio,\n",
    "            'class_weight': class_weight}\n",
    "\n",
    "print(log_grid)"
   ]
  },
  {
   "cell_type": "markdown",
   "metadata": {},
   "source": [
    "Подбор гиперпараметров с кросс-валидацией закомментирован, чтобы сократить время загрузки проекта на ревью. "
   ]
  },
  {
   "cell_type": "code",
   "execution_count": 26,
   "metadata": {},
   "outputs": [],
   "source": [
    "# log_test = LogisticRegression()"
   ]
  },
  {
   "cell_type": "code",
   "execution_count": 27,
   "metadata": {},
   "outputs": [
    {
     "name": "stdout",
     "output_type": "stream",
     "text": [
      "Fitting 5 folds for each of 10 candidates, totalling 50 fits\n",
      "[CV] warm_start=False, solver=liblinear, penalty=l2, l1_ratio=0.7, class_weight=None, C=0.46415888336127786 \n"
     ]
    },
    {
     "name": "stderr",
     "output_type": "stream",
     "text": [
      "[Parallel(n_jobs=-1)]: Using backend SequentialBackend with 1 concurrent workers.\n"
     ]
    },
    {
     "name": "stdout",
     "output_type": "stream",
     "text": [
      "[CV]  warm_start=False, solver=liblinear, penalty=l2, l1_ratio=0.7, class_weight=None, C=0.46415888336127786, total=   1.0s\n",
      "[CV] warm_start=False, solver=liblinear, penalty=l2, l1_ratio=0.7, class_weight=None, C=0.46415888336127786 \n"
     ]
    },
    {
     "name": "stderr",
     "output_type": "stream",
     "text": [
      "[Parallel(n_jobs=-1)]: Done   1 out of   1 | elapsed:    1.0s remaining:    0.0s\n"
     ]
    },
    {
     "name": "stdout",
     "output_type": "stream",
     "text": [
      "[CV]  warm_start=False, solver=liblinear, penalty=l2, l1_ratio=0.7, class_weight=None, C=0.46415888336127786, total=   1.0s\n",
      "[CV] warm_start=False, solver=liblinear, penalty=l2, l1_ratio=0.7, class_weight=None, C=0.46415888336127786 \n",
      "[CV]  warm_start=False, solver=liblinear, penalty=l2, l1_ratio=0.7, class_weight=None, C=0.46415888336127786, total=   1.0s\n",
      "[CV] warm_start=False, solver=liblinear, penalty=l2, l1_ratio=0.7, class_weight=None, C=0.46415888336127786 \n",
      "[CV]  warm_start=False, solver=liblinear, penalty=l2, l1_ratio=0.7, class_weight=None, C=0.46415888336127786, total=   0.9s\n",
      "[CV] warm_start=False, solver=liblinear, penalty=l2, l1_ratio=0.7, class_weight=None, C=0.46415888336127786 \n",
      "[CV]  warm_start=False, solver=liblinear, penalty=l2, l1_ratio=0.7, class_weight=None, C=0.46415888336127786, total=   0.9s\n",
      "[CV] warm_start=False, solver=liblinear, penalty=l2, l1_ratio=0.7, class_weight=None, C=0.1 \n",
      "[CV]  warm_start=False, solver=liblinear, penalty=l2, l1_ratio=0.7, class_weight=None, C=0.1, total=   0.7s\n",
      "[CV] warm_start=False, solver=liblinear, penalty=l2, l1_ratio=0.7, class_weight=None, C=0.1 \n",
      "[CV]  warm_start=False, solver=liblinear, penalty=l2, l1_ratio=0.7, class_weight=None, C=0.1, total=   0.8s\n",
      "[CV] warm_start=False, solver=liblinear, penalty=l2, l1_ratio=0.7, class_weight=None, C=0.1 \n",
      "[CV]  warm_start=False, solver=liblinear, penalty=l2, l1_ratio=0.7, class_weight=None, C=0.1, total=   0.7s\n",
      "[CV] warm_start=False, solver=liblinear, penalty=l2, l1_ratio=0.7, class_weight=None, C=0.1 \n",
      "[CV]  warm_start=False, solver=liblinear, penalty=l2, l1_ratio=0.7, class_weight=None, C=0.1, total=   0.7s\n",
      "[CV] warm_start=False, solver=liblinear, penalty=l2, l1_ratio=0.7, class_weight=None, C=0.1 \n",
      "[CV]  warm_start=False, solver=liblinear, penalty=l2, l1_ratio=0.7, class_weight=None, C=0.1, total=   0.7s\n",
      "[CV] warm_start=False, solver=liblinear, penalty=l1, l1_ratio=None, class_weight=balanced, C=2.1544346900318834 \n",
      "[CV]  warm_start=False, solver=liblinear, penalty=l1, l1_ratio=None, class_weight=balanced, C=2.1544346900318834, total=   1.9s\n",
      "[CV] warm_start=False, solver=liblinear, penalty=l1, l1_ratio=None, class_weight=balanced, C=2.1544346900318834 \n",
      "[CV]  warm_start=False, solver=liblinear, penalty=l1, l1_ratio=None, class_weight=balanced, C=2.1544346900318834, total=   2.2s\n",
      "[CV] warm_start=False, solver=liblinear, penalty=l1, l1_ratio=None, class_weight=balanced, C=2.1544346900318834 \n",
      "[CV]  warm_start=False, solver=liblinear, penalty=l1, l1_ratio=None, class_weight=balanced, C=2.1544346900318834, total=   2.0s\n",
      "[CV] warm_start=False, solver=liblinear, penalty=l1, l1_ratio=None, class_weight=balanced, C=2.1544346900318834 \n",
      "[CV]  warm_start=False, solver=liblinear, penalty=l1, l1_ratio=None, class_weight=balanced, C=2.1544346900318834, total=   2.0s\n",
      "[CV] warm_start=False, solver=liblinear, penalty=l1, l1_ratio=None, class_weight=balanced, C=2.1544346900318834 \n",
      "[CV]  warm_start=False, solver=liblinear, penalty=l1, l1_ratio=None, class_weight=balanced, C=2.1544346900318834, total=   2.0s\n",
      "[CV] warm_start=False, solver=liblinear, penalty=l1, l1_ratio=0.3, class_weight=balanced, C=0.46415888336127786 \n",
      "[CV]  warm_start=False, solver=liblinear, penalty=l1, l1_ratio=0.3, class_weight=balanced, C=0.46415888336127786, total=   1.4s\n",
      "[CV] warm_start=False, solver=liblinear, penalty=l1, l1_ratio=0.3, class_weight=balanced, C=0.46415888336127786 \n",
      "[CV]  warm_start=False, solver=liblinear, penalty=l1, l1_ratio=0.3, class_weight=balanced, C=0.46415888336127786, total=   1.5s\n",
      "[CV] warm_start=False, solver=liblinear, penalty=l1, l1_ratio=0.3, class_weight=balanced, C=0.46415888336127786 \n",
      "[CV]  warm_start=False, solver=liblinear, penalty=l1, l1_ratio=0.3, class_weight=balanced, C=0.46415888336127786, total=   1.4s\n",
      "[CV] warm_start=False, solver=liblinear, penalty=l1, l1_ratio=0.3, class_weight=balanced, C=0.46415888336127786 \n",
      "[CV]  warm_start=False, solver=liblinear, penalty=l1, l1_ratio=0.3, class_weight=balanced, C=0.46415888336127786, total=   1.5s\n",
      "[CV] warm_start=False, solver=liblinear, penalty=l1, l1_ratio=0.3, class_weight=balanced, C=0.46415888336127786 \n",
      "[CV]  warm_start=False, solver=liblinear, penalty=l1, l1_ratio=0.3, class_weight=balanced, C=0.46415888336127786, total=   1.5s\n",
      "[CV] warm_start=False, solver=liblinear, penalty=l1, l1_ratio=0.3, class_weight=None, C=2.1544346900318834 \n",
      "[CV]  warm_start=False, solver=liblinear, penalty=l1, l1_ratio=0.3, class_weight=None, C=2.1544346900318834, total=   1.6s\n",
      "[CV] warm_start=False, solver=liblinear, penalty=l1, l1_ratio=0.3, class_weight=None, C=2.1544346900318834 \n",
      "[CV]  warm_start=False, solver=liblinear, penalty=l1, l1_ratio=0.3, class_weight=None, C=2.1544346900318834, total=   1.7s\n",
      "[CV] warm_start=False, solver=liblinear, penalty=l1, l1_ratio=0.3, class_weight=None, C=2.1544346900318834 \n",
      "[CV]  warm_start=False, solver=liblinear, penalty=l1, l1_ratio=0.3, class_weight=None, C=2.1544346900318834, total=   1.7s\n",
      "[CV] warm_start=False, solver=liblinear, penalty=l1, l1_ratio=0.3, class_weight=None, C=2.1544346900318834 \n",
      "[CV]  warm_start=False, solver=liblinear, penalty=l1, l1_ratio=0.3, class_weight=None, C=2.1544346900318834, total=   1.7s\n",
      "[CV] warm_start=False, solver=liblinear, penalty=l1, l1_ratio=0.3, class_weight=None, C=2.1544346900318834 \n",
      "[CV]  warm_start=False, solver=liblinear, penalty=l1, l1_ratio=0.3, class_weight=None, C=2.1544346900318834, total=   1.7s\n",
      "[CV] warm_start=False, solver=liblinear, penalty=l1, l1_ratio=0.7, class_weight=None, C=0.1 \n",
      "[CV]  warm_start=False, solver=liblinear, penalty=l1, l1_ratio=0.7, class_weight=None, C=0.1, total=   0.8s\n",
      "[CV] warm_start=False, solver=liblinear, penalty=l1, l1_ratio=0.7, class_weight=None, C=0.1 \n",
      "[CV]  warm_start=False, solver=liblinear, penalty=l1, l1_ratio=0.7, class_weight=None, C=0.1, total=   0.8s\n",
      "[CV] warm_start=False, solver=liblinear, penalty=l1, l1_ratio=0.7, class_weight=None, C=0.1 \n",
      "[CV]  warm_start=False, solver=liblinear, penalty=l1, l1_ratio=0.7, class_weight=None, C=0.1, total=   0.8s\n",
      "[CV] warm_start=False, solver=liblinear, penalty=l1, l1_ratio=0.7, class_weight=None, C=0.1 \n",
      "[CV]  warm_start=False, solver=liblinear, penalty=l1, l1_ratio=0.7, class_weight=None, C=0.1, total=   0.8s\n",
      "[CV] warm_start=False, solver=liblinear, penalty=l1, l1_ratio=0.7, class_weight=None, C=0.1 \n",
      "[CV]  warm_start=False, solver=liblinear, penalty=l1, l1_ratio=0.7, class_weight=None, C=0.1, total=   0.8s\n",
      "[CV] warm_start=True, solver=liblinear, penalty=l1, l1_ratio=0.3, class_weight=balanced, C=0.1 \n",
      "[CV]  warm_start=True, solver=liblinear, penalty=l1, l1_ratio=0.3, class_weight=balanced, C=0.1, total=   1.0s\n",
      "[CV] warm_start=True, solver=liblinear, penalty=l1, l1_ratio=0.3, class_weight=balanced, C=0.1 \n",
      "[CV]  warm_start=True, solver=liblinear, penalty=l1, l1_ratio=0.3, class_weight=balanced, C=0.1, total=   1.0s\n",
      "[CV] warm_start=True, solver=liblinear, penalty=l1, l1_ratio=0.3, class_weight=balanced, C=0.1 \n",
      "[CV]  warm_start=True, solver=liblinear, penalty=l1, l1_ratio=0.3, class_weight=balanced, C=0.1, total=   1.1s\n",
      "[CV] warm_start=True, solver=liblinear, penalty=l1, l1_ratio=0.3, class_weight=balanced, C=0.1 \n",
      "[CV]  warm_start=True, solver=liblinear, penalty=l1, l1_ratio=0.3, class_weight=balanced, C=0.1, total=   1.2s\n",
      "[CV] warm_start=True, solver=liblinear, penalty=l1, l1_ratio=0.3, class_weight=balanced, C=0.1 \n",
      "[CV]  warm_start=True, solver=liblinear, penalty=l1, l1_ratio=0.3, class_weight=balanced, C=0.1, total=   1.0s\n",
      "[CV] warm_start=False, solver=liblinear, penalty=l2, l1_ratio=0.5, class_weight=None, C=2.1544346900318834 \n",
      "[CV]  warm_start=False, solver=liblinear, penalty=l2, l1_ratio=0.5, class_weight=None, C=2.1544346900318834, total=   1.3s\n",
      "[CV] warm_start=False, solver=liblinear, penalty=l2, l1_ratio=0.5, class_weight=None, C=2.1544346900318834 \n",
      "[CV]  warm_start=False, solver=liblinear, penalty=l2, l1_ratio=0.5, class_weight=None, C=2.1544346900318834, total=   1.5s\n",
      "[CV] warm_start=False, solver=liblinear, penalty=l2, l1_ratio=0.5, class_weight=None, C=2.1544346900318834 \n",
      "[CV]  warm_start=False, solver=liblinear, penalty=l2, l1_ratio=0.5, class_weight=None, C=2.1544346900318834, total=   1.5s\n",
      "[CV] warm_start=False, solver=liblinear, penalty=l2, l1_ratio=0.5, class_weight=None, C=2.1544346900318834 \n",
      "[CV]  warm_start=False, solver=liblinear, penalty=l2, l1_ratio=0.5, class_weight=None, C=2.1544346900318834, total=   1.2s\n",
      "[CV] warm_start=False, solver=liblinear, penalty=l2, l1_ratio=0.5, class_weight=None, C=2.1544346900318834 \n",
      "[CV]  warm_start=False, solver=liblinear, penalty=l2, l1_ratio=0.5, class_weight=None, C=2.1544346900318834, total=   1.4s\n",
      "[CV] warm_start=True, solver=liblinear, penalty=l2, l1_ratio=0.5, class_weight=None, C=0.1 \n",
      "[CV]  warm_start=True, solver=liblinear, penalty=l2, l1_ratio=0.5, class_weight=None, C=0.1, total=   0.7s\n",
      "[CV] warm_start=True, solver=liblinear, penalty=l2, l1_ratio=0.5, class_weight=None, C=0.1 \n",
      "[CV]  warm_start=True, solver=liblinear, penalty=l2, l1_ratio=0.5, class_weight=None, C=0.1, total=   0.7s\n",
      "[CV] warm_start=True, solver=liblinear, penalty=l2, l1_ratio=0.5, class_weight=None, C=0.1 \n",
      "[CV]  warm_start=True, solver=liblinear, penalty=l2, l1_ratio=0.5, class_weight=None, C=0.1, total=   0.7s\n",
      "[CV] warm_start=True, solver=liblinear, penalty=l2, l1_ratio=0.5, class_weight=None, C=0.1 \n",
      "[CV]  warm_start=True, solver=liblinear, penalty=l2, l1_ratio=0.5, class_weight=None, C=0.1, total=   0.7s\n",
      "[CV] warm_start=True, solver=liblinear, penalty=l2, l1_ratio=0.5, class_weight=None, C=0.1 \n",
      "[CV]  warm_start=True, solver=liblinear, penalty=l2, l1_ratio=0.5, class_weight=None, C=0.1, total=   0.7s\n",
      "[CV] warm_start=False, solver=liblinear, penalty=l1, l1_ratio=0.5, class_weight=balanced, C=10.0 \n",
      "[CV]  warm_start=False, solver=liblinear, penalty=l1, l1_ratio=0.5, class_weight=balanced, C=10.0, total=   2.2s\n",
      "[CV] warm_start=False, solver=liblinear, penalty=l1, l1_ratio=0.5, class_weight=balanced, C=10.0 \n",
      "[CV]  warm_start=False, solver=liblinear, penalty=l1, l1_ratio=0.5, class_weight=balanced, C=10.0, total=   2.4s\n",
      "[CV] warm_start=False, solver=liblinear, penalty=l1, l1_ratio=0.5, class_weight=balanced, C=10.0 \n",
      "[CV]  warm_start=False, solver=liblinear, penalty=l1, l1_ratio=0.5, class_weight=balanced, C=10.0, total=   2.3s\n",
      "[CV] warm_start=False, solver=liblinear, penalty=l1, l1_ratio=0.5, class_weight=balanced, C=10.0 \n",
      "[CV]  warm_start=False, solver=liblinear, penalty=l1, l1_ratio=0.5, class_weight=balanced, C=10.0, total=   2.4s\n",
      "[CV] warm_start=False, solver=liblinear, penalty=l1, l1_ratio=0.5, class_weight=balanced, C=10.0 \n",
      "[CV]  warm_start=False, solver=liblinear, penalty=l1, l1_ratio=0.5, class_weight=balanced, C=10.0, total=   2.1s\n"
     ]
    },
    {
     "name": "stderr",
     "output_type": "stream",
     "text": [
      "[Parallel(n_jobs=-1)]: Done  50 out of  50 | elapsed:  1.1min finished\n"
     ]
    },
    {
     "data": {
      "text/plain": [
       "RandomizedSearchCV(cv=5, estimator=LogisticRegression(), n_jobs=-1,\n",
       "                   param_distributions={'C': array([ 0.1       ,  0.46415888,  2.15443469, 10.        ]),\n",
       "                                        'class_weight': [None, 'balanced'],\n",
       "                                        'l1_ratio': [None, 0.3, 0.5, 0.7],\n",
       "                                        'penalty': ['l2', 'l1'],\n",
       "                                        'solver': ['liblinear'],\n",
       "                                        'warm_start': [True, False]},\n",
       "                   random_state=357, refit='f1', scoring='f1', verbose=2)"
      ]
     },
     "execution_count": 27,
     "metadata": {},
     "output_type": "execute_result"
    }
   ],
   "source": [
    "# log_random = RandomizedSearchCV(estimator=log_test, scoring=\"f1\",\n",
    "#     param_distributions=log_grid, verbose=2, refit=\"f1\",\n",
    "#     cv=5, random_state=357, n_jobs=-1)\n",
    "\n",
    "# log_random.fit(tf_idf_train, target_train)"
   ]
  },
  {
   "cell_type": "code",
   "execution_count": 51,
   "metadata": {},
   "outputs": [
    {
     "name": "stdout",
     "output_type": "stream",
     "text": [
      "F1 лучшей модели при валидации:  0.757\n"
     ]
    }
   ],
   "source": [
    "log_random_best_score = 0.757\n",
    "\n",
    "print(\"F1 лучшей модели при валидации: \", log_random_best_score)"
   ]
  },
  {
   "cell_type": "code",
   "execution_count": 52,
   "metadata": {},
   "outputs": [
    {
     "data": {
      "text/plain": [
       "{'warm_start': False,\n",
       " 'solver': 'liblinear',\n",
       " 'penalty': 'l1',\n",
       " 'l1_ratio': 0.3,\n",
       " 'class_weight': None,\n",
       " 'C': 2.1544346900318834}"
      ]
     },
     "execution_count": 52,
     "metadata": {},
     "output_type": "execute_result"
    }
   ],
   "source": [
    "log_best_params = {\n",
    "    'warm_start': False,\n",
    "    'solver': 'liblinear',\n",
    "    'penalty': 'l1',\n",
    "    'l1_ratio': 0.3,\n",
    "    'class_weight': None,\n",
    "    'C': 2.1544346900318834\n",
    "}\n",
    "\n",
    "log_best_params"
   ]
  },
  {
   "cell_type": "code",
   "execution_count": 30,
   "metadata": {},
   "outputs": [],
   "source": [
    "log_model = LogisticRegression(**log_best_params, random_state=248)"
   ]
  },
  {
   "cell_type": "code",
   "execution_count": 53,
   "metadata": {},
   "outputs": [
    {
     "name": "stdout",
     "output_type": "stream",
     "text": [
      "CPU times: user 2.1 s, sys: 44 ms, total: 2.14 s\n",
      "Wall time: 2.15 s\n"
     ]
    },
    {
     "data": {
      "text/plain": [
       "LogisticRegression(C=2.1544346900318834, l1_ratio=0.3, penalty='l1',\n",
       "                   random_state=248, solver='liblinear')"
      ]
     },
     "execution_count": 53,
     "metadata": {},
     "output_type": "execute_result"
    }
   ],
   "source": [
    "%%time\n",
    "\n",
    "log_model.fit(tf_idf_train, target_train)"
   ]
  },
  {
   "cell_type": "code",
   "execution_count": 32,
   "metadata": {},
   "outputs": [],
   "source": [
    "log_pred = log_model.predict(tf_idf_test)"
   ]
  },
  {
   "cell_type": "code",
   "execution_count": 33,
   "metadata": {},
   "outputs": [
    {
     "name": "stdout",
     "output_type": "stream",
     "text": [
      "F1 на обучающей выборке:  0.9605759026681039\n",
      "F1 на тестовой выборке:  0.75120022592488\n"
     ]
    }
   ],
   "source": [
    "print(\"F1 на обучающей выборке: \", log_model.score(tf_idf_train, target_train))\n",
    "print(\"F1 на тестовой выборке: \", f1_score(log_pred, target_test))"
   ]
  },
  {
   "cell_type": "markdown",
   "metadata": {},
   "source": [
    "Разница в качестве обучающей и тестовой выборке около 0.2, что немало. Посмотрим как распределились ошибки по классам."
   ]
  },
  {
   "cell_type": "code",
   "execution_count": 34,
   "metadata": {},
   "outputs": [],
   "source": [
    "def plot_confusion_matrix(cm, classes,\n",
    "                          title='Confusion matrix',\n",
    "                          cmap=plt.cm.Blues):\n",
    "\n",
    "    plt.imshow(cm, interpolation='nearest', cmap=cmap)\n",
    "    plt.title(title)\n",
    "    plt.colorbar()\n",
    "    tick_marks = np.arange(len(classes))\n",
    "    plt.xticks(tick_marks, classes)\n",
    "    plt.yticks(tick_marks, classes)\n",
    "\n",
    "    thresh = cm.max() / 2\n",
    "    for i, j in itertools.product(range(cm.shape[0]), range(cm.shape[1])):\n",
    "        plt.text(j, i, cm[i, j],\n",
    "                 horizontalalignment=\"center\",\n",
    "                 color=\"white\" if cm[i, j] > thresh else \"black\")\n",
    "\n",
    "    plt.tight_layout()\n",
    "    plt.ylabel('Target')\n",
    "    plt.xlabel('Predicted')"
   ]
  },
  {
   "cell_type": "code",
   "execution_count": 35,
   "metadata": {},
   "outputs": [
    {
     "data": {
      "image/png": "[encoded data removed]",
      "text/plain": [
       "<Figure size 1152x432 with 2 Axes>"
      ]
     },
     "metadata": {
      "needs_background": "light"
     },
     "output_type": "display_data"
    }
   ],
   "source": [
    "plt.figure(figsize=(16, 6))\n",
    "plt.subplot(1, 2, 2)\n",
    "cnf_matrix_valid = confusion_matrix(target_test, log_pred)\n",
    "plot_confusion_matrix(cnf_matrix_valid, classes=['0', '1'])\n",
    "\n",
    "plt.show()"
   ]
  },
  {
   "cell_type": "markdown",
   "metadata": {},
   "source": [
    "Ошибки распределились удовлетворительно - большинство объектов редкого класса определились верно. Качество модели на тестовой выборке 0.75, что по условию задачи соответствует минимальному допустимому порогу.\n",
    "\n",
    "Попробуем решить проблему дисбаланса классов посредством проведения апсемплинга и даунсемплинга. Может быть это поможет улучшить качество модели."
   ]
  },
  {
   "cell_type": "markdown",
   "metadata": {},
   "source": [
    "#### Апсемплинг:"
   ]
  },
  {
   "cell_type": "code",
   "execution_count": 36,
   "metadata": {},
   "outputs": [
    {
     "name": "stdout",
     "output_type": "stream",
     "text": [
      "F1 лучшей модели при валидации:  0.6696340257171117\n",
      "CPU times: user 13.3 s, sys: 456 ms, total: 13.8 s\n",
      "Wall time: 14.1 s\n"
     ]
    }
   ],
   "source": [
    "%%time\n",
    "\n",
    "oversample_pipeline = make_pipeline(RandomOverSampler(random_state=123), \n",
    "                                    LogisticRegression(**log_best_params))\n",
    "\n",
    "log_oversample_score = cross_val_score(oversample_pipeline, tf_idf_train,\n",
    "                                       target_train, scoring='f1', cv=5)\n",
    "\n",
    "print(\"F1 лучшей модели при валидации: \", log_oversample_score.max())"
   ]
  },
  {
   "cell_type": "markdown",
   "metadata": {},
   "source": [
    "#### Даунсемплинг:"
   ]
  },
  {
   "cell_type": "code",
   "execution_count": 37,
   "metadata": {},
   "outputs": [
    {
     "name": "stdout",
     "output_type": "stream",
     "text": [
      "F1 лучшей модели при валидации:  0.6726238830219333\n",
      "CPU times: user 1.15 s, sys: 12 ms, total: 1.16 s\n",
      "Wall time: 1.18 s\n"
     ]
    }
   ],
   "source": [
    "%%time\n",
    "\n",
    "undersample_pipeline = make_pipeline(RandomUnderSampler(random_state=321), \n",
    "                                     LogisticRegression(**log_best_params))\n",
    "\n",
    "log_undersample_score = cross_val_score(undersample_pipeline, tf_idf_train,\n",
    "                                        target_train, scoring='f1', cv=5)\n",
    "\n",
    "print(\"F1 лучшей модели при валидации: \", log_undersample_score.max())"
   ]
  },
  {
   "cell_type": "markdown",
   "metadata": {},
   "source": [
    "Улучшить качество модели за счет апсемплинга и даунсемплинга не удалось. Пока лучший результат у первой обученной модели логистической регрессии и он равен 0.75. Попробуем обучить еще одну модель. \n",
    "\n",
    "### SGDClassifier"
   ]
  },
  {
   "cell_type": "code",
   "execution_count": 38,
   "metadata": {},
   "outputs": [
    {
     "name": "stdout",
     "output_type": "stream",
     "text": [
      "{'loss': ['squared_loss', 'huber', 'epsilon_insensitive', 'squared_epsilon_insensitive', 'hinge', 'modified_huber', 'squared_hinge', 'perceptron'], 'penalty': ['l2', 'l1', 'elasticnet'], 'alpha': [0.0001, 0.005, 0.01], 'l1_ratio': [0.0, 0.15, 0.3], 'fit_intercept': [True, False], 'shuffle': [True, False], 'class_weight': ['balanced', None], 'warm_start': [True, False]}\n"
     ]
    }
   ],
   "source": [
    "loss = ['squared_loss', 'huber', 'epsilon_insensitive', 'squared_epsilon_insensitive',\n",
    "        'hinge', 'modified_huber', 'squared_hinge', 'perceptron']\n",
    "penalty = ['l2', 'l1', 'elasticnet']\n",
    "alpha = [0.0001, 0.005, 0.01]\n",
    "l1_ratio = [0.0, 0.15, 0.3]\n",
    "fit_intercept = [True, False]\n",
    "shuffle = [True, False]\n",
    "class_weight = ['balanced', None]\n",
    "warm_start = [True, False]\n",
    "\n",
    "sgdc_grid = {'loss': loss,\n",
    "             'penalty': penalty,\n",
    "             'alpha': alpha,\n",
    "             'l1_ratio': l1_ratio,\n",
    "             'fit_intercept': fit_intercept,\n",
    "             'shuffle': shuffle,\n",
    "             'class_weight': class_weight,\n",
    "             'warm_start' : warm_start\n",
    "            }\n",
    "\n",
    "print(sgdc_grid)"
   ]
  },
  {
   "cell_type": "markdown",
   "metadata": {},
   "source": [
    "Процесс подбора гиперпараметров закомментирован, чтобы сократить время загрузки проекта на ревью."
   ]
  },
  {
   "cell_type": "code",
   "execution_count": 39,
   "metadata": {},
   "outputs": [],
   "source": [
    "# sgdc_test = SGDClassifier()"
   ]
  },
  {
   "cell_type": "code",
   "execution_count": 40,
   "metadata": {},
   "outputs": [
    {
     "name": "stdout",
     "output_type": "stream",
     "text": [
      "Fitting 5 folds for each of 10 candidates, totalling 50 fits\n",
      "[CV] warm_start=True, shuffle=True, penalty=l2, loss=epsilon_insensitive, l1_ratio=0.15, fit_intercept=True, class_weight=None, alpha=0.01 \n"
     ]
    },
    {
     "name": "stderr",
     "output_type": "stream",
     "text": [
      "[Parallel(n_jobs=-1)]: Using backend SequentialBackend with 1 concurrent workers.\n"
     ]
    },
    {
     "name": "stdout",
     "output_type": "stream",
     "text": [
      "[CV]  warm_start=True, shuffle=True, penalty=l2, loss=epsilon_insensitive, l1_ratio=0.15, fit_intercept=True, class_weight=None, alpha=0.01, total=   0.2s\n",
      "[CV] warm_start=True, shuffle=True, penalty=l2, loss=epsilon_insensitive, l1_ratio=0.15, fit_intercept=True, class_weight=None, alpha=0.01 \n"
     ]
    },
    {
     "name": "stderr",
     "output_type": "stream",
     "text": [
      "[Parallel(n_jobs=-1)]: Done   1 out of   1 | elapsed:    0.2s remaining:    0.0s\n"
     ]
    },
    {
     "name": "stdout",
     "output_type": "stream",
     "text": [
      "[CV]  warm_start=True, shuffle=True, penalty=l2, loss=epsilon_insensitive, l1_ratio=0.15, fit_intercept=True, class_weight=None, alpha=0.01, total=   0.2s\n",
      "[CV] warm_start=True, shuffle=True, penalty=l2, loss=epsilon_insensitive, l1_ratio=0.15, fit_intercept=True, class_weight=None, alpha=0.01 \n",
      "[CV]  warm_start=True, shuffle=True, penalty=l2, loss=epsilon_insensitive, l1_ratio=0.15, fit_intercept=True, class_weight=None, alpha=0.01, total=   0.2s\n",
      "[CV] warm_start=True, shuffle=True, penalty=l2, loss=epsilon_insensitive, l1_ratio=0.15, fit_intercept=True, class_weight=None, alpha=0.01 \n",
      "[CV]  warm_start=True, shuffle=True, penalty=l2, loss=epsilon_insensitive, l1_ratio=0.15, fit_intercept=True, class_weight=None, alpha=0.01, total=   0.2s\n",
      "[CV] warm_start=True, shuffle=True, penalty=l2, loss=epsilon_insensitive, l1_ratio=0.15, fit_intercept=True, class_weight=None, alpha=0.01 \n",
      "[CV]  warm_start=True, shuffle=True, penalty=l2, loss=epsilon_insensitive, l1_ratio=0.15, fit_intercept=True, class_weight=None, alpha=0.01, total=   0.2s\n",
      "[CV] warm_start=False, shuffle=False, penalty=l2, loss=modified_huber, l1_ratio=0.0, fit_intercept=False, class_weight=balanced, alpha=0.0001 \n",
      "[CV]  warm_start=False, shuffle=False, penalty=l2, loss=modified_huber, l1_ratio=0.0, fit_intercept=False, class_weight=balanced, alpha=0.0001, total=   0.3s\n",
      "[CV] warm_start=False, shuffle=False, penalty=l2, loss=modified_huber, l1_ratio=0.0, fit_intercept=False, class_weight=balanced, alpha=0.0001 \n",
      "[CV]  warm_start=False, shuffle=False, penalty=l2, loss=modified_huber, l1_ratio=0.0, fit_intercept=False, class_weight=balanced, alpha=0.0001, total=   0.2s\n",
      "[CV] warm_start=False, shuffle=False, penalty=l2, loss=modified_huber, l1_ratio=0.0, fit_intercept=False, class_weight=balanced, alpha=0.0001 \n",
      "[CV]  warm_start=False, shuffle=False, penalty=l2, loss=modified_huber, l1_ratio=0.0, fit_intercept=False, class_weight=balanced, alpha=0.0001, total=   0.2s\n",
      "[CV] warm_start=False, shuffle=False, penalty=l2, loss=modified_huber, l1_ratio=0.0, fit_intercept=False, class_weight=balanced, alpha=0.0001 \n",
      "[CV]  warm_start=False, shuffle=False, penalty=l2, loss=modified_huber, l1_ratio=0.0, fit_intercept=False, class_weight=balanced, alpha=0.0001, total=   0.2s\n",
      "[CV] warm_start=False, shuffle=False, penalty=l2, loss=modified_huber, l1_ratio=0.0, fit_intercept=False, class_weight=balanced, alpha=0.0001 \n",
      "[CV]  warm_start=False, shuffle=False, penalty=l2, loss=modified_huber, l1_ratio=0.0, fit_intercept=False, class_weight=balanced, alpha=0.0001, total=   0.2s\n",
      "[CV] warm_start=True, shuffle=True, penalty=l1, loss=modified_huber, l1_ratio=0.0, fit_intercept=True, class_weight=None, alpha=0.005 \n",
      "[CV]  warm_start=True, shuffle=True, penalty=l1, loss=modified_huber, l1_ratio=0.0, fit_intercept=True, class_weight=None, alpha=0.005, total=   0.3s\n",
      "[CV] warm_start=True, shuffle=True, penalty=l1, loss=modified_huber, l1_ratio=0.0, fit_intercept=True, class_weight=None, alpha=0.005 \n",
      "[CV]  warm_start=True, shuffle=True, penalty=l1, loss=modified_huber, l1_ratio=0.0, fit_intercept=True, class_weight=None, alpha=0.005, total=   0.3s\n",
      "[CV] warm_start=True, shuffle=True, penalty=l1, loss=modified_huber, l1_ratio=0.0, fit_intercept=True, class_weight=None, alpha=0.005 \n",
      "[CV]  warm_start=True, shuffle=True, penalty=l1, loss=modified_huber, l1_ratio=0.0, fit_intercept=True, class_weight=None, alpha=0.005, total=   0.3s\n",
      "[CV] warm_start=True, shuffle=True, penalty=l1, loss=modified_huber, l1_ratio=0.0, fit_intercept=True, class_weight=None, alpha=0.005 \n",
      "[CV]  warm_start=True, shuffle=True, penalty=l1, loss=modified_huber, l1_ratio=0.0, fit_intercept=True, class_weight=None, alpha=0.005, total=   0.3s\n",
      "[CV] warm_start=True, shuffle=True, penalty=l1, loss=modified_huber, l1_ratio=0.0, fit_intercept=True, class_weight=None, alpha=0.005 \n",
      "[CV]  warm_start=True, shuffle=True, penalty=l1, loss=modified_huber, l1_ratio=0.0, fit_intercept=True, class_weight=None, alpha=0.005, total=   0.4s\n",
      "[CV] warm_start=True, shuffle=False, penalty=elasticnet, loss=epsilon_insensitive, l1_ratio=0.0, fit_intercept=True, class_weight=None, alpha=0.005 \n",
      "[CV]  warm_start=True, shuffle=False, penalty=elasticnet, loss=epsilon_insensitive, l1_ratio=0.0, fit_intercept=True, class_weight=None, alpha=0.005, total=   0.2s\n",
      "[CV] warm_start=True, shuffle=False, penalty=elasticnet, loss=epsilon_insensitive, l1_ratio=0.0, fit_intercept=True, class_weight=None, alpha=0.005 \n",
      "[CV]  warm_start=True, shuffle=False, penalty=elasticnet, loss=epsilon_insensitive, l1_ratio=0.0, fit_intercept=True, class_weight=None, alpha=0.005, total=   0.2s\n",
      "[CV] warm_start=True, shuffle=False, penalty=elasticnet, loss=epsilon_insensitive, l1_ratio=0.0, fit_intercept=True, class_weight=None, alpha=0.005 \n",
      "[CV]  warm_start=True, shuffle=False, penalty=elasticnet, loss=epsilon_insensitive, l1_ratio=0.0, fit_intercept=True, class_weight=None, alpha=0.005, total=   0.2s\n",
      "[CV] warm_start=True, shuffle=False, penalty=elasticnet, loss=epsilon_insensitive, l1_ratio=0.0, fit_intercept=True, class_weight=None, alpha=0.005 \n",
      "[CV]  warm_start=True, shuffle=False, penalty=elasticnet, loss=epsilon_insensitive, l1_ratio=0.0, fit_intercept=True, class_weight=None, alpha=0.005, total=   0.2s\n",
      "[CV] warm_start=True, shuffle=False, penalty=elasticnet, loss=epsilon_insensitive, l1_ratio=0.0, fit_intercept=True, class_weight=None, alpha=0.005 \n",
      "[CV]  warm_start=True, shuffle=False, penalty=elasticnet, loss=epsilon_insensitive, l1_ratio=0.0, fit_intercept=True, class_weight=None, alpha=0.005, total=   0.2s\n",
      "[CV] warm_start=True, shuffle=False, penalty=l2, loss=squared_epsilon_insensitive, l1_ratio=0.0, fit_intercept=True, class_weight=None, alpha=0.005 \n",
      "[CV]  warm_start=True, shuffle=False, penalty=l2, loss=squared_epsilon_insensitive, l1_ratio=0.0, fit_intercept=True, class_weight=None, alpha=0.005, total=   0.1s\n",
      "[CV] warm_start=True, shuffle=False, penalty=l2, loss=squared_epsilon_insensitive, l1_ratio=0.0, fit_intercept=True, class_weight=None, alpha=0.005 \n",
      "[CV]  warm_start=True, shuffle=False, penalty=l2, loss=squared_epsilon_insensitive, l1_ratio=0.0, fit_intercept=True, class_weight=None, alpha=0.005, total=   0.2s\n",
      "[CV] warm_start=True, shuffle=False, penalty=l2, loss=squared_epsilon_insensitive, l1_ratio=0.0, fit_intercept=True, class_weight=None, alpha=0.005 \n",
      "[CV]  warm_start=True, shuffle=False, penalty=l2, loss=squared_epsilon_insensitive, l1_ratio=0.0, fit_intercept=True, class_weight=None, alpha=0.005, total=   0.2s\n",
      "[CV] warm_start=True, shuffle=False, penalty=l2, loss=squared_epsilon_insensitive, l1_ratio=0.0, fit_intercept=True, class_weight=None, alpha=0.005 \n",
      "[CV]  warm_start=True, shuffle=False, penalty=l2, loss=squared_epsilon_insensitive, l1_ratio=0.0, fit_intercept=True, class_weight=None, alpha=0.005, total=   0.1s\n",
      "[CV] warm_start=True, shuffle=False, penalty=l2, loss=squared_epsilon_insensitive, l1_ratio=0.0, fit_intercept=True, class_weight=None, alpha=0.005 \n",
      "[CV]  warm_start=True, shuffle=False, penalty=l2, loss=squared_epsilon_insensitive, l1_ratio=0.0, fit_intercept=True, class_weight=None, alpha=0.005, total=   0.1s\n",
      "[CV] warm_start=False, shuffle=True, penalty=l1, loss=hinge, l1_ratio=0.0, fit_intercept=True, class_weight=balanced, alpha=0.01 \n",
      "[CV]  warm_start=False, shuffle=True, penalty=l1, loss=hinge, l1_ratio=0.0, fit_intercept=True, class_weight=balanced, alpha=0.01, total=   1.7s\n",
      "[CV] warm_start=False, shuffle=True, penalty=l1, loss=hinge, l1_ratio=0.0, fit_intercept=True, class_weight=balanced, alpha=0.01 \n",
      "[CV]  warm_start=False, shuffle=True, penalty=l1, loss=hinge, l1_ratio=0.0, fit_intercept=True, class_weight=balanced, alpha=0.01, total=   2.1s\n",
      "[CV] warm_start=False, shuffle=True, penalty=l1, loss=hinge, l1_ratio=0.0, fit_intercept=True, class_weight=balanced, alpha=0.01 \n",
      "[CV]  warm_start=False, shuffle=True, penalty=l1, loss=hinge, l1_ratio=0.0, fit_intercept=True, class_weight=balanced, alpha=0.01, total=   1.9s\n",
      "[CV] warm_start=False, shuffle=True, penalty=l1, loss=hinge, l1_ratio=0.0, fit_intercept=True, class_weight=balanced, alpha=0.01 \n",
      "[CV]  warm_start=False, shuffle=True, penalty=l1, loss=hinge, l1_ratio=0.0, fit_intercept=True, class_weight=balanced, alpha=0.01, total=   2.4s\n",
      "[CV] warm_start=False, shuffle=True, penalty=l1, loss=hinge, l1_ratio=0.0, fit_intercept=True, class_weight=balanced, alpha=0.01 \n",
      "[CV]  warm_start=False, shuffle=True, penalty=l1, loss=hinge, l1_ratio=0.0, fit_intercept=True, class_weight=balanced, alpha=0.01, total=   2.0s\n",
      "[CV] warm_start=False, shuffle=True, penalty=l1, loss=squared_hinge, l1_ratio=0.3, fit_intercept=False, class_weight=None, alpha=0.01 \n",
      "[CV]  warm_start=False, shuffle=True, penalty=l1, loss=squared_hinge, l1_ratio=0.3, fit_intercept=False, class_weight=None, alpha=0.01, total=   0.3s\n",
      "[CV] warm_start=False, shuffle=True, penalty=l1, loss=squared_hinge, l1_ratio=0.3, fit_intercept=False, class_weight=None, alpha=0.01 \n",
      "[CV]  warm_start=False, shuffle=True, penalty=l1, loss=squared_hinge, l1_ratio=0.3, fit_intercept=False, class_weight=None, alpha=0.01, total=   0.3s\n",
      "[CV] warm_start=False, shuffle=True, penalty=l1, loss=squared_hinge, l1_ratio=0.3, fit_intercept=False, class_weight=None, alpha=0.01 \n",
      "[CV]  warm_start=False, shuffle=True, penalty=l1, loss=squared_hinge, l1_ratio=0.3, fit_intercept=False, class_weight=None, alpha=0.01, total=   0.3s\n",
      "[CV] warm_start=False, shuffle=True, penalty=l1, loss=squared_hinge, l1_ratio=0.3, fit_intercept=False, class_weight=None, alpha=0.01 \n",
      "[CV]  warm_start=False, shuffle=True, penalty=l1, loss=squared_hinge, l1_ratio=0.3, fit_intercept=False, class_weight=None, alpha=0.01, total=   0.4s\n",
      "[CV] warm_start=False, shuffle=True, penalty=l1, loss=squared_hinge, l1_ratio=0.3, fit_intercept=False, class_weight=None, alpha=0.01 \n",
      "[CV]  warm_start=False, shuffle=True, penalty=l1, loss=squared_hinge, l1_ratio=0.3, fit_intercept=False, class_weight=None, alpha=0.01, total=   0.4s\n",
      "[CV] warm_start=False, shuffle=True, penalty=elasticnet, loss=squared_hinge, l1_ratio=0.15, fit_intercept=False, class_weight=balanced, alpha=0.0001 \n",
      "[CV]  warm_start=False, shuffle=True, penalty=elasticnet, loss=squared_hinge, l1_ratio=0.15, fit_intercept=False, class_weight=balanced, alpha=0.0001, total=  48.4s\n",
      "[CV] warm_start=False, shuffle=True, penalty=elasticnet, loss=squared_hinge, l1_ratio=0.15, fit_intercept=False, class_weight=balanced, alpha=0.0001 \n",
      "[CV]  warm_start=False, shuffle=True, penalty=elasticnet, loss=squared_hinge, l1_ratio=0.15, fit_intercept=False, class_weight=balanced, alpha=0.0001, total=  48.6s\n",
      "[CV] warm_start=False, shuffle=True, penalty=elasticnet, loss=squared_hinge, l1_ratio=0.15, fit_intercept=False, class_weight=balanced, alpha=0.0001 \n",
      "[CV]  warm_start=False, shuffle=True, penalty=elasticnet, loss=squared_hinge, l1_ratio=0.15, fit_intercept=False, class_weight=balanced, alpha=0.0001, total=  47.6s\n",
      "[CV] warm_start=False, shuffle=True, penalty=elasticnet, loss=squared_hinge, l1_ratio=0.15, fit_intercept=False, class_weight=balanced, alpha=0.0001 \n",
      "[CV]  warm_start=False, shuffle=True, penalty=elasticnet, loss=squared_hinge, l1_ratio=0.15, fit_intercept=False, class_weight=balanced, alpha=0.0001, total=  46.6s\n",
      "[CV] warm_start=False, shuffle=True, penalty=elasticnet, loss=squared_hinge, l1_ratio=0.15, fit_intercept=False, class_weight=balanced, alpha=0.0001 \n",
      "[CV]  warm_start=False, shuffle=True, penalty=elasticnet, loss=squared_hinge, l1_ratio=0.15, fit_intercept=False, class_weight=balanced, alpha=0.0001, total=  47.2s\n",
      "[CV] warm_start=False, shuffle=False, penalty=l2, loss=epsilon_insensitive, l1_ratio=0.0, fit_intercept=True, class_weight=balanced, alpha=0.005 \n",
      "[CV]  warm_start=False, shuffle=False, penalty=l2, loss=epsilon_insensitive, l1_ratio=0.0, fit_intercept=True, class_weight=balanced, alpha=0.005, total=   0.1s\n",
      "[CV] warm_start=False, shuffle=False, penalty=l2, loss=epsilon_insensitive, l1_ratio=0.0, fit_intercept=True, class_weight=balanced, alpha=0.005 \n",
      "[CV]  warm_start=False, shuffle=False, penalty=l2, loss=epsilon_insensitive, l1_ratio=0.0, fit_intercept=True, class_weight=balanced, alpha=0.005, total=   0.2s\n",
      "[CV] warm_start=False, shuffle=False, penalty=l2, loss=epsilon_insensitive, l1_ratio=0.0, fit_intercept=True, class_weight=balanced, alpha=0.005 \n",
      "[CV]  warm_start=False, shuffle=False, penalty=l2, loss=epsilon_insensitive, l1_ratio=0.0, fit_intercept=True, class_weight=balanced, alpha=0.005, total=   0.1s\n",
      "[CV] warm_start=False, shuffle=False, penalty=l2, loss=epsilon_insensitive, l1_ratio=0.0, fit_intercept=True, class_weight=balanced, alpha=0.005 \n",
      "[CV]  warm_start=False, shuffle=False, penalty=l2, loss=epsilon_insensitive, l1_ratio=0.0, fit_intercept=True, class_weight=balanced, alpha=0.005, total=   0.2s\n",
      "[CV] warm_start=False, shuffle=False, penalty=l2, loss=epsilon_insensitive, l1_ratio=0.0, fit_intercept=True, class_weight=balanced, alpha=0.005 \n",
      "[CV]  warm_start=False, shuffle=False, penalty=l2, loss=epsilon_insensitive, l1_ratio=0.0, fit_intercept=True, class_weight=balanced, alpha=0.005, total=   0.2s\n",
      "[CV] warm_start=False, shuffle=True, penalty=l1, loss=hinge, l1_ratio=0.0, fit_intercept=True, class_weight=balanced, alpha=0.005 \n",
      "[CV]  warm_start=False, shuffle=True, penalty=l1, loss=hinge, l1_ratio=0.0, fit_intercept=True, class_weight=balanced, alpha=0.005, total=   0.5s\n",
      "[CV] warm_start=False, shuffle=True, penalty=l1, loss=hinge, l1_ratio=0.0, fit_intercept=True, class_weight=balanced, alpha=0.005 \n",
      "[CV]  warm_start=False, shuffle=True, penalty=l1, loss=hinge, l1_ratio=0.0, fit_intercept=True, class_weight=balanced, alpha=0.005, total=   1.5s\n",
      "[CV] warm_start=False, shuffle=True, penalty=l1, loss=hinge, l1_ratio=0.0, fit_intercept=True, class_weight=balanced, alpha=0.005 \n",
      "[CV]  warm_start=False, shuffle=True, penalty=l1, loss=hinge, l1_ratio=0.0, fit_intercept=True, class_weight=balanced, alpha=0.005, total=   1.1s\n",
      "[CV] warm_start=False, shuffle=True, penalty=l1, loss=hinge, l1_ratio=0.0, fit_intercept=True, class_weight=balanced, alpha=0.005 \n",
      "[CV]  warm_start=False, shuffle=True, penalty=l1, loss=hinge, l1_ratio=0.0, fit_intercept=True, class_weight=balanced, alpha=0.005, total=   0.5s\n",
      "[CV] warm_start=False, shuffle=True, penalty=l1, loss=hinge, l1_ratio=0.0, fit_intercept=True, class_weight=balanced, alpha=0.005 \n",
      "[CV]  warm_start=False, shuffle=True, penalty=l1, loss=hinge, l1_ratio=0.0, fit_intercept=True, class_weight=balanced, alpha=0.005, total=   0.4s\n"
     ]
    },
    {
     "name": "stderr",
     "output_type": "stream",
     "text": [
      "[Parallel(n_jobs=-1)]: Done  50 out of  50 | elapsed:  4.3min finished\n"
     ]
    },
    {
     "data": {
      "text/plain": [
       "RandomizedSearchCV(estimator=SGDClassifier(), n_jobs=-1,\n",
       "                   param_distributions={'alpha': [0.0001, 0.005, 0.01],\n",
       "                                        'class_weight': ['balanced', None],\n",
       "                                        'fit_intercept': [True, False],\n",
       "                                        'l1_ratio': [0.0, 0.15, 0.3],\n",
       "                                        'loss': ['squared_loss', 'huber',\n",
       "                                                 'epsilon_insensitive',\n",
       "                                                 'squared_epsilon_insensitive',\n",
       "                                                 'hinge', 'modified_huber',\n",
       "                                                 'squared_hinge',\n",
       "                                                 'perceptron'],\n",
       "                                        'penalty': ['l2', 'l1', 'elasticnet'],\n",
       "                                        'shuffle': [True, False],\n",
       "                                        'warm_start': [True, False]},\n",
       "                   random_state=654, refit='f1', scoring='f1', verbose=2)"
      ]
     },
     "execution_count": 40,
     "metadata": {},
     "output_type": "execute_result"
    }
   ],
   "source": [
    "# sgdc_random = RandomizedSearchCV(estimator=sgdc_test, scoring=\"f1\",\n",
    "#     param_distributions=sgdc_grid, verbose=2, refit=\"f1\",\n",
    "#     random_state=654, n_jobs=-1)\n",
    "\n",
    "# sgdc_random.fit(tf_idf_train, target_train)"
   ]
  },
  {
   "cell_type": "code",
   "execution_count": 41,
   "metadata": {},
   "outputs": [
    {
     "name": "stdout",
     "output_type": "stream",
     "text": [
      "F1 лучшей модели при валидации:  0.655\n"
     ]
    }
   ],
   "source": [
    "sgdc_random_best_score = 0.655\n",
    "\n",
    "print(\"F1 лучшей модели при валидации: \", sgdc_random_best_score)"
   ]
  },
  {
   "cell_type": "code",
   "execution_count": 42,
   "metadata": {},
   "outputs": [
    {
     "data": {
      "text/plain": [
       "{'warm_start': False,\n",
       " 'shuffle': False,\n",
       " 'penalty': 'l2',\n",
       " 'loss': 'epsilon_insensitive',\n",
       " 'l1_ratio': 0.0,\n",
       " 'fit_intercept': True,\n",
       " 'class_weight': 'balanced',\n",
       " 'alpha': 0.005}"
      ]
     },
     "execution_count": 42,
     "metadata": {},
     "output_type": "execute_result"
    }
   ],
   "source": [
    "sgdc_best_params = {\n",
    "    'warm_start': False,\n",
    "    'shuffle': False,\n",
    "    'penalty': 'l2',\n",
    "    'loss': 'epsilon_insensitive',\n",
    "    'l1_ratio': 0.0,\n",
    "    'fit_intercept': True,\n",
    "    'class_weight': 'balanced',\n",
    "    'alpha': 0.005\n",
    "}\n",
    "\n",
    "sgdc_best_params"
   ]
  },
  {
   "cell_type": "code",
   "execution_count": 43,
   "metadata": {},
   "outputs": [],
   "source": [
    "sgdc = SGDClassifier(**sgdc_best_params)"
   ]
  },
  {
   "cell_type": "code",
   "execution_count": 44,
   "metadata": {},
   "outputs": [
    {
     "name": "stdout",
     "output_type": "stream",
     "text": [
      "CPU times: user 159 ms, sys: 0 ns, total: 159 ms\n",
      "Wall time: 170 ms\n"
     ]
    },
    {
     "data": {
      "text/plain": [
       "SGDClassifier(alpha=0.005, class_weight='balanced', l1_ratio=0.0,\n",
       "              loss='epsilon_insensitive', shuffle=False)"
      ]
     },
     "execution_count": 44,
     "metadata": {},
     "output_type": "execute_result"
    }
   ],
   "source": [
    "%%time\n",
    "\n",
    "sgdc.fit(tf_idf_train, target_train)"
   ]
  },
  {
   "cell_type": "code",
   "execution_count": 45,
   "metadata": {},
   "outputs": [],
   "source": [
    "sgdc_pred = sgdc.predict(tf_idf_test)"
   ]
  },
  {
   "cell_type": "code",
   "execution_count": 46,
   "metadata": {},
   "outputs": [
    {
     "name": "stdout",
     "output_type": "stream",
     "text": [
      "F1 на обучающей выборке:  0.9432286313537723\n",
      "F1 на тестовой выборке:  0.655880149812734\n"
     ]
    }
   ],
   "source": [
    "print(\"F1 на обучающей выборке: \", sgdc.score(tf_idf_train, target_train))\n",
    "print(\"F1 на тестовой выборке: \", f1_score(sgdc_pred, target_test))"
   ]
  },
  {
   "cell_type": "markdown",
   "metadata": {},
   "source": [
    "Рассмотрим матрицу ошибок последней обученной модели."
   ]
  },
  {
   "cell_type": "code",
   "execution_count": 47,
   "metadata": {},
   "outputs": [
    {
     "data": {
      "image/png": "[encoded data removed]",
      "text/plain": [
       "<Figure size 1152x432 with 2 Axes>"
      ]
     },
     "metadata": {
      "needs_background": "light"
     },
     "output_type": "display_data"
    }
   ],
   "source": [
    "plt.figure(figsize=(16, 6))\n",
    "plt.subplot(1, 2, 2)\n",
    "cnf_matrix_valid = confusion_matrix(target_test, sgdc_pred)\n",
    "plot_confusion_matrix(cnf_matrix_valid, classes=['0', '1'])\n",
    "\n",
    "plt.show()"
   ]
  },
  {
   "cell_type": "markdown",
   "metadata": {},
   "source": [
    "#### Апсемплинг"
   ]
  },
  {
   "cell_type": "code",
   "execution_count": 48,
   "metadata": {},
   "outputs": [
    {
     "name": "stdout",
     "output_type": "stream",
     "text": [
      "F1 лучшей модели при валидации:  0.6895119418483905\n",
      "CPU times: user 1.38 s, sys: 120 ms, total: 1.5 s\n",
      "Wall time: 1.51 s\n"
     ]
    }
   ],
   "source": [
    "%%time\n",
    "\n",
    "oversample_pipeline = make_pipeline(RandomOverSampler(random_state=123), \n",
    "                                    SGDClassifier(**sgdc_best_params))\n",
    "\n",
    "sgdc_oversample_score = cross_val_score(oversample_pipeline, tf_idf_train,\n",
    "                                        target_train, scoring='f1', cv=5)\n",
    "\n",
    "print(\"F1 лучшей модели при валидации: \", sgdc_oversample_score.max())"
   ]
  },
  {
   "cell_type": "markdown",
   "metadata": {},
   "source": [
    "#### Даунсемплинг"
   ]
  },
  {
   "cell_type": "code",
   "execution_count": 49,
   "metadata": {},
   "outputs": [
    {
     "name": "stdout",
     "output_type": "stream",
     "text": [
      "F1 лучшей модели при валидации:  0.677872256278426\n",
      "CPU times: user 390 ms, sys: 20 ms, total: 410 ms\n",
      "Wall time: 420 ms\n"
     ]
    }
   ],
   "source": [
    "%%time\n",
    "\n",
    "undersample_pipeline = make_pipeline(RandomUnderSampler(random_state=321), \n",
    "                                     SGDClassifier(**sgdc_best_params))\n",
    "\n",
    "sgdc_undersample_score = cross_val_score(undersample_pipeline, tf_idf_train,\n",
    "                                        target_train, scoring='f1', cv=5)\n",
    "\n",
    "print(\"F1 лучшей модели при валидации: \", sgdc_undersample_score.max())"
   ]
  },
  {
   "cell_type": "markdown",
   "metadata": {},
   "source": [
    "После проведения апсемплинга удалось немного улучшить качество модели до 0.68. Однако этого все равно мало, чтобы модель прошла по условию задачи.\n",
    "\n",
    "Соберем результаты кросс-валидации в одну таблицу, чтобы было удобнее выбрать наилучшую модель."
   ]
  },
  {
   "cell_type": "code",
   "execution_count": 54,
   "metadata": {},
   "outputs": [
    {
     "data": {
      "text/html": [
       "<div>\n",
       "<style scoped>\n",
       "    .dataframe tbody tr th:only-of-type {\n",
       "        vertical-align: middle;\n",
       "    }\n",
       "\n",
       "    .dataframe tbody tr th {\n",
       "        vertical-align: top;\n",
       "    }\n",
       "\n",
       "    .dataframe thead th {\n",
       "        text-align: right;\n",
       "    }\n",
       "</style>\n",
       "<table border=\"1\" class=\"dataframe\">\n",
       "  <thead>\n",
       "    <tr style=\"text-align: right;\">\n",
       "      <th></th>\n",
       "      <th>Logistic Regression</th>\n",
       "      <th>Logistic Regression (oversampling)</th>\n",
       "      <th>Logistic Regression (undersampling)</th>\n",
       "      <th>SGD Classifier</th>\n",
       "      <th>SGD Classifier (oversampling)</th>\n",
       "      <th>SGD Classifier (undersampling)</th>\n",
       "    </tr>\n",
       "  </thead>\n",
       "  <tbody>\n",
       "    <tr>\n",
       "      <td>F1-value</td>\n",
       "      <td>0.76</td>\n",
       "      <td>0.67</td>\n",
       "      <td>0.67</td>\n",
       "      <td>0.66</td>\n",
       "      <td>0.69</td>\n",
       "      <td>0.68</td>\n",
       "    </tr>\n",
       "  </tbody>\n",
       "</table>\n",
       "</div>"
      ],
      "text/plain": [
       "          Logistic Regression  Logistic Regression (oversampling)  \\\n",
       "F1-value                 0.76                                0.67   \n",
       "\n",
       "          Logistic Regression (undersampling)  SGD Classifier  \\\n",
       "F1-value                                 0.67            0.66   \n",
       "\n",
       "          SGD Classifier (oversampling)  SGD Classifier (undersampling)  \n",
       "F1-value                           0.69                            0.68  "
      ]
     },
     "execution_count": 54,
     "metadata": {},
     "output_type": "execute_result"
    }
   ],
   "source": [
    "result = pd.DataFrame(data={\n",
    "    'Logistic Regression': log_random_best_score,\n",
    "    'Logistic Regression (oversampling)': log_oversample_score.max(),\n",
    "    'Logistic Regression (undersampling)': log_undersample_score.max(),\n",
    "    'SGD Classifier': sgdc_random_best_score,\n",
    "    'SGD Classifier (oversampling)': sgdc_oversample_score.max(),\n",
    "    'SGD Classifier (undersampling)': sgdc_undersample_score.max()\n",
    "}, index=[\"F1-value\"]).round(2)\n",
    "\n",
    "result"
   ]
  },
  {
   "cell_type": "markdown",
   "metadata": {},
   "source": [
    "# 3. Выводы"
   ]
  },
  {
   "cell_type": "markdown",
   "metadata": {},
   "source": [
    "В рамках задачи было необходимо обучить модель для поиска и отправки на модерацию потенциально токсичных комментариев. Для этого сначала нужно было подготовить признаки в соответствии с выбранным способом обработки. В качестве способа обработки был выбрана оценка важности через вычисление величины TF-IDF. Перед векторизацией, тексты были очищены от лишних символов, приведены к одному регистру, токенизированы, лемматизированы.\n",
    "\n",
    "После подготовки признаков было произведено обучение нескольких моделей классификации. При обучении был учтен дисбаланс классов — он был учтен как при настройке гиперпараметров, так и при помощи апсемплинга/даунсемплинга обучающей выборки. Модели сравнивались не только по величине F1-метрики, но также были сопоставлены их матрицы ошибок. В процессе сравнения было определено, что лучшей и наиболее гармоничной по F1-метрике и матрице ошибок получилась первая модель логистической регрессии (F1 = 0.76), а худшей — классификатор стохастического градиентного спуска (F1 = 0.66).\n",
    "\n",
    "При проверке модели логистической регрессии на тестовой выборке удалось достичь минимально допустимого значения F1-меры (F1 = 0.75)."
   ]
  }
 ],
 "metadata": {
  "kernelspec": {
   "display_name": "Python 3",
   "language": "python",
   "name": "python3"
  },
  "language_info": {
   "codemirror_mode": {
    "name": "ipython",
    "version": 3
   },
   "file_extension": ".py",
   "mimetype": "text/x-python",
   "name": "python",
   "nbconvert_exporter": "python",
   "pygments_lexer": "ipython3",
   "version": "3.7.4"
  }
 },
 "nbformat": 4,
 "nbformat_minor": 2
}
